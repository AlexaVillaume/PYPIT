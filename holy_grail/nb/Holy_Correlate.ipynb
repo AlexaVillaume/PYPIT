{
 "cells": [
  {
   "cell_type": "markdown",
   "metadata": {},
   "source": [
    "# Code on Correlating IDs vs. Wavelengths"
   ]
  },
  {
   "cell_type": "code",
   "execution_count": 124,
   "metadata": {
    "collapsed": false
   },
   "outputs": [],
   "source": [
    "# imports\n",
    "import json\n",
    "\n",
    "from scipy.optimize import curve_fit\n",
    "\n",
    "sys.path.append(os.path.abspath(\"/Users/xavier/local/Python/PYPIT/src/\"))\n",
    "import armsgs as msgs\n",
    "import ardebug\n",
    "debug = ardebug.init()\n",
    "last_updated = \"26 November 2015\"\n",
    "version = '0.3'\n",
    "verbose = False\n",
    "msgs = msgs.get_logger((None, debug, last_updated, version, verbose))\n",
    "import ararclines\n",
    "import ararc as pyparc\n",
    "import arutils"
   ]
  },
  {
   "cell_type": "markdown",
   "metadata": {},
   "source": [
    "## Read in IDs"
   ]
  },
  {
   "cell_type": "code",
   "execution_count": 4,
   "metadata": {
    "collapsed": false
   },
   "outputs": [
    {
     "data": {
      "text/plain": [
       "[u'function',\n",
       " u'ions',\n",
       " u'yrej',\n",
       " u'xnorm',\n",
       " u'fitc',\n",
       " u'nrej',\n",
       " u'mask',\n",
       " u'xrej',\n",
       " u'fmax',\n",
       " u'fmin',\n",
       " u'shift',\n",
       " u'xfit',\n",
       " u'yfit',\n",
       " u'spec']"
      ]
     },
     "execution_count": 4,
     "metadata": {},
     "output_type": "execute_result"
    }
   ],
   "source": [
    "wvsoln_fil = '/Users/xavier/PYPIT/Tiffany/lris_red/MasterFrames/MasterWaveSoln_01.json'\n",
    "with open(wvsoln_fil) as data_file:    \n",
    "        wvsoln_dict = json.load(data_file)\n",
    "wvsoln_dict.keys()"
   ]
  },
  {
   "cell_type": "markdown",
   "metadata": {},
   "source": [
    "## ID pixels"
   ]
  },
  {
   "cell_type": "code",
   "execution_count": 6,
   "metadata": {
    "collapsed": false
   },
   "outputs": [
    {
     "data": {
      "text/plain": [
       "array([  140.93689967,   154.42571123,   194.07916869,   205.86298773,\n",
       "         212.86313041,   253.05224277,   272.55370351,   307.26868399,\n",
       "         335.39219804,   349.2515197 ,   378.94265744,   391.93324683,\n",
       "         425.84238777,   456.89126564,   481.01486112,   499.6324469 ,\n",
       "         530.18107916,   542.27304318,   607.60782398,   624.11784818,\n",
       "         665.38725867,   714.8788845 ,   739.04367662,   871.12853433,\n",
       "         893.42568193,   934.96578041,   956.46186979,  1005.91212302,\n",
       "        1022.5280144 ,  1066.56388483,  1083.79186726,  1152.3883973 ,\n",
       "        1186.31546381,  1217.15943528,  1233.12444534,  1246.16520617,\n",
       "        1278.06325613,  1286.78211123,  1344.23944597,  1443.37024723,\n",
       "        1501.14774051,  1537.09369339,  1651.17129411,  1677.04690861,\n",
       "        1718.40233216,  1767.86758504,  1787.00940503,  1849.84686133,\n",
       "        1857.67905523,  2018.04455387])"
      ]
     },
     "execution_count": 6,
     "metadata": {},
     "output_type": "execute_result"
    }
   ],
   "source": [
    "pix = np.array(wvsoln_dict['xfit'])*(wvsoln_dict['xnorm']-1)\n",
    "pix"
   ]
  },
  {
   "cell_type": "code",
   "execution_count": 176,
   "metadata": {
    "collapsed": false
   },
   "outputs": [
    {
     "data": {
      "text/plain": [
       "2048.0"
      ]
     },
     "execution_count": 176,
     "metadata": {},
     "output_type": "execute_result"
    }
   ],
   "source": [
    "wvsoln_dict['xnorm']"
   ]
  },
  {
   "cell_type": "code",
   "execution_count": 80,
   "metadata": {
    "collapsed": false
   },
   "outputs": [
    {
     "data": {
      "text/plain": [
       "(array([ 0.42556352,  0.43645612,  0.45674928,  0.46725055,  0.49140797,\n",
       "         0.49952517,  0.52103756,  0.52945377,  0.56296453]),\n",
       " array([  871.12853433,   893.42568193,   934.96578041,   956.46186979,\n",
       "         1005.91212302,  1022.5280144 ,  1066.56388483,  1083.79186726,\n",
       "         1152.3883973 ]),\n",
       " array([ 6931.3787,  6967.352 ,  7034.352 ,  7069.167 ,  7149.012 ,\n",
       "         7175.9154,  7247.1631,  7274.94  ,  7386.014 ]))"
      ]
     },
     "execution_count": 80,
     "metadata": {},
     "output_type": "execute_result"
    }
   ],
   "source": [
    "diff = np.abs(pix-1024)\n",
    "asrt = np.argsort(diff)\n",
    "inner9 = pix[asrt[0:9]]\n",
    "inner9.sort()\n",
    "x9 = inner9/2047.\n",
    "inner9wv = np.array(wvsoln_dict['yfit'])[asrt[0:9]]\n",
    "inner9wv.sort()\n",
    "x9,inner9, inner9wv"
   ]
  },
  {
   "cell_type": "code",
   "execution_count": 115,
   "metadata": {
    "collapsed": false
   },
   "outputs": [
    {
     "data": {
      "text/plain": [
       "(array([ 5533.57607429,  3266.11890897,    43.32775718]),\n",
       " 0.034446151915919911,\n",
       " array([0, 0, 0, 0, 0, 0, 0, 0, 0]))"
      ]
     },
     "execution_count": 115,
     "metadata": {},
     "output_type": "execute_result"
    }
   ],
   "source": [
    "## Re-fit in pixel space (probably unnecessary)\n",
    "func = 'polynomial'\n",
    "mask, param9 = arutils.robust_polyfit(x9, inner9wv, 2, function=func)\n",
    "wavefit = arutils.func_val(param9, x9, func)\n",
    "rms = np.sqrt(np.mean((wavefit-inner9wv)**2))\n",
    "param9, rms, mask"
   ]
  },
  {
   "cell_type": "code",
   "execution_count": 112,
   "metadata": {
    "collapsed": true
   },
   "outputs": [],
   "source": [
    "# Extrema\n",
    "x9min = np.min(x9)\n",
    "x9max = np.max(x9)"
   ]
  },
  {
   "cell_type": "code",
   "execution_count": 113,
   "metadata": {
    "collapsed": false
   },
   "outputs": [
    {
     "data": {
      "text/plain": [
       "(0.49426402824610371, 7158.4860010091643, 3308.9496125644928)"
      ]
     },
     "execution_count": 113,
     "metadata": {},
     "output_type": "execute_result"
    }
   ],
   "source": [
    "# Means\n",
    "x9cen = np.mean([x9min,x9max])\n",
    "#wv9cen = np.mean(inner9wv)\n",
    "wv9cen = arutils.func_val(param9, x9cen, func)\n",
    "dwv9cen = param9[1] + param9[2]*(x9max**2-x9min**2)/(x9max-x9min)\n",
    "#\n",
    "x9cen, wv9cen, dwv9cen"
   ]
  },
  {
   "cell_type": "markdown",
   "metadata": {},
   "source": [
    "### Fitting the whole lot\n",
    "\n",
    "$\\lambda - \\lambda_9 - \\Delta\\lambda_9 (x-x_9) = \\lambda_2 (x-x_9)^2 + \\lambda_3 (x-x_9)^3$"
   ]
  },
  {
   "cell_type": "code",
   "execution_count": 118,
   "metadata": {
    "collapsed": false
   },
   "outputs": [
    {
     "name": "stdout",
     "output_type": "stream",
     "text": [
      "-0.0687005039009  0.21920475682    \n",
      "-0.0578079061497  0.149447648177   \n",
      "-0.0375147461713  0.000403799833904\n",
      "-0.0270134812088  0.0672471707628  \n",
      "-0.00285605412898 -0.0234618056218 \n",
      "0.00526113755873  0.0205599042415  \n",
      "0.0267735315169   0.084832251157   \n",
      "0.0351897417866   0.0129165397507  \n",
      "0.0687005039009   0.201493224852   \n"
     ]
    }
   ],
   "source": [
    "x9val = x9 - x9cen\n",
    "y9val = inner9wv - wv9cen - dwv9cen*x9val\n",
    "yest = wv9cen + dwv9cen*x9val\n",
    "xdb.xpcol(x9val, y9val) #np.array(wvsoln_dict['yfit']), yest)"
   ]
  },
  {
   "cell_type": "code",
   "execution_count": 120,
   "metadata": {
    "collapsed": false
   },
   "outputs": [],
   "source": [
    "#Setup\n",
    "xval = np.array(wvsoln_dict['xfit'])-x9cen\n",
    "yval = np.array(wvsoln_dict['yfit'])-wv9cen-dwv9cen*xval"
   ]
  },
  {
   "cell_type": "code",
   "execution_count": 123,
   "metadata": {
    "collapsed": true
   },
   "outputs": [],
   "source": [
    "def x2x3_fit(x, p0, p1):\n",
    "    return p0*x**2 + p1*x**3"
   ]
  },
  {
   "cell_type": "code",
   "execution_count": 126,
   "metadata": {
    "collapsed": false
   },
   "outputs": [
    {
     "data": {
      "text/plain": [
       "array([  49.3506657 , -150.43874706])"
      ]
     },
     "execution_count": 126,
     "metadata": {},
     "output_type": "execute_result"
    }
   ],
   "source": [
    "# Fit\n",
    "#mask, param = arutils.robust_polyfit(xval, yval, 1, function=func)\n",
    "#param\n",
    "popt, pcov = curve_fit(x2x3_fit, xval, yval)\n",
    "popt"
   ]
  },
  {
   "cell_type": "code",
   "execution_count": 131,
   "metadata": {
    "collapsed": false
   },
   "outputs": [
    {
     "data": {
      "text/plain": [
       "0.050942055471585132"
      ]
     },
     "execution_count": 131,
     "metadata": {},
     "output_type": "execute_result"
    }
   ],
   "source": [
    "yfit = wv9cen + dwv9cen*xval + popt[0]*xval**2 + popt[1]*xval**3\n",
    "#xdb.xpcol(xval, yfit-np.array(wvsoln_dict['yfit']))\n",
    "rms9 = np.sqrt(np.mean((yfit-np.array(wvsoln_dict['yfit']))**2))\n",
    "rms9\n",
    "# Excellent!"
   ]
  },
  {
   "cell_type": "markdown",
   "metadata": {},
   "source": [
    "### Working the other way..\n",
    "\n",
    "$xx = (\\lambda-\\lambda_9)/\\lambda_9$\n",
    "\n",
    "$pix = p_0 + p_1 xx + p_2 xx^2 + p_3 xx^3$\n",
    "\n",
    "Fix $p_0$ from $x_9$\n",
    "\n",
    "Fix $p_1$ from $\\Delta\\lambda_9$"
   ]
  },
  {
   "cell_type": "code",
   "execution_count": 153,
   "metadata": {
    "collapsed": false
   },
   "outputs": [
    {
     "name": "stdout",
     "output_type": "stream",
     "text": [
      "6931.3787 871.128534335 871.137716864\n",
      "6967.352  893.425681931 893.428566434\n",
      "7034.352  934.965780407 934.928217299\n",
      "7069.167  956.461869785 956.483873863\n",
      "7149.012  1005.91212302 1005.89737904\n",
      "7175.9154 1022.5280144  1022.5399989 \n",
      "7247.1631 1066.56388483 1066.5971758 \n",
      "7274.94   1083.79186726 1083.76674168\n",
      "7386.014  1152.3883973  1152.38648339\n"
     ]
    },
    {
     "data": {
      "text/plain": [
       "(array([ -3.54210588e+03,   6.53672138e-01,  -2.44787089e-06]),\n",
       " 0.02132308346633198,\n",
       " array([0, 0, 0, 0, 0, 0, 0, 0, 0]))"
      ]
     },
     "execution_count": 153,
     "metadata": {},
     "output_type": "execute_result"
    }
   ],
   "source": [
    "## Re-fit \n",
    "func = 'polynomial'\n",
    "mask, pparam9 = arutils.robust_polyfit(inner9wv, inner9, 2, function=func)\n",
    "pixfit = arutils.func_val(pparam9, inner9wv, func)\n",
    "prms = np.sqrt(np.mean((pixfit-inner9)**2))\n",
    "xdb.xpcol(inner9wv, inner9, pixfit)\n",
    "pparam9, prms, mask"
   ]
  },
  {
   "cell_type": "code",
   "execution_count": 154,
   "metadata": {
    "collapsed": true
   },
   "outputs": [],
   "source": [
    "# Extrema\n",
    "wv9min = np.min(inner9wv)\n",
    "wv9max = np.max(inner9wv)"
   ]
  },
  {
   "cell_type": "code",
   "execution_count": 162,
   "metadata": {
    "collapsed": false
   },
   "outputs": [
    {
     "data": {
      "text/plain": [
       "(7158.6963500000002, 1011.8885897264831, 4428.5485934417866)"
      ]
     },
     "execution_count": 162,
     "metadata": {},
     "output_type": "execute_result"
    }
   ],
   "source": [
    "# Means\n",
    "wv9cen = np.mean([wv9min,wv9max])\n",
    "pix9cen = arutils.func_val(pparam9, wv9cen, func)\n",
    "dpix9cen = pparam9[1]*wv9cen + pparam9[2]*(wv9max**2-wv9min**2)/(wv9max-wv9min)*wv9cen\n",
    "#\n",
    "wv9cen, pix9cen, dpix9cen"
   ]
  },
  {
   "cell_type": "code",
   "execution_count": 164,
   "metadata": {
    "collapsed": false
   },
   "outputs": [
    {
     "name": "stdout",
     "output_type": "stream",
     "text": [
      "-0.0317540567285  871.128534335 -0.135672130857   \n",
      "-0.0267289378743  893.425681931 -0.0925075678784  \n",
      "-0.0173696918993  934.965780407 -0.000284690298642\n",
      "-0.0125063762482  956.461869785 -0.0416249979578  \n",
      "-0.00135280916057 1005.91212302 0.0145143965005   \n",
      "0.00240533320009  1022.5280144  -0.0127102840032  \n",
      "0.0123579414009   1066.56388483 -0.0524489004149  \n",
      "0.0162381031848   1083.79186726 -0.00795148873378 \n",
      "0.0317540567285   1152.3883973  -0.124575682561   \n"
     ]
    }
   ],
   "source": [
    "# Checking\n",
    "wv9val = (inner9wv - wv9cen)/wv9cen\n",
    "inner9val = inner9 - pix9cen - dpix9cen*wv9val\n",
    "#yest = wv9cen + dwv9cen*x9val\n",
    "xdb.xpcol(wv9val, inner9, inner9val) #np.array(wvsoln_dict['yfit']), yest)"
   ]
  },
  {
   "cell_type": "code",
   "execution_count": 171,
   "metadata": {
    "collapsed": true
   },
   "outputs": [],
   "source": [
    "#Setup\n",
    "xxval = (np.array(wvsoln_dict['yfit'])-wv9cen)/wv9cen\n",
    "yyval = 2047*np.array(wvsoln_dict['xfit'])-pix9cen-dpix9cen*xxval"
   ]
  },
  {
   "cell_type": "code",
   "execution_count": 172,
   "metadata": {
    "collapsed": false
   },
   "outputs": [
    {
     "data": {
      "text/plain": [
       "array([-147.3954693 ,  970.41945234])"
      ]
     },
     "execution_count": 172,
     "metadata": {},
     "output_type": "execute_result"
    }
   ],
   "source": [
    "# Fit\n",
    "ppopt, ppcov = curve_fit(x2x3_fit, xxval, yyval)\n",
    "ppopt\n",
    "## Will want to normalize to keep these numbers tractable.."
   ]
  },
  {
   "cell_type": "code",
   "execution_count": 175,
   "metadata": {
    "collapsed": false
   },
   "outputs": [
    {
     "name": "stdout",
     "output_type": "stream",
     "text": [
      "-0.193818299054   140.952329623 0.0154299549505   \n",
      "-0.190875584491   154.468104794 0.0423935628184   \n",
      "-0.182237964319   194.070588876 -0.00857981560225 \n",
      "-0.179663040185   205.856573718 -0.00641400848508 \n",
      "-0.178128961986   212.874149015 0.0110186093297   \n",
      "-0.169334651273   253.04349707  -0.00874570457773 \n",
      "-0.165044973587   272.601063591 0.0473600842211   \n",
      "-0.157435054498   307.239761103 -0.0289228826278  \n",
      "-0.15123941526    335.389036139 -0.00316189742267 \n",
      "-0.148189795758   349.228025402 -0.0234942998537  \n",
      "-0.141636605386   378.929797567 -0.0128598685004  \n",
      "-0.138767856804   391.916928117 -0.0163187129184  \n",
      "-0.131266225589   425.835066993 -0.00732077519746 \n",
      "-0.124389666283   456.874566343 -0.0166992932237  \n",
      "-0.119038915514   480.993419294 -0.0214418284797  \n",
      "-0.114897630768   499.641063556 0.00861665152763  \n",
      "-0.108111912024   530.160695051 -0.0203841052549  \n",
      "-0.105421198652   542.250634962 -0.0224082209515  \n",
      "-0.0908504591063  607.608662514 0.000838530973738 \n",
      "-0.0871679869478  624.098242022 -0.0196061605064  \n",
      "-0.0779361105322  665.390067667 0.00280899441373  \n",
      "-0.0668523745947  714.880913271 0.00202877031188  \n",
      "-0.061435620188   739.036620873 -0.00705574757978 \n",
      "-0.0317540567285  871.084513512 -0.0440208229961  \n",
      "-0.0267289378743  893.394353607 -0.0313283243094  \n",
      "-0.0173696918993  934.916509445 -0.0492709616781  \n",
      "-0.0125063762482  956.478542487 0.0166727017086   \n",
      "-0.00135280916057 1005.89733647 -0.0147865463935  \n",
      "0.00240533320009  1022.53988542 0.011871013387    \n",
      "0.0123579414009   1066.59565515 0.0317703155476   \n",
      "0.0162381031848   1083.76510904 -0.0267582122965  \n",
      "0.0317540567285   1152.39542231 0.00702500221723  \n",
      "0.0394276466273   1186.32618547 0.010721660489    \n",
      "0.0464102866998   1217.19832916 0.0388938825079   \n",
      "0.0500125487233   1233.12431216 -0.000133183854814\n",
      "0.0529638961429   1246.1724856  0.007279431185    \n",
      "0.0601794138118   1278.07374289 0.010486762191    \n",
      "0.0621540610533   1286.80446841 0.0223571858794   \n",
      "0.0751479771872   1344.26450772 0.0250617511529   \n",
      "0.0975440241993   1443.36525837 -0.00498885940306 \n",
      "0.110587963408    1501.14260843 -0.00513208036864 \n",
      "0.118689578166    1537.05730924 -0.036384155309   \n",
      "0.144385485774    1651.15494174 -0.0163523733549  \n",
      "0.150194951348    1676.99715833 -0.0497502801845  \n",
      "0.159483555969    1718.35673527 -0.0455968883523  \n",
      "0.170591528163    1767.88964966 0.0220646129987   \n",
      "0.174867683835    1786.98051588 -0.0288891470395  \n",
      "0.188933038066    1849.87094796 0.024086636143    \n",
      "0.19068927962     1857.73448853 0.0554332954259   \n",
      "0.226363051423    2018.0515782  0.00702433314564  \n"
     ]
    }
   ],
   "source": [
    "# Finally\n",
    "yyfit = pix9cen + dpix9cen*xxval + ppopt[0]*xxval**2 + ppopt[1]*xxval**3\n",
    "xdb.xpcol(xxval, yyfit, yyfit-np.array(wvsoln_dict['xfit'])*2047)\n",
    "#rms9 = np.sqrt(np.mean((yfit-np.array(wvsoln_dict['yfit']))**2))\n",
    "#rms9"
   ]
  },
  {
   "cell_type": "markdown",
   "metadata": {},
   "source": [
    "### Inner fraction (e.g. half)"
   ]
  },
  {
   "cell_type": "code",
   "execution_count": 71,
   "metadata": {
    "collapsed": false
   },
   "outputs": [
    {
     "data": {
      "text/plain": [
       "(array([  530.18107916,   542.27304318,   607.60782398,   624.11784818,\n",
       "          665.38725867,   714.8788845 ,   739.04367662,   871.12853433,\n",
       "          893.42568193,   934.96578041,   956.46186979,  1005.91212302,\n",
       "         1022.5280144 ,  1066.56388483,  1083.79186726,  1152.3883973 ,\n",
       "         1186.31546381,  1217.15943528,  1233.12444534,  1246.16520617,\n",
       "         1278.06325613,  1286.78211123,  1344.23944597,  1443.37024723,\n",
       "         1501.14774051]),\n",
       " array([ 6384.756 ,  6404.018 ,  6508.3255,  6534.6872,  6600.7754,\n",
       "         6680.1205,  6718.8974,  6931.3787,  6967.352 ,  7034.352 ,\n",
       "         7069.167 ,  7149.012 ,  7175.9154,  7247.1631,  7274.94  ,\n",
       "         7386.014 ,  7440.9469,  7490.9335,  7516.721 ,  7537.8488,\n",
       "         7589.5025,  7603.6384,  7696.6579,  7856.9844,  7950.362 ]))"
      ]
     },
     "execution_count": 71,
     "metadata": {},
     "output_type": "execute_result"
    }
   ],
   "source": [
    "diff = np.abs(pix-1024)\n",
    "innerhalfidx = diff < 512.\n",
    "innerh = pix[innerhalfidx]\n",
    "innerhwv = np.array(wvsoln_dict['yfit'])[innerhalfidx]\n",
    "innerh, innerhwv"
   ]
  },
  {
   "cell_type": "code",
   "execution_count": 72,
   "metadata": {
    "collapsed": false
   },
   "outputs": [
    {
     "data": {
      "text/plain": [
       "(array([  7.16580069e+03,   7.83526066e+02,   1.88217983e+00]),\n",
       " 0.35961639834686626)"
      ]
     },
     "execution_count": 72,
     "metadata": {},
     "output_type": "execute_result"
    }
   ],
   "source": [
    "## Re-fit in pixel space (probably unnecessary)\n",
    "func = 'legendre'\n",
    "mask, paramh = arutils.robust_polyfit(innerh, innerhwv, 2, function=func)\n",
    "wavehfit = arutils.func_val(paramh, innerh, func)\n",
    "rmsh = np.sqrt(np.mean((wavehfit-innerhwv)**2))\n",
    "paramh, rmsh"
   ]
  },
  {
   "cell_type": "markdown",
   "metadata": {},
   "source": [
    "## 2 parameters"
   ]
  },
  {
   "cell_type": "code",
   "execution_count": 27,
   "metadata": {
    "collapsed": false
   },
   "outputs": [
    {
     "data": {
      "text/plain": [
       "(7177.4766594754728, 1.597674859144433)"
      ]
     },
     "execution_count": 27,
     "metadata": {},
     "output_type": "execute_result"
    }
   ],
   "source": [
    "## 2 param model\n",
    "wcen = arutils.func_val(wvsoln_dict['fitc'], 0.5, wvsoln_dict['function'], minv=wvsoln_dict['fmin'], maxv=wvsoln_dict['fmax'])\n",
    "ends = arutils.func_val(wvsoln_dict['fitc'], np.array([0.,1.]), wvsoln_dict['function'], minv=wvsoln_dict['fmin'], maxv=wvsoln_dict['fmax'])\n",
    "dlamb = (ends[1]-ends[0])/2048.\n",
    "wcen, dlamb"
   ]
  },
  {
   "cell_type": "code",
   "execution_count": 30,
   "metadata": {
    "collapsed": false
   },
   "outputs": [],
   "source": [
    "# How is a 2 parameter model?\n",
    "wv9_true = arutils.func_val(wvsoln_dict['fitc'], inner9/2047., wvsoln_dict['function'], minv=wvsoln_dict['fmin'], maxv=wvsoln_dict['fmax'])\n",
    "wv9_2 = wcen + dlamb*(inner9-0.5*2047.)\n",
    "#xdb.xplot(inner9, wv9_true-wv9_2, scatter=True)\n",
    "# Behaves as expected"
   ]
  },
  {
   "cell_type": "markdown",
   "metadata": {},
   "source": [
    "## Constant resolution?"
   ]
  },
  {
   "cell_type": "code",
   "execution_count": 36,
   "metadata": {
    "collapsed": false
   },
   "outputs": [],
   "source": [
    "wave = arutils.func_val(wvsoln_dict['fitc'], np.arange(2048)/2047., wvsoln_dict['function'], minv=wvsoln_dict['fmin'], maxv=wvsoln_dict['fmax'])\n",
    "dwv = np.abs(wave-np.roll(wave,1))\n",
    "dwv[0]=dwv[1]\n",
    "invR = dwv / wave\n",
    "#xdb.xplot(invR, scatter=True)\n",
    "xdb.xplot(dwv, scatter=True)\n",
    "# Nope"
   ]
  },
  {
   "cell_type": "markdown",
   "metadata": {},
   "source": [
    "## Examine Fits"
   ]
  },
  {
   "cell_type": "code",
   "execution_count": 74,
   "metadata": {
    "collapsed": false
   },
   "outputs": [
    {
     "data": {
      "text/plain": [
       "(array([ 5553.12280678,  3150.81713945,   270.5175083 ,  -149.33064416]),\n",
       " 0.044789844100892401)"
      ]
     },
     "execution_count": 74,
     "metadata": {},
     "output_type": "execute_result"
    }
   ],
   "source": [
    "# Fitting..\n",
    "func = 'polynomial'\n",
    "#func = 'legendre'\n",
    "#func = 'chebyshev'\n",
    "mask, param = arutils.robust_polyfit(np.array(wvsoln_dict['xfit']), np.array(wvsoln_dict['yfit']), 3, function=func)\n",
    "wave = arutils.func_val(param, np.array(wvsoln_dict['xfit']), func)\n",
    "rms = np.sqrt(np.mean((wave-np.array(wvsoln_dict['yfit']))**2))\n",
    "param, rms\n",
    "# All 3 give nearly identical RMS for deg=2 and 3\n"
   ]
  },
  {
   "cell_type": "markdown",
   "metadata": {},
   "source": [
    "## Cross-correlate"
   ]
  },
  {
   "cell_type": "code",
   "execution_count": 75,
   "metadata": {
    "collapsed": false
   },
   "outputs": [
    {
     "data": {
      "text/plain": [
       "array([ 0.06885046,  0.07544002,  0.09481151,  0.10056814,  0.10398785,\n",
       "        0.12362103,  0.13314788,  0.15010683,  0.16384572,  0.17061628,\n",
       "        0.18512099,  0.19146715,  0.20803243,  0.22320042,  0.23498528,\n",
       "        0.24408034,  0.25900395,  0.26491111,  0.29682844,  0.30489392,\n",
       "        0.32505484,  0.34923248,  0.36103746,  0.42556352,  0.43645612,\n",
       "        0.45674928,  0.46725055,  0.49140797,  0.49952517,  0.52103756,\n",
       "        0.52945377,  0.56296453,  0.57953858,  0.59460647,  0.60240569,\n",
       "        0.60877636,  0.62435919,  0.62861852,  0.65668757,  0.70511492,\n",
       "        0.73334037,  0.75090068,  0.80662985,  0.8192706 ,  0.83947354,\n",
       "        0.86363829,  0.87298945,  0.90368679,  0.90751297,  0.98585469])"
      ]
     },
     "execution_count": 75,
     "metadata": {},
     "output_type": "execute_result"
    }
   ],
   "source": [
    "np.array(wvsoln_dict['xfit'])"
   ]
  },
  {
   "cell_type": "code",
   "execution_count": null,
   "metadata": {
    "collapsed": true
   },
   "outputs": [],
   "source": []
  }
 ],
 "metadata": {
  "kernelspec": {
   "display_name": "Python 2",
   "language": "python",
   "name": "python2"
  },
  "language_info": {
   "codemirror_mode": {
    "name": "ipython",
    "version": 2
   },
   "file_extension": ".py",
   "mimetype": "text/x-python",
   "name": "python",
   "nbconvert_exporter": "python",
   "pygments_lexer": "ipython2",
   "version": "2.7.11"
  }
 },
 "nbformat": 4,
 "nbformat_minor": 0
}
