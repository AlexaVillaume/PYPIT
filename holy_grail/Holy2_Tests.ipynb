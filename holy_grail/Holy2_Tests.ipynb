{
 "cells": [
  {
   "cell_type": "markdown",
   "metadata": {},
   "source": [
    "# Running Holy 2 Tests"
   ]
  },
  {
   "cell_type": "code",
   "execution_count": 1,
   "metadata": {
    "collapsed": false
   },
   "outputs": [
    {
     "name": "stderr",
     "output_type": "stream",
     "text": [
      "/Users/xavier/local/Python/PYPIT/src/arutils.py:27: UserWarning: ds9 module not installed\n",
      "  warnings.warn(\"ds9 module not installed\")\n"
     ]
    }
   ],
   "source": [
    "# imports\n",
    "import json\n",
    "\n",
    "from scipy.optimize import curve_fit\n",
    "\n",
    "sys.path.append(os.path.abspath(\"/Users/xavier/local/Python/PYPIT/src/\"))\n",
    "sys.path.append(os.path.abspath(\"/Users/xavier/local/Python/PYPIT/holy_grail/\"))\n",
    "\n",
    "import armsgs as msgs\n",
    "import ardebug\n",
    "debug = ardebug.init()\n",
    "last_updated = \"26 November 2015\"\n",
    "version = '0.3'\n",
    "verbose = False\n",
    "msgs = msgs.get_logger((None, debug, last_updated, version, verbose))\n",
    "import ararclines\n",
    "import ararc as pyparc\n",
    "import arholy as pyholy\n",
    "import test_holy as ptstholy\n",
    "import arutils"
   ]
  },
  {
   "cell_type": "code",
   "execution_count": 112,
   "metadata": {
    "collapsed": false
   },
   "outputs": [
    {
     "name": "stderr",
     "output_type": "stream",
     "text": [
      "\u001b[1;32m[INFO]    ::\u001b[0m Rejecting select ArI lines\n",
      "\u001b[1;32m[INFO]    ::\u001b[0m Rejecting select NeI lines\n",
      "\u001b[1;32m[INFO]    ::\u001b[0m Rejecting select HgI lines"
     ]
    },
    {
     "name": "stdout",
     "output_type": "stream",
     "text": [
      "Number of Input IDs = 53\n",
      "nline = 3"
     ]
    },
    {
     "name": "stderr",
     "output_type": "stream",
     "text": [
      "\n",
      "\u001b[1;31m[WARNING] ::\u001b[0m More parameters than data points - fit might be undesirable\n",
      "\u001b[1;31m[WARNING] ::\u001b[0m More parameters than data points - fit might be undesirable\n"
     ]
    },
    {
     "name": "stdout",
     "output_type": "stream",
     "text": [
      "\n",
      "> /Users/xavier/local/Python/PYPIT/src/arholy.py(48)run_holy2()\n",
      "-> pixfit = arutils.func_val(pparam, idwave, func)\n",
      "(Pdb) idwave\n",
      "array([ 5771.21  ,  5792.276 ,  5854.1101])\n",
      "(Pdb) exit\n"
     ]
    },
    {
     "ename": "BdbQuit",
     "evalue": "",
     "output_type": "error",
     "traceback": [
      "\u001b[0;31m---------------------------------------------------------------------------\u001b[0m",
      "\u001b[0;31mBdbQuit\u001b[0m                                   Traceback (most recent call last)",
      "\u001b[0;32m<ipython-input-112-c87e24a51fb5>\u001b[0m in \u001b[0;36m<module>\u001b[0;34m()\u001b[0m\n\u001b[1;32m      2\u001b[0m \u001b[0mreload\u001b[0m\u001b[0;34m(\u001b[0m\u001b[0mpyholy\u001b[0m\u001b[0;34m)\u001b[0m\u001b[0;34m\u001b[0m\u001b[0m\n\u001b[1;32m      3\u001b[0m \u001b[0mreload\u001b[0m\u001b[0;34m(\u001b[0m\u001b[0mptstholy\u001b[0m\u001b[0;34m)\u001b[0m\u001b[0;34m\u001b[0m\u001b[0m\n\u001b[0;32m----> 4\u001b[0;31m \u001b[0mptstholy\u001b[0m\u001b[0;34m.\u001b[0m\u001b[0mtest_holy1\u001b[0m\u001b[0;34m(\u001b[0m\u001b[0moutfil\u001b[0m\u001b[0;34m=\u001b[0m\u001b[0;34m'test_holy1.json'\u001b[0m\u001b[0;34m)\u001b[0m\u001b[0;34m\u001b[0m\u001b[0m\n\u001b[0m",
      "\u001b[0;32m/Users/xavier/local/Python/PYPIT/holy_grail/test_holy.py\u001b[0m in \u001b[0;36mtest_holy1\u001b[0;34m(infil, outfil, ngrid, p23_frac)\u001b[0m\n\u001b[1;32m    276\u001b[0m             \u001b[0;31m# Run\u001b[0m\u001b[0;34m\u001b[0m\u001b[0;34m\u001b[0m\u001b[0m\n\u001b[1;32m    277\u001b[0m             tids = arholy.run_holy2(tcent, idpix, idwave, npix, llist,\n\u001b[0;32m--> 278\u001b[0;31m                              p23_frac=p23_frac, ngrid=ngrid, verbose=False)\n\u001b[0m\u001b[1;32m    279\u001b[0m             \u001b[0;31m# Evaluate\u001b[0m\u001b[0;34m\u001b[0m\u001b[0;34m\u001b[0m\u001b[0m\n\u001b[1;32m    280\u001b[0m             \u001b[0mID\u001b[0m\u001b[0;34m,\u001b[0m \u001b[0mgdID\u001b[0m\u001b[0;34m,\u001b[0m \u001b[0mbadID\u001b[0m \u001b[0;34m=\u001b[0m \u001b[0mevalaute_ids\u001b[0m\u001b[0;34m(\u001b[0m\u001b[0mtids\u001b[0m\u001b[0;34m,\u001b[0m \u001b[0mtmsk\u001b[0m\u001b[0;34m,\u001b[0m \u001b[0mtwv\u001b[0m\u001b[0;34m)\u001b[0m\u001b[0;34m\u001b[0m\u001b[0m\n",
      "\u001b[0;32m/Users/xavier/local/Python/PYPIT/src/arholy.pyc\u001b[0m in \u001b[0;36mrun_holy2\u001b[0;34m(tcent, idpix, idwave, npix, llist, noncalib, ngrid, frac_extra, p23_frac, verbose, debug, close_tol)\u001b[0m\n\u001b[1;32m     46\u001b[0m     \u001b[0mwmask\u001b[0m\u001b[0;34m,\u001b[0m \u001b[0mwparam\u001b[0m \u001b[0;34m=\u001b[0m \u001b[0marutils\u001b[0m\u001b[0;34m.\u001b[0m\u001b[0mrobust_polyfit\u001b[0m\u001b[0;34m(\u001b[0m\u001b[0midpix\u001b[0m\u001b[0;34m,\u001b[0m \u001b[0midwave\u001b[0m\u001b[0;34m,\u001b[0m \u001b[0;36m2\u001b[0m\u001b[0;34m,\u001b[0m \u001b[0mfunction\u001b[0m\u001b[0;34m=\u001b[0m\u001b[0mfunc\u001b[0m\u001b[0;34m)\u001b[0m\u001b[0;34m\u001b[0m\u001b[0m\n\u001b[1;32m     47\u001b[0m     \u001b[0mdebugger\u001b[0m\u001b[0;34m.\u001b[0m\u001b[0mset_trace\u001b[0m\u001b[0;34m(\u001b[0m\u001b[0;34m)\u001b[0m\u001b[0;34m\u001b[0m\u001b[0m\n\u001b[0;32m---> 48\u001b[0;31m     \u001b[0mpixfit\u001b[0m \u001b[0;34m=\u001b[0m \u001b[0marutils\u001b[0m\u001b[0;34m.\u001b[0m\u001b[0mfunc_val\u001b[0m\u001b[0;34m(\u001b[0m\u001b[0mpparam\u001b[0m\u001b[0;34m,\u001b[0m \u001b[0midwave\u001b[0m\u001b[0;34m,\u001b[0m \u001b[0mfunc\u001b[0m\u001b[0;34m)\u001b[0m\u001b[0;34m\u001b[0m\u001b[0m\n\u001b[0m\u001b[1;32m     49\u001b[0m     \u001b[0;32mif\u001b[0m \u001b[0mverbose\u001b[0m\u001b[0;34m:\u001b[0m\u001b[0;34m\u001b[0m\u001b[0m\n\u001b[1;32m     50\u001b[0m         \u001b[0mprms\u001b[0m \u001b[0;34m=\u001b[0m \u001b[0mnp\u001b[0m\u001b[0;34m.\u001b[0m\u001b[0msqrt\u001b[0m\u001b[0;34m(\u001b[0m\u001b[0mnp\u001b[0m\u001b[0;34m.\u001b[0m\u001b[0mmean\u001b[0m\u001b[0;34m(\u001b[0m\u001b[0;34m(\u001b[0m\u001b[0mpixfit\u001b[0m\u001b[0;34m-\u001b[0m\u001b[0midpix\u001b[0m\u001b[0;34m)\u001b[0m\u001b[0;34m**\u001b[0m\u001b[0;36m2\u001b[0m\u001b[0;34m)\u001b[0m\u001b[0;34m)\u001b[0m\u001b[0;34m\u001b[0m\u001b[0m\n",
      "\u001b[0;32m/Users/xavier/local/Python/PYPIT/src/arholy.pyc\u001b[0m in \u001b[0;36mrun_holy2\u001b[0;34m(tcent, idpix, idwave, npix, llist, noncalib, ngrid, frac_extra, p23_frac, verbose, debug, close_tol)\u001b[0m\n\u001b[1;32m     46\u001b[0m     \u001b[0mwmask\u001b[0m\u001b[0;34m,\u001b[0m \u001b[0mwparam\u001b[0m \u001b[0;34m=\u001b[0m \u001b[0marutils\u001b[0m\u001b[0;34m.\u001b[0m\u001b[0mrobust_polyfit\u001b[0m\u001b[0;34m(\u001b[0m\u001b[0midpix\u001b[0m\u001b[0;34m,\u001b[0m \u001b[0midwave\u001b[0m\u001b[0;34m,\u001b[0m \u001b[0;36m2\u001b[0m\u001b[0;34m,\u001b[0m \u001b[0mfunction\u001b[0m\u001b[0;34m=\u001b[0m\u001b[0mfunc\u001b[0m\u001b[0;34m)\u001b[0m\u001b[0;34m\u001b[0m\u001b[0m\n\u001b[1;32m     47\u001b[0m     \u001b[0mdebugger\u001b[0m\u001b[0;34m.\u001b[0m\u001b[0mset_trace\u001b[0m\u001b[0;34m(\u001b[0m\u001b[0;34m)\u001b[0m\u001b[0;34m\u001b[0m\u001b[0m\n\u001b[0;32m---> 48\u001b[0;31m     \u001b[0mpixfit\u001b[0m \u001b[0;34m=\u001b[0m \u001b[0marutils\u001b[0m\u001b[0;34m.\u001b[0m\u001b[0mfunc_val\u001b[0m\u001b[0;34m(\u001b[0m\u001b[0mpparam\u001b[0m\u001b[0;34m,\u001b[0m \u001b[0midwave\u001b[0m\u001b[0;34m,\u001b[0m \u001b[0mfunc\u001b[0m\u001b[0;34m)\u001b[0m\u001b[0;34m\u001b[0m\u001b[0m\n\u001b[0m\u001b[1;32m     49\u001b[0m     \u001b[0;32mif\u001b[0m \u001b[0mverbose\u001b[0m\u001b[0;34m:\u001b[0m\u001b[0;34m\u001b[0m\u001b[0m\n\u001b[1;32m     50\u001b[0m         \u001b[0mprms\u001b[0m \u001b[0;34m=\u001b[0m \u001b[0mnp\u001b[0m\u001b[0;34m.\u001b[0m\u001b[0msqrt\u001b[0m\u001b[0;34m(\u001b[0m\u001b[0mnp\u001b[0m\u001b[0;34m.\u001b[0m\u001b[0mmean\u001b[0m\u001b[0;34m(\u001b[0m\u001b[0;34m(\u001b[0m\u001b[0mpixfit\u001b[0m\u001b[0;34m-\u001b[0m\u001b[0midpix\u001b[0m\u001b[0;34m)\u001b[0m\u001b[0;34m**\u001b[0m\u001b[0;36m2\u001b[0m\u001b[0;34m)\u001b[0m\u001b[0;34m)\u001b[0m\u001b[0;34m\u001b[0m\u001b[0m\n",
      "\u001b[0;32m/Users/xavier/anaconda/lib/python2.7/bdb.pyc\u001b[0m in \u001b[0;36mtrace_dispatch\u001b[0;34m(self, frame, event, arg)\u001b[0m\n\u001b[1;32m     47\u001b[0m             \u001b[0;32mreturn\u001b[0m \u001b[0;31m# None\u001b[0m\u001b[0;34m\u001b[0m\u001b[0m\n\u001b[1;32m     48\u001b[0m         \u001b[0;32mif\u001b[0m \u001b[0mevent\u001b[0m \u001b[0;34m==\u001b[0m \u001b[0;34m'line'\u001b[0m\u001b[0;34m:\u001b[0m\u001b[0;34m\u001b[0m\u001b[0m\n\u001b[0;32m---> 49\u001b[0;31m             \u001b[0;32mreturn\u001b[0m \u001b[0mself\u001b[0m\u001b[0;34m.\u001b[0m\u001b[0mdispatch_line\u001b[0m\u001b[0;34m(\u001b[0m\u001b[0mframe\u001b[0m\u001b[0;34m)\u001b[0m\u001b[0;34m\u001b[0m\u001b[0m\n\u001b[0m\u001b[1;32m     50\u001b[0m         \u001b[0;32mif\u001b[0m \u001b[0mevent\u001b[0m \u001b[0;34m==\u001b[0m \u001b[0;34m'call'\u001b[0m\u001b[0;34m:\u001b[0m\u001b[0;34m\u001b[0m\u001b[0m\n\u001b[1;32m     51\u001b[0m             \u001b[0;32mreturn\u001b[0m \u001b[0mself\u001b[0m\u001b[0;34m.\u001b[0m\u001b[0mdispatch_call\u001b[0m\u001b[0;34m(\u001b[0m\u001b[0mframe\u001b[0m\u001b[0;34m,\u001b[0m \u001b[0marg\u001b[0m\u001b[0;34m)\u001b[0m\u001b[0;34m\u001b[0m\u001b[0m\n",
      "\u001b[0;32m/Users/xavier/anaconda/lib/python2.7/bdb.pyc\u001b[0m in \u001b[0;36mdispatch_line\u001b[0;34m(self, frame)\u001b[0m\n\u001b[1;32m     66\u001b[0m         \u001b[0;32mif\u001b[0m \u001b[0mself\u001b[0m\u001b[0;34m.\u001b[0m\u001b[0mstop_here\u001b[0m\u001b[0;34m(\u001b[0m\u001b[0mframe\u001b[0m\u001b[0;34m)\u001b[0m \u001b[0;32mor\u001b[0m \u001b[0mself\u001b[0m\u001b[0;34m.\u001b[0m\u001b[0mbreak_here\u001b[0m\u001b[0;34m(\u001b[0m\u001b[0mframe\u001b[0m\u001b[0;34m)\u001b[0m\u001b[0;34m:\u001b[0m\u001b[0;34m\u001b[0m\u001b[0m\n\u001b[1;32m     67\u001b[0m             \u001b[0mself\u001b[0m\u001b[0;34m.\u001b[0m\u001b[0muser_line\u001b[0m\u001b[0;34m(\u001b[0m\u001b[0mframe\u001b[0m\u001b[0;34m)\u001b[0m\u001b[0;34m\u001b[0m\u001b[0m\n\u001b[0;32m---> 68\u001b[0;31m             \u001b[0;32mif\u001b[0m \u001b[0mself\u001b[0m\u001b[0;34m.\u001b[0m\u001b[0mquitting\u001b[0m\u001b[0;34m:\u001b[0m \u001b[0;32mraise\u001b[0m \u001b[0mBdbQuit\u001b[0m\u001b[0;34m\u001b[0m\u001b[0m\n\u001b[0m\u001b[1;32m     69\u001b[0m         \u001b[0;32mreturn\u001b[0m \u001b[0mself\u001b[0m\u001b[0;34m.\u001b[0m\u001b[0mtrace_dispatch\u001b[0m\u001b[0;34m\u001b[0m\u001b[0m\n\u001b[1;32m     70\u001b[0m \u001b[0;34m\u001b[0m\u001b[0m\n",
      "\u001b[0;31mBdbQuit\u001b[0m: "
     ]
    }
   ],
   "source": [
    "reload(pyparc)\n",
    "reload(pyholy)\n",
    "reload(ptstholy)\n",
    "ptstholy.test_holy1(outfil='test_holy1.json')"
   ]
  },
  {
   "cell_type": "markdown",
   "metadata": {},
   "source": [
    "## Plot"
   ]
  },
  {
   "cell_type": "code",
   "execution_count": 80,
   "metadata": {
    "collapsed": false
   },
   "outputs": [
    {
     "name": "stdout",
     "output_type": "stream",
     "text": [
      "Writing test_holy1.pdf\n"
     ]
    }
   ],
   "source": [
    "reload(ptstholy)\n",
    "ptstholy.plot_ngoodbad('test_holy1.json', ['nlines', 'pixcen'], 'Testing Holy1 Input', 'test_holy1.pdf')"
   ]
  },
  {
   "cell_type": "markdown",
   "metadata": {},
   "source": [
    "## Varying things a bit"
   ]
  },
  {
   "cell_type": "code",
   "execution_count": 84,
   "metadata": {
    "collapsed": false
   },
   "outputs": [
    {
     "name": "stderr",
     "output_type": "stream",
     "text": [
      "\u001b[1;32m[INFO]    ::\u001b[0m Rejecting select ArI lines\n",
      "\u001b[1;32m[INFO]    ::\u001b[0m Rejecting select NeI lines\n",
      "\u001b[1;32m[INFO]    ::\u001b[0m Rejecting select HgI lines"
     ]
    },
    {
     "name": "stdout",
     "output_type": "stream",
     "text": [
      "Number of Input IDs = 53\n",
      "nline = 3"
     ]
    },
    {
     "name": "stderr",
     "output_type": "stream",
     "text": [
      "\n",
      "\u001b[1;31m[WARNING] ::\u001b[0m More parameters than data points - fit might be undesirable\n",
      "\u001b[1;31m[WARNING] ::\u001b[0m More parameters than data points - fit might be undesirable\n",
      "\u001b[1;31m[WARNING] ::\u001b[0m More parameters than data points - fit might be undesirable\n",
      "\u001b[1;31m[WARNING] ::\u001b[0m More parameters than data points - fit might be undesirable\n",
      "\u001b[1;31m[WARNING] ::\u001b[0m More parameters than data points - fit might be undesirable\n",
      "\u001b[1;31m[WARNING] ::\u001b[0m More parameters than data points - fit might be undesirable\n",
      "\u001b[1;31m[WARNING] ::\u001b[0m More parameters than data points - fit might be undesirable\n",
      "\u001b[1;31m[WARNING] ::\u001b[0m More parameters than data points - fit might be undesirable\n",
      "\u001b[1;31m[WARNING] ::\u001b[0m More parameters than data points - fit might be undesirable\n",
      "\u001b[1;31m[WARNING] ::\u001b[0m More parameters than data points - fit might be undesirable\n",
      "\u001b[1;31m[WARNING] ::\u001b[0m More parameters than data points - fit might be undesirable\n",
      "\u001b[1;31m[WARNING] ::\u001b[0m More parameters than data points - fit might be undesirable\n",
      "\u001b[1;31m[WARNING] ::\u001b[0m More parameters than data points - fit might be undesirable\n",
      "\u001b[1;31m[WARNING] ::\u001b[0m More parameters than data points - fit might be undesirable\n",
      "\u001b[1;31m[WARNING] ::\u001b[0m More parameters than data points - fit might be undesirable\n",
      "\u001b[1;31m[WARNING] ::\u001b[0m More parameters than data points - fit might be undesirable\n",
      "\u001b[1;31m[WARNING] ::\u001b[0m More parameters than data points - fit might be undesirable\n",
      "\u001b[1;31m[WARNING] ::\u001b[0m More parameters than data points - fit might be undesirable\n",
      "\u001b[1;31m[WARNING] ::\u001b[0m More parameters than data points - fit might be undesirable"
     ]
    },
    {
     "name": "stdout",
     "output_type": "stream",
     "text": [
      "\n",
      "nline = 4"
     ]
    },
    {
     "name": "stderr",
     "output_type": "stream",
     "text": [
      "\n",
      "\u001b[1;31m[WARNING] ::\u001b[0m More parameters than data points - fit might be undesirable\n",
      "\u001b[1;31m[WARNING] ::\u001b[0m More parameters than data points - fit might be undesirable\n",
      "\u001b[1;31m[WARNING] ::\u001b[0m More parameters than data points - fit might be undesirable\n",
      "\u001b[1;31m[WARNING] ::\u001b[0m More parameters than data points - fit might be undesirable\n",
      "\u001b[1;31m[WARNING] ::\u001b[0m More parameters than data points - fit might be undesirable\n",
      "\u001b[1;31m[WARNING] ::\u001b[0m More parameters than data points - fit might be undesirable\n",
      "\u001b[1;31m[WARNING] ::\u001b[0m More parameters than data points - fit might be undesirable\n",
      "\u001b[1;31m[WARNING] ::\u001b[0m More parameters than data points - fit might be undesirable\n",
      "\u001b[1;31m[WARNING] ::\u001b[0m More parameters than data points - fit might be undesirable\n",
      "\u001b[1;31m[WARNING] ::\u001b[0m More parameters than data points - fit might be undesirable\n",
      "\u001b[1;31m[WARNING] ::\u001b[0m More parameters than data points - fit might be undesirable\n",
      "\u001b[1;31m[WARNING] ::\u001b[0m More parameters than data points - fit might be undesirable\n",
      "\u001b[1;31m[WARNING] ::\u001b[0m More parameters than data points - fit might be undesirable\n",
      "\u001b[1;31m[WARNING] ::\u001b[0m More parameters than data points - fit might be undesirable\n",
      "\u001b[1;31m[WARNING] ::\u001b[0m More parameters than data points - fit might be undesirable\n",
      "\u001b[1;31m[WARNING] ::\u001b[0m More parameters than data points - fit might be undesirable\n",
      "\u001b[1;31m[WARNING] ::\u001b[0m More parameters than data points - fit might be undesirable\n",
      "\u001b[1;31m[WARNING] ::\u001b[0m More parameters than data points - fit might be undesirable\n",
      "\u001b[1;31m[WARNING] ::\u001b[0m More parameters than data points - fit might be undesirable\n",
      "\u001b[1;31m[WARNING] ::\u001b[0m More parameters than data points - fit might be undesirable"
     ]
    },
    {
     "name": "stdout",
     "output_type": "stream",
     "text": [
      "\n",
      "nline = 5"
     ]
    },
    {
     "name": "stderr",
     "output_type": "stream",
     "text": [
      "\n",
      "\u001b[1;31m[WARNING] ::\u001b[0m More parameters than data points - fit might be undesirable\n",
      "\u001b[1;31m[WARNING] ::\u001b[0m More parameters than data points - fit might be undesirable"
     ]
    },
    {
     "name": "stdout",
     "output_type": "stream",
     "text": [
      "\n",
      "Wrote output to test_holy1_1000.json\n"
     ]
    },
    {
     "name": "stderr",
     "output_type": "stream",
     "text": [
      "\n",
      "\u001b[1;31m[WARNING] ::\u001b[0m More parameters than data points - fit might be undesirable\n"
     ]
    }
   ],
   "source": [
    "reload(pyparc)\n",
    "reload(pyholy)\n",
    "reload(ptstholy)\n",
    "#ptstholy.test_holy1(outfil='test_holy1_500.json', ngrid=500)\n",
    "ptstholy.test_holy1(outfil='test_holy1_1000.json', ngrid=1000)"
   ]
  },
  {
   "cell_type": "markdown",
   "metadata": {},
   "source": [
    "### Plots"
   ]
  },
  {
   "cell_type": "code",
   "execution_count": 85,
   "metadata": {
    "collapsed": false
   },
   "outputs": [
    {
     "name": "stdout",
     "output_type": "stream",
     "text": [
      "Writing test_holy1_1000.pdf\n"
     ]
    }
   ],
   "source": [
    "#ptstholy.plot_ngoodbad('test_holy1_500.json', ['nlines', 'pixcen'], 'Testing Holy1 Input 500', 'test_holy1_500.pdf')\n",
    "#ptstholy.plot_ngoodbad('test_holy1_1000.json', ['nlines', 'pixcen'], 'Testing Holy1 Input 1000', 'test_holy1_1000.pdf')"
   ]
  },
  {
   "cell_type": "markdown",
   "metadata": {},
   "source": [
    "----"
   ]
  },
  {
   "cell_type": "markdown",
   "metadata": {},
   "source": [
    "## tcent"
   ]
  },
  {
   "cell_type": "code",
   "execution_count": 2,
   "metadata": {
    "collapsed": false
   },
   "outputs": [
    {
     "name": "stderr",
     "output_type": "stream",
     "text": [
      "\u001b[1;32m[INFO]    ::\u001b[0m Rejecting select ArI lines\n",
      "\u001b[1;32m[INFO]    ::\u001b[0m Rejecting select NeI lines\n",
      "\u001b[1;32m[INFO]    ::\u001b[0m Rejecting select HgI lines"
     ]
    },
    {
     "name": "stdout",
     "output_type": "stream",
     "text": [
      "Number of Input IDs = 53\n",
      "nmodify = -20\n"
     ]
    },
    {
     "name": "stderr",
     "output_type": "stream",
     "text": [
      "\n"
     ]
    },
    {
     "ename": "KeyboardInterrupt",
     "evalue": "",
     "output_type": "error",
     "traceback": [
      "\u001b[0;31m---------------------------------------------------------------------------\u001b[0m",
      "\u001b[0;31mKeyboardInterrupt\u001b[0m                         Traceback (most recent call last)",
      "\u001b[0;32m<ipython-input-2-d7a7739e812e>\u001b[0m in \u001b[0;36m<module>\u001b[0;34m()\u001b[0m\n\u001b[1;32m      2\u001b[0m \u001b[0mreload\u001b[0m\u001b[0;34m(\u001b[0m\u001b[0mpyholy\u001b[0m\u001b[0;34m)\u001b[0m\u001b[0;34m\u001b[0m\u001b[0m\n\u001b[1;32m      3\u001b[0m \u001b[0mreload\u001b[0m\u001b[0;34m(\u001b[0m\u001b[0mptstholy\u001b[0m\u001b[0;34m)\u001b[0m\u001b[0;34m\u001b[0m\u001b[0m\n\u001b[0;32m----> 4\u001b[0;31m \u001b[0mptstholy\u001b[0m\u001b[0;34m.\u001b[0m\u001b[0mtest_tcent\u001b[0m\u001b[0;34m(\u001b[0m\u001b[0moutfil\u001b[0m\u001b[0;34m=\u001b[0m\u001b[0;34m'test_tcent.json'\u001b[0m\u001b[0;34m)\u001b[0m\u001b[0;34m\u001b[0m\u001b[0m\n\u001b[0m",
      "\u001b[0;32m/Users/xavier/local/Python/PYPIT/holy_grail/test_holy.pyc\u001b[0m in \u001b[0;36mtest_tcent\u001b[0;34m(infil, outfil, ngrid, p23_frac, nmodify, seed)\u001b[0m\n\u001b[1;32m    344\u001b[0m                 \u001b[0;31m# Run\u001b[0m\u001b[0;34m\u001b[0m\u001b[0;34m\u001b[0m\u001b[0m\n\u001b[1;32m    345\u001b[0m                 tids = arholy.run_holy2(mtcent, idpix, idwave, npix, llist,\n\u001b[0;32m--> 346\u001b[0;31m                                  p23_frac=p23_frac, ngrid=ngrid, verbose=False)\n\u001b[0m\u001b[1;32m    347\u001b[0m                 \u001b[0;31m# Evaluate\u001b[0m\u001b[0;34m\u001b[0m\u001b[0;34m\u001b[0m\u001b[0m\n\u001b[1;32m    348\u001b[0m                 \u001b[0mID\u001b[0m\u001b[0;34m,\u001b[0m \u001b[0mgdID\u001b[0m\u001b[0;34m,\u001b[0m \u001b[0mbadID\u001b[0m \u001b[0;34m=\u001b[0m \u001b[0mevalaute_ids\u001b[0m\u001b[0;34m(\u001b[0m\u001b[0mtids\u001b[0m\u001b[0;34m,\u001b[0m \u001b[0mmtmsk\u001b[0m\u001b[0;34m,\u001b[0m \u001b[0mmtwv\u001b[0m\u001b[0;34m)\u001b[0m\u001b[0;34m\u001b[0m\u001b[0m\n",
      "\u001b[0;32m/Users/xavier/local/Python/PYPIT/src/arholy.pyc\u001b[0m in \u001b[0;36mrun_holy2\u001b[0;34m(tcent, idpix, idwave, npix, llist, noncalib, ngrid, frac_extra, p23_frac, verbose, debug, close_tol)\u001b[0m\n\u001b[1;32m    129\u001b[0m         \u001b[0;32mfor\u001b[0m \u001b[0mjj\u001b[0m \u001b[0;32min\u001b[0m \u001b[0mxrange\u001b[0m\u001b[0;34m(\u001b[0m\u001b[0mngrid\u001b[0m\u001b[0;34m)\u001b[0m\u001b[0;34m:\u001b[0m\u001b[0;34m\u001b[0m\u001b[0m\n\u001b[1;32m    130\u001b[0m             \u001b[0;31m# The next lines could/should be 'mapped'\u001b[0m\u001b[0;34m\u001b[0m\u001b[0;34m\u001b[0m\u001b[0m\n\u001b[0;32m--> 131\u001b[0;31m             \u001b[0mwv_to_pix\u001b[0m \u001b[0;34m=\u001b[0m \u001b[0mwv_to_pix_setup\u001b[0m \u001b[0;34m+\u001b[0m \u001b[0mscan_p2\u001b[0m\u001b[0;34m[\u001b[0m\u001b[0mii\u001b[0m\u001b[0;34m]\u001b[0m\u001b[0;34m*\u001b[0m\u001b[0mxall2\u001b[0m \u001b[0;34m+\u001b[0m \u001b[0mscan_p3\u001b[0m\u001b[0;34m[\u001b[0m\u001b[0mjj\u001b[0m\u001b[0;34m]\u001b[0m\u001b[0;34m*\u001b[0m\u001b[0mxall3\u001b[0m\u001b[0;34m\u001b[0m\u001b[0m\n\u001b[0m\u001b[1;32m    132\u001b[0m             \u001b[0;31m# Main call\u001b[0m\u001b[0;34m\u001b[0m\u001b[0;34m\u001b[0m\u001b[0m\n\u001b[1;32m    133\u001b[0m             \u001b[0mmetric\u001b[0m\u001b[0;34m[\u001b[0m\u001b[0mii\u001b[0m\u001b[0;34m,\u001b[0m\u001b[0mjj\u001b[0m\u001b[0;34m]\u001b[0m \u001b[0;34m=\u001b[0m \u001b[0mholy_cross_lines\u001b[0m\u001b[0;34m(\u001b[0m\u001b[0mpix_img\u001b[0m\u001b[0;34m,\u001b[0m \u001b[0mwv_to_pix\u001b[0m\u001b[0;34m)\u001b[0m\u001b[0;34m\u001b[0m\u001b[0m\n",
      "\u001b[0;31mKeyboardInterrupt\u001b[0m: "
     ]
    }
   ],
   "source": [
    "reload(pyparc)\n",
    "reload(pyholy)\n",
    "reload(ptstholy)\n",
    "ptstholy.test_tcent(outfil='test_tcent.json')"
   ]
  },
  {
   "cell_type": "markdown",
   "metadata": {},
   "source": [
    "### Plot"
   ]
  },
  {
   "cell_type": "code",
   "execution_count": 5,
   "metadata": {
    "collapsed": false
   },
   "outputs": [
    {
     "name": "stdout",
     "output_type": "stream",
     "text": [
      "Writing test_tcent.pdf\n"
     ]
    }
   ],
   "source": [
    "reload(ptstholy)\n",
    "ptstholy.plot_ngoodbad('test_tcent.json', ['pixcen', 'nmodify', 'trial'], 'Testing tcent (add/remove)', 'test_tcent.pdf', lgd_loc='upper left')"
   ]
  },
  {
   "cell_type": "code",
   "execution_count": null,
   "metadata": {
    "collapsed": true
   },
   "outputs": [],
   "source": []
  }
 ],
 "metadata": {
  "kernelspec": {
   "display_name": "Python 2",
   "language": "python",
   "name": "python2"
  },
  "language_info": {
   "codemirror_mode": {
    "name": "ipython",
    "version": 2
   },
   "file_extension": ".py",
   "mimetype": "text/x-python",
   "name": "python",
   "nbconvert_exporter": "python",
   "pygments_lexer": "ipython2",
   "version": "2.7.11"
  }
 },
 "nbformat": 4,
 "nbformat_minor": 0
}
