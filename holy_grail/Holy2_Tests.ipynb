{
 "cells": [
  {
   "cell_type": "markdown",
   "metadata": {},
   "source": [
    "# Running Holy 2 Tests"
   ]
  },
  {
   "cell_type": "code",
   "execution_count": 1,
   "metadata": {
    "collapsed": false
   },
   "outputs": [
    {
     "name": "stderr",
     "output_type": "stream",
     "text": [
      "/Users/xavier/local/Python/PYPIT/src/arutils.py:27: UserWarning: ds9 module not installed\n",
      "  warnings.warn(\"ds9 module not installed\")\n"
     ]
    }
   ],
   "source": [
    "# imports\n",
    "import json\n",
    "\n",
    "from scipy.optimize import curve_fit\n",
    "\n",
    "sys.path.append(os.path.abspath(\"/Users/xavier/local/Python/PYPIT/src/\"))\n",
    "sys.path.append(os.path.abspath(\"/Users/xavier/local/Python/PYPIT/holy_grail/\"))\n",
    "\n",
    "import armsgs as msgs\n",
    "import ardebug\n",
    "debug = ardebug.init()\n",
    "last_updated = \"26 November 2015\"\n",
    "version = '0.3'\n",
    "verbose = False\n",
    "msgs = msgs.get_logger((None, debug, last_updated, version, verbose))\n",
    "import ararclines\n",
    "import ararc as pyparc\n",
    "import arholy as pyholy\n",
    "import test_holy as ptstholy\n",
    "import arutils"
   ]
  },
  {
   "cell_type": "code",
   "execution_count": 14,
   "metadata": {
    "collapsed": false
   },
   "outputs": [
    {
     "name": "stderr",
     "output_type": "stream",
     "text": [
      "\u001b[1;32m[INFO]    ::\u001b[0m Rejecting select ArI lines\n",
      "\u001b[1;32m[INFO]    ::\u001b[0m Rejecting select NeI lines\n",
      "\u001b[1;32m[INFO]    ::\u001b[0m Rejecting select HgI lines"
     ]
    },
    {
     "name": "stdout",
     "output_type": "stream",
     "text": [
      "Number of Input IDs = 53\n",
      "nline = 3\n",
      "RMS = 0.00705964\n",
      "max = 66.9831\n",
      "p2 = -465.861\n",
      "p3 = 523.841\n",
      "NID = 56\n",
      "RMS = 0.00585159\n",
      "max = 66.1894\n",
      "p2 = -420.347\n",
      "p3 = 580.818\n",
      "NID = 51\n",
      "RMS = 0.00774018\n",
      "max = 62.7655\n",
      "p2 = -391.068\n",
      "p3 = 719.722\n",
      "NID = 50\n",
      "RMS = 0.00691843\n",
      "max = 67.7956\n",
      "p2 = -297.508\n",
      "p3 = 739.717\n",
      "NID = 56\n",
      "RMS = 0.0269542\n",
      "max = 64.0688\n",
      "p2 = -207.578\n",
      "p3 = 1023.41\n",
      "NID = 52\n",
      "RMS = 0.00797434\n",
      "max = 58.5023\n",
      "p2 = -23.0444\n",
      "p3 = 1157.19\n",
      "NID = 35\n",
      "RMS = 0.0151506\n",
      "max = 64.1204\n",
      "p2 = 71.661\n",
      "p3 = 1058.4\n",
      "NID = 52\n",
      "RMS = 0.00709797\n",
      "max = 64.5804\n",
      "p2 = 255.82\n",
      "p3 = 1278.41\n",
      "NID = 45\n",
      "RMS = 0.0373309\n",
      "max = 61.6806\n",
      "p2 = 424.075\n",
      "p3 = 1412.92\n",
      "NID = 45\n",
      "RMS = 0.0153569\n",
      "max = 57.487\n",
      "p2 = 711.187\n",
      "p3 = 1847.17\n",
      "NID = 44\n",
      "nline = 4\n",
      "RMS = 0.0120471\n",
      "max = 64.9475\n",
      "p2 = -459.561\n",
      "p3 = 514.435\n",
      "NID = 55\n",
      "RMS = 0.0380026\n",
      "max = 65.9883\n",
      "p2 = -446.847\n",
      "p3 = 601.995\n",
      "NID = 50\n",
      "RMS = 0.0082751\n",
      "max = 67.4173\n",
      "p2 = -385.631\n",
      "p3 = 704.766\n",
      "NID = 58\n",
      "RMS = 0.0165946\n",
      "max = 67.2844\n",
      "p2 = -309.238\n",
      "p3 = 752.782\n",
      "NID = 55\n",
      "RMS = 0.0239344\n",
      "max = 64.769\n",
      "p2 = -183.416\n",
      "p3 = 997.127\n",
      "NID = 52\n",
      "RMS = 0.00885387\n",
      "max = 60.4301\n",
      "p2 = -23.2476\n",
      "p3 = 1172.53\n",
      "NID = 36\n",
      "RMS = 0.0187487\n",
      "max = 63.4121\n",
      "p2 = 71.978\n",
      "p3 = 1065.43\n",
      "NID = 49\n",
      "RMS = 0.0292604\n",
      "max = 67.1341\n",
      "p2 = 292.026\n",
      "p3 = 1377.81\n",
      "NID = 56\n",
      "RMS = 0.0401244\n",
      "max = 58.7025\n",
      "p2 = 447.929\n",
      "p3 = 1366.57\n",
      "NID = 42\n",
      "RMS = 0.0307678\n",
      "max = 57.5598\n",
      "p2 = 682.623\n",
      "p3 = 1771.68\n",
      "NID = 41\n",
      "nline = 5\n",
      "RMS = 0.0219268\n",
      "max = 65.0026\n",
      "p2 = -471.942\n",
      "p3 = 550.075\n",
      "NID = 56\n",
      "RMS = 0.034265\n",
      "max = 67.1827\n",
      "p2 = -440.701\n",
      "p3 = 589.618\n",
      "NID = 56\n",
      "RMS = 0.0141525\n",
      "max = 66.4601\n",
      "p2 = -362.62\n",
      "p3 = 622.141\n",
      "NID = 56\n",
      "RMS = 0.0285883\n",
      "max = 67.1024\n",
      "p2 = -305.238\n",
      "p3 = 738.222\n",
      "NID = 58\n",
      "RMS = 0.0247605\n",
      "max = 61.2671\n",
      "p2 = -179.862\n",
      "p3 = 876.072\n",
      "NID = 42\n",
      "RMS = 0.0133006\n",
      "max = 63.3933\n",
      "p2 = -65.3855\n",
      "p3 = 1064.38\n",
      "NID = 47\n",
      "RMS = 0.021887\n",
      "max = 61.0564\n",
      "p2 = 73.1592\n",
      "p3 = 1091.77\n",
      "NID = 43\n",
      "RMS = 0.0535028\n",
      "max = 65.4951\n",
      "p2 = 259.303\n",
      "p3 = 1304.61\n",
      "NID = 54\n",
      "RMS = 0.0358894\n",
      "max = 59.1024\n",
      "p2 = 446.703\n",
      "p3 = 1360.96\n",
      "NID = 43\n",
      "RMS = 0.130266\n",
      "max = 60.4309\n",
      "p2 = 603.682\n",
      "p3 = 1571.38\n",
      "NID = 38\n",
      "Wrote output to test_holy1.json\n"
     ]
    },
    {
     "name": "stderr",
     "output_type": "stream",
     "text": [
      "\n"
     ]
    }
   ],
   "source": [
    "reload(pyparc)\n",
    "reload(pyholy)\n",
    "reload(ptstholy)\n",
    "ptstholy.test_holy1(outfil='test_holy1.json', verbose=True)"
   ]
  },
  {
   "cell_type": "markdown",
   "metadata": {},
   "source": [
    "## Plot"
   ]
  },
  {
   "cell_type": "code",
   "execution_count": 15,
   "metadata": {
    "collapsed": false
   },
   "outputs": [
    {
     "name": "stdout",
     "output_type": "stream",
     "text": [
      "Writing test_holy1.pdf\n"
     ]
    }
   ],
   "source": [
    "reload(ptstholy)\n",
    "ptstholy.plot_ngoodbad('test_holy1.json', ['nlines', 'pixcen'], 'Testing Holy1 Input', 'test_holy1.pdf')"
   ]
  },
  {
   "cell_type": "markdown",
   "metadata": {},
   "source": [
    "## Varying things a bit"
   ]
  },
  {
   "cell_type": "code",
   "execution_count": 84,
   "metadata": {
    "collapsed": false
   },
   "outputs": [
    {
     "name": "stderr",
     "output_type": "stream",
     "text": [
      "\u001b[1;32m[INFO]    ::\u001b[0m Rejecting select ArI lines\n",
      "\u001b[1;32m[INFO]    ::\u001b[0m Rejecting select NeI lines\n",
      "\u001b[1;32m[INFO]    ::\u001b[0m Rejecting select HgI lines"
     ]
    },
    {
     "name": "stdout",
     "output_type": "stream",
     "text": [
      "Number of Input IDs = 53\n",
      "nline = 3"
     ]
    },
    {
     "name": "stderr",
     "output_type": "stream",
     "text": [
      "\n",
      "\u001b[1;31m[WARNING] ::\u001b[0m More parameters than data points - fit might be undesirable\n",
      "\u001b[1;31m[WARNING] ::\u001b[0m More parameters than data points - fit might be undesirable\n",
      "\u001b[1;31m[WARNING] ::\u001b[0m More parameters than data points - fit might be undesirable\n",
      "\u001b[1;31m[WARNING] ::\u001b[0m More parameters than data points - fit might be undesirable\n",
      "\u001b[1;31m[WARNING] ::\u001b[0m More parameters than data points - fit might be undesirable\n",
      "\u001b[1;31m[WARNING] ::\u001b[0m More parameters than data points - fit might be undesirable\n",
      "\u001b[1;31m[WARNING] ::\u001b[0m More parameters than data points - fit might be undesirable\n",
      "\u001b[1;31m[WARNING] ::\u001b[0m More parameters than data points - fit might be undesirable\n",
      "\u001b[1;31m[WARNING] ::\u001b[0m More parameters than data points - fit might be undesirable\n",
      "\u001b[1;31m[WARNING] ::\u001b[0m More parameters than data points - fit might be undesirable\n",
      "\u001b[1;31m[WARNING] ::\u001b[0m More parameters than data points - fit might be undesirable\n",
      "\u001b[1;31m[WARNING] ::\u001b[0m More parameters than data points - fit might be undesirable\n",
      "\u001b[1;31m[WARNING] ::\u001b[0m More parameters than data points - fit might be undesirable\n",
      "\u001b[1;31m[WARNING] ::\u001b[0m More parameters than data points - fit might be undesirable\n",
      "\u001b[1;31m[WARNING] ::\u001b[0m More parameters than data points - fit might be undesirable\n",
      "\u001b[1;31m[WARNING] ::\u001b[0m More parameters than data points - fit might be undesirable\n",
      "\u001b[1;31m[WARNING] ::\u001b[0m More parameters than data points - fit might be undesirable\n",
      "\u001b[1;31m[WARNING] ::\u001b[0m More parameters than data points - fit might be undesirable\n",
      "\u001b[1;31m[WARNING] ::\u001b[0m More parameters than data points - fit might be undesirable"
     ]
    },
    {
     "name": "stdout",
     "output_type": "stream",
     "text": [
      "\n",
      "nline = 4"
     ]
    },
    {
     "name": "stderr",
     "output_type": "stream",
     "text": [
      "\n",
      "\u001b[1;31m[WARNING] ::\u001b[0m More parameters than data points - fit might be undesirable\n",
      "\u001b[1;31m[WARNING] ::\u001b[0m More parameters than data points - fit might be undesirable\n",
      "\u001b[1;31m[WARNING] ::\u001b[0m More parameters than data points - fit might be undesirable\n",
      "\u001b[1;31m[WARNING] ::\u001b[0m More parameters than data points - fit might be undesirable\n",
      "\u001b[1;31m[WARNING] ::\u001b[0m More parameters than data points - fit might be undesirable\n",
      "\u001b[1;31m[WARNING] ::\u001b[0m More parameters than data points - fit might be undesirable\n",
      "\u001b[1;31m[WARNING] ::\u001b[0m More parameters than data points - fit might be undesirable\n",
      "\u001b[1;31m[WARNING] ::\u001b[0m More parameters than data points - fit might be undesirable\n",
      "\u001b[1;31m[WARNING] ::\u001b[0m More parameters than data points - fit might be undesirable\n",
      "\u001b[1;31m[WARNING] ::\u001b[0m More parameters than data points - fit might be undesirable\n",
      "\u001b[1;31m[WARNING] ::\u001b[0m More parameters than data points - fit might be undesirable\n",
      "\u001b[1;31m[WARNING] ::\u001b[0m More parameters than data points - fit might be undesirable\n",
      "\u001b[1;31m[WARNING] ::\u001b[0m More parameters than data points - fit might be undesirable\n",
      "\u001b[1;31m[WARNING] ::\u001b[0m More parameters than data points - fit might be undesirable\n",
      "\u001b[1;31m[WARNING] ::\u001b[0m More parameters than data points - fit might be undesirable\n",
      "\u001b[1;31m[WARNING] ::\u001b[0m More parameters than data points - fit might be undesirable\n",
      "\u001b[1;31m[WARNING] ::\u001b[0m More parameters than data points - fit might be undesirable\n",
      "\u001b[1;31m[WARNING] ::\u001b[0m More parameters than data points - fit might be undesirable\n",
      "\u001b[1;31m[WARNING] ::\u001b[0m More parameters than data points - fit might be undesirable\n",
      "\u001b[1;31m[WARNING] ::\u001b[0m More parameters than data points - fit might be undesirable"
     ]
    },
    {
     "name": "stdout",
     "output_type": "stream",
     "text": [
      "\n",
      "nline = 5"
     ]
    },
    {
     "name": "stderr",
     "output_type": "stream",
     "text": [
      "\n",
      "\u001b[1;31m[WARNING] ::\u001b[0m More parameters than data points - fit might be undesirable\n",
      "\u001b[1;31m[WARNING] ::\u001b[0m More parameters than data points - fit might be undesirable"
     ]
    },
    {
     "name": "stdout",
     "output_type": "stream",
     "text": [
      "\n",
      "Wrote output to test_holy1_1000.json\n"
     ]
    },
    {
     "name": "stderr",
     "output_type": "stream",
     "text": [
      "\n",
      "\u001b[1;31m[WARNING] ::\u001b[0m More parameters than data points - fit might be undesirable\n"
     ]
    }
   ],
   "source": [
    "reload(pyparc)\n",
    "reload(pyholy)\n",
    "reload(ptstholy)\n",
    "#ptstholy.test_holy1(outfil='test_holy1_500.json', ngrid=500)\n",
    "ptstholy.test_holy1(outfil='test_holy1_1000.json', ngrid=1000)"
   ]
  },
  {
   "cell_type": "markdown",
   "metadata": {},
   "source": [
    "### Plots"
   ]
  },
  {
   "cell_type": "code",
   "execution_count": 85,
   "metadata": {
    "collapsed": false
   },
   "outputs": [
    {
     "name": "stdout",
     "output_type": "stream",
     "text": [
      "Writing test_holy1_1000.pdf\n"
     ]
    }
   ],
   "source": [
    "#ptstholy.plot_ngoodbad('test_holy1_500.json', ['nlines', 'pixcen'], 'Testing Holy1 Input 500', 'test_holy1_500.pdf')\n",
    "#ptstholy.plot_ngoodbad('test_holy1_1000.json', ['nlines', 'pixcen'], 'Testing Holy1 Input 1000', 'test_holy1_1000.pdf')"
   ]
  },
  {
   "cell_type": "markdown",
   "metadata": {},
   "source": [
    "----"
   ]
  },
  {
   "cell_type": "markdown",
   "metadata": {},
   "source": [
    "## tcent"
   ]
  },
  {
   "cell_type": "code",
   "execution_count": 2,
   "metadata": {
    "collapsed": false
   },
   "outputs": [
    {
     "name": "stderr",
     "output_type": "stream",
     "text": [
      "\u001b[1;32m[INFO]    ::\u001b[0m Rejecting select ArI lines\n",
      "\u001b[1;32m[INFO]    ::\u001b[0m Rejecting select NeI lines\n",
      "\u001b[1;32m[INFO]    ::\u001b[0m Rejecting select HgI lines"
     ]
    },
    {
     "name": "stdout",
     "output_type": "stream",
     "text": [
      "Number of Input IDs = 53\n",
      "nmodify = -20\n"
     ]
    },
    {
     "name": "stderr",
     "output_type": "stream",
     "text": [
      "\n"
     ]
    },
    {
     "ename": "KeyboardInterrupt",
     "evalue": "",
     "output_type": "error",
     "traceback": [
      "\u001b[0;31m---------------------------------------------------------------------------\u001b[0m",
      "\u001b[0;31mKeyboardInterrupt\u001b[0m                         Traceback (most recent call last)",
      "\u001b[0;32m<ipython-input-2-d7a7739e812e>\u001b[0m in \u001b[0;36m<module>\u001b[0;34m()\u001b[0m\n\u001b[1;32m      2\u001b[0m \u001b[0mreload\u001b[0m\u001b[0;34m(\u001b[0m\u001b[0mpyholy\u001b[0m\u001b[0;34m)\u001b[0m\u001b[0;34m\u001b[0m\u001b[0m\n\u001b[1;32m      3\u001b[0m \u001b[0mreload\u001b[0m\u001b[0;34m(\u001b[0m\u001b[0mptstholy\u001b[0m\u001b[0;34m)\u001b[0m\u001b[0;34m\u001b[0m\u001b[0m\n\u001b[0;32m----> 4\u001b[0;31m \u001b[0mptstholy\u001b[0m\u001b[0;34m.\u001b[0m\u001b[0mtest_tcent\u001b[0m\u001b[0;34m(\u001b[0m\u001b[0moutfil\u001b[0m\u001b[0;34m=\u001b[0m\u001b[0;34m'test_tcent.json'\u001b[0m\u001b[0;34m)\u001b[0m\u001b[0;34m\u001b[0m\u001b[0m\n\u001b[0m",
      "\u001b[0;32m/Users/xavier/local/Python/PYPIT/holy_grail/test_holy.pyc\u001b[0m in \u001b[0;36mtest_tcent\u001b[0;34m(infil, outfil, ngrid, p23_frac, nmodify, seed)\u001b[0m\n\u001b[1;32m    344\u001b[0m                 \u001b[0;31m# Run\u001b[0m\u001b[0;34m\u001b[0m\u001b[0;34m\u001b[0m\u001b[0m\n\u001b[1;32m    345\u001b[0m                 tids = arholy.run_holy2(mtcent, idpix, idwave, npix, llist,\n\u001b[0;32m--> 346\u001b[0;31m                                  p23_frac=p23_frac, ngrid=ngrid, verbose=False)\n\u001b[0m\u001b[1;32m    347\u001b[0m                 \u001b[0;31m# Evaluate\u001b[0m\u001b[0;34m\u001b[0m\u001b[0;34m\u001b[0m\u001b[0m\n\u001b[1;32m    348\u001b[0m                 \u001b[0mID\u001b[0m\u001b[0;34m,\u001b[0m \u001b[0mgdID\u001b[0m\u001b[0;34m,\u001b[0m \u001b[0mbadID\u001b[0m \u001b[0;34m=\u001b[0m \u001b[0mevalaute_ids\u001b[0m\u001b[0;34m(\u001b[0m\u001b[0mtids\u001b[0m\u001b[0;34m,\u001b[0m \u001b[0mmtmsk\u001b[0m\u001b[0;34m,\u001b[0m \u001b[0mmtwv\u001b[0m\u001b[0;34m)\u001b[0m\u001b[0;34m\u001b[0m\u001b[0m\n",
      "\u001b[0;32m/Users/xavier/local/Python/PYPIT/src/arholy.pyc\u001b[0m in \u001b[0;36mrun_holy2\u001b[0;34m(tcent, idpix, idwave, npix, llist, noncalib, ngrid, frac_extra, p23_frac, verbose, debug, close_tol)\u001b[0m\n\u001b[1;32m    129\u001b[0m         \u001b[0;32mfor\u001b[0m \u001b[0mjj\u001b[0m \u001b[0;32min\u001b[0m \u001b[0mxrange\u001b[0m\u001b[0;34m(\u001b[0m\u001b[0mngrid\u001b[0m\u001b[0;34m)\u001b[0m\u001b[0;34m:\u001b[0m\u001b[0;34m\u001b[0m\u001b[0m\n\u001b[1;32m    130\u001b[0m             \u001b[0;31m# The next lines could/should be 'mapped'\u001b[0m\u001b[0;34m\u001b[0m\u001b[0;34m\u001b[0m\u001b[0m\n\u001b[0;32m--> 131\u001b[0;31m             \u001b[0mwv_to_pix\u001b[0m \u001b[0;34m=\u001b[0m \u001b[0mwv_to_pix_setup\u001b[0m \u001b[0;34m+\u001b[0m \u001b[0mscan_p2\u001b[0m\u001b[0;34m[\u001b[0m\u001b[0mii\u001b[0m\u001b[0;34m]\u001b[0m\u001b[0;34m*\u001b[0m\u001b[0mxall2\u001b[0m \u001b[0;34m+\u001b[0m \u001b[0mscan_p3\u001b[0m\u001b[0;34m[\u001b[0m\u001b[0mjj\u001b[0m\u001b[0;34m]\u001b[0m\u001b[0;34m*\u001b[0m\u001b[0mxall3\u001b[0m\u001b[0;34m\u001b[0m\u001b[0m\n\u001b[0m\u001b[1;32m    132\u001b[0m             \u001b[0;31m# Main call\u001b[0m\u001b[0;34m\u001b[0m\u001b[0;34m\u001b[0m\u001b[0m\n\u001b[1;32m    133\u001b[0m             \u001b[0mmetric\u001b[0m\u001b[0;34m[\u001b[0m\u001b[0mii\u001b[0m\u001b[0;34m,\u001b[0m\u001b[0mjj\u001b[0m\u001b[0;34m]\u001b[0m \u001b[0;34m=\u001b[0m \u001b[0mholy_cross_lines\u001b[0m\u001b[0;34m(\u001b[0m\u001b[0mpix_img\u001b[0m\u001b[0;34m,\u001b[0m \u001b[0mwv_to_pix\u001b[0m\u001b[0;34m)\u001b[0m\u001b[0;34m\u001b[0m\u001b[0m\n",
      "\u001b[0;31mKeyboardInterrupt\u001b[0m: "
     ]
    }
   ],
   "source": [
    "reload(pyparc)\n",
    "reload(pyholy)\n",
    "reload(ptstholy)\n",
    "ptstholy.test_tcent(outfil='test_tcent.json')"
   ]
  },
  {
   "cell_type": "markdown",
   "metadata": {},
   "source": [
    "### Plot"
   ]
  },
  {
   "cell_type": "code",
   "execution_count": 5,
   "metadata": {
    "collapsed": false
   },
   "outputs": [
    {
     "name": "stdout",
     "output_type": "stream",
     "text": [
      "Writing test_tcent.pdf\n"
     ]
    }
   ],
   "source": [
    "reload(ptstholy)\n",
    "ptstholy.plot_ngoodbad('test_tcent.json', ['pixcen', 'nmodify', 'trial'], 'Testing tcent (add/remove)', 'test_tcent.pdf', lgd_loc='upper left')"
   ]
  },
  {
   "cell_type": "markdown",
   "metadata": {
    "collapsed": true
   },
   "source": [
    "----"
   ]
  },
  {
   "cell_type": "markdown",
   "metadata": {},
   "source": [
    "## LRISb 600"
   ]
  },
  {
   "cell_type": "code",
   "execution_count": 23,
   "metadata": {
    "collapsed": false
   },
   "outputs": [
    {
     "name": "stderr",
     "output_type": "stream",
     "text": [
      "\u001b[1;32m[INFO]    ::\u001b[0m Rejecting select ZnI lines\n",
      "\u001b[1;32m[INFO]    ::\u001b[0m Rejecting select CdI lines\n",
      "\u001b[1;32m[INFO]    ::\u001b[0m Rejecting select HgI lines"
     ]
    },
    {
     "name": "stdout",
     "output_type": "stream",
     "text": [
      "Number of Input IDs = 17\n",
      "tparam [ -4.83778644e+03   2.71049428e+00  -5.61950775e-04   7.22198026e-08\n",
      "  -3.41271550e-12]\n",
      "full_RMS = 0.181242\n",
      "nline = 4"
     ]
    },
    {
     "name": "stderr",
     "output_type": "stream",
     "text": [
      "\n",
      "\u001b[1;31m[WARNING] ::\u001b[0m More parameters than data points - fit might be undesirable\n"
     ]
    },
    {
     "name": "stdout",
     "output_type": "stream",
     "text": [
      "\n",
      "> /Users/xavier/local/Python/PYPIT/holy_grail/test_holy.py(305)test_holy1()\n",
      "-> tids = arholy.run_holy2(tcent, idpix, idwave, npix, llist,\n",
      "(Pdb) c\n",
      "RMS = 0.0500245\n",
      "('pparam', array([ -3.48313625e+03,   1.34488855e+00,  -7.13661828e-05]))\n",
      "('tparam', array([ -2.34162567e+03,   3.53252508e-01,   2.15517775e-04,\n",
      "        -2.76400182e-08]))\n",
      "tRMS = 0.0352977\n",
      "max = 11.9903\n",
      "p2 = -690.207\n",
      "p3 = 835.147\n",
      "min for 144.555 is 0.343767\n",
      "min for 163.142 is 0.375159\n",
      "min for 180.934 is 0.238176\n",
      "min for 217.782 is 0.22376\n",
      "2 close lines\n",
      "min for 321.943 is 0.0148689\n",
      "2 close lines\n",
      "min for 443.18 is 0.325146\n",
      "min for 475.962 is 0.578672\n",
      "min for 486.645 is 0.79865\n",
      "min for 799.792 is 0.265673\n",
      "min for 824.986 is 0.197657\n",
      "min for 1049.78 is 0.572457\n",
      "min for 1305.79 is 0.0868421\n",
      "2 close lines\n",
      "min for 1339.67 is 0.3322\n",
      "min for 1401.74 is 0.0534837\n",
      "min for 1410.18 is 0.151824\n",
      "min for 1630.14 is 4.11679\n",
      "min for 1933.08 is 16.4737\n",
      "NID = 5\n",
      "> /Users/xavier/local/Python/PYPIT/src/arholy.py(197)run_holy2()\n",
      "-> debugger.ximshow(metric)\n",
      "(Pdb) debugger.xpcol(tcent, match_pix)\n",
      "144.555473537 -72.1915076134\n",
      "163.142068034 -69.3200936272\n",
      "180.934259218 -56.3026964042\n",
      "217.781609647 -23.3641020018\n",
      "321.943048016 -19.8913244332\n",
      "443.180313026 -15.4388085116\n",
      "475.961520035 -13.8389306777\n",
      "486.644789458 24.9237817995 \n",
      "799.792482121 31.6357512454 \n",
      "824.985767075 137.417814855 \n",
      "1049.77535204 144.899240539 \n",
      "1305.78588484 163.517226601 \n",
      "1339.67232026 181.172434835 \n",
      "1401.73911597 218.005369683 \n",
      "1410.18479473 218.801021963 \n",
      "1630.13787353 268.512358925 \n",
      "1933.08478673 321.928179072 \n",
      "(Pdb) match_pix\n",
      "array([  -72.19150761,   -69.32009363,   -56.3026964 ,   -23.364102  ,\n",
      "         -19.89132443,   -15.43880851,   -13.83893068,    24.9237818 ,\n",
      "          31.63575125,   137.41781485,   144.89924054,   163.5172266 ,\n",
      "         181.17243483,   218.00536968,   218.80102196,   268.51235892,\n",
      "         321.92817907,   323.16532295,   350.56438072,   443.5054589 ,\n",
      "         476.54019154,   480.43275969,   487.44343903,   668.12292254,\n",
      "         747.98153575,   800.05815476,   825.18342439,   875.25266506,\n",
      "        1008.06230195,  1049.20289527,  1092.70559422,  1291.47166592,\n",
      "        1304.10628183,  1305.69904276,  1339.34012004,  1401.79259967,\n",
      "        1410.33661887,  1634.25465921,  1691.10574339,  1713.78010063,\n",
      "        1949.55846951,  2222.33996059,  2241.4678209 ,  2530.65824314,\n",
      "        2542.61837471,  2754.62954622,  2759.55672618,  2792.55740095])\n",
      "(Pdb) debugger.xpcol(llist, match_pix)\n",
      "3019.24   -72.1915076134\n",
      "3022.384  -69.3200936272\n",
      "3036.66   -56.3026964042\n",
      "3072.95   -23.3641020018\n",
      "3076.79   -19.8913244332\n",
      "3081.7172 -15.4388085116\n",
      "3083.4887 -13.8389306777\n",
      "3126.58   24.9237817995 \n",
      "3134.0746 31.6357512454 \n",
      "3253.4622 137.417814855 \n",
      "3261.9951 144.899240539 \n",
      "3283.28   163.517226601 \n",
      "3303.53   181.172434835 \n",
      "3345.98   218.005369683 \n",
      "3346.9    218.801021963 \n",
      "3404.6287 268.512358925 \n",
      "3467.1923 321.928179072 \n",
      "3468.6477 323.16532295  \n",
      "3500.9531 350.564380717 \n",
      "3611.5375 443.505458903 \n",
      "3651.198  476.540191545 \n",
      "3655.883  480.432759688 \n",
      "3664.327  487.443439032 \n",
      "3884.44   668.122922537 \n",
      "3983.0519 747.98153575  \n",
      "4047.708  800.058154758 \n",
      "4078.988  825.183424391 \n",
      "4141.4665 875.252665064 \n",
      "4307.8832 1008.06230195 \n",
      "4359.56   1049.20289527 \n",
      "4414.2288 1092.70559422 \n",
      "4663.6572 1291.47166592 \n",
      "4679.4587 1304.10628183 \n",
      "4681.45   1305.69904276 \n",
      "4723.47   1339.34012004 \n",
      "4801.254  1401.79259967 \n",
      "4811.87   1410.33661887 \n",
      "5087.2393 1634.25465921 \n",
      "5156.0964 1691.10574339 \n",
      "5183.42   1713.78010063 \n",
      "5462.268  1949.55846951 \n",
      "5771.21   2222.33996059 \n",
      "5792.276  2241.4678209  \n",
      "6100.8305 2530.65824314 \n",
      "6113.187  2542.61837471 \n",
      "6326.9151 2754.62954622 \n",
      "6331.7636 2759.55672618 \n",
      "6364.1    2792.55740095 \n",
      "(Pdb) exit\n"
     ]
    },
    {
     "ename": "BdbQuit",
     "evalue": "",
     "output_type": "error",
     "traceback": [
      "\u001b[0;31m---------------------------------------------------------------------------\u001b[0m",
      "\u001b[0;31mBdbQuit\u001b[0m                                   Traceback (most recent call last)",
      "\u001b[0;32m<ipython-input-23-b5c80aac1e2d>\u001b[0m in \u001b[0;36m<module>\u001b[0;34m()\u001b[0m\n\u001b[1;32m      4\u001b[0m ptstholy.test_holy1(infil='/holy_grail/lrisb_600_4000_holy.json',\n\u001b[1;32m      5\u001b[0m                    \u001b[0mlamps\u001b[0m\u001b[0;34m=\u001b[0m\u001b[0;34m[\u001b[0m\u001b[0;34m'ZnI'\u001b[0m\u001b[0;34m,\u001b[0m \u001b[0;34m'CdI'\u001b[0m\u001b[0;34m,\u001b[0m \u001b[0;34m'HgI'\u001b[0m\u001b[0;34m]\u001b[0m\u001b[0;34m,\u001b[0m \u001b[0mp23_frac\u001b[0m\u001b[0;34m=\u001b[0m\u001b[0;36m0.4\u001b[0m\u001b[0;34m,\u001b[0m\u001b[0;34m\u001b[0m\u001b[0m\n\u001b[0;32m----> 6\u001b[0;31m                    ngrid=500, outfil='test_holy1_lrisb600.json', verbose=True)\n\u001b[0m",
      "\u001b[0;32m/Users/xavier/local/Python/PYPIT/holy_grail/test_holy.pyc\u001b[0m in \u001b[0;36mtest_holy1\u001b[0;34m(infil, verbose, outfil, ngrid, p23_frac, lamps)\u001b[0m\n\u001b[1;32m    303\u001b[0m             \u001b[0mdebugger\u001b[0m\u001b[0;34m.\u001b[0m\u001b[0mset_trace\u001b[0m\u001b[0;34m(\u001b[0m\u001b[0;34m)\u001b[0m\u001b[0;34m\u001b[0m\u001b[0m\n\u001b[1;32m    304\u001b[0m             \u001b[0;31m# Holy2\u001b[0m\u001b[0;34m\u001b[0m\u001b[0;34m\u001b[0m\u001b[0m\n\u001b[0;32m--> 305\u001b[0;31m             tids = arholy.run_holy2(tcent, idpix, idwave, npix, llist,\n\u001b[0m\u001b[1;32m    306\u001b[0m                              p23_frac=p23_frac, ngrid=ngrid, verbose=verbose)\n\u001b[1;32m    307\u001b[0m             \u001b[0;31m# Evaluate\u001b[0m\u001b[0;34m\u001b[0m\u001b[0;34m\u001b[0m\u001b[0m\n",
      "\u001b[0;32m/Users/xavier/local/Python/PYPIT/src/arholy.py\u001b[0m in \u001b[0;36mrun_holy2\u001b[0;34m(tcent, idpix, idwave, npix, llist, noncalib, ngrid, frac_extra, p23_frac, verbose, debug, close_tol, ndeg)\u001b[0m\n\u001b[1;32m    195\u001b[0m         \u001b[0;31m#\u001b[0m\u001b[0;34m\u001b[0m\u001b[0;34m\u001b[0m\u001b[0m\n\u001b[1;32m    196\u001b[0m         \u001b[0mdebugger\u001b[0m\u001b[0;34m.\u001b[0m\u001b[0mset_trace\u001b[0m\u001b[0;34m(\u001b[0m\u001b[0;34m)\u001b[0m\u001b[0;34m\u001b[0m\u001b[0m\n\u001b[0;32m--> 197\u001b[0;31m         \u001b[0mdebugger\u001b[0m\u001b[0;34m.\u001b[0m\u001b[0mximshow\u001b[0m\u001b[0;34m(\u001b[0m\u001b[0mmetric\u001b[0m\u001b[0;34m)\u001b[0m\u001b[0;34m\u001b[0m\u001b[0m\n\u001b[0m\u001b[1;32m    198\u001b[0m     \u001b[0;31m# Return\u001b[0m\u001b[0;34m\u001b[0m\u001b[0;34m\u001b[0m\u001b[0m\n\u001b[1;32m    199\u001b[0m     \u001b[0;32mreturn\u001b[0m \u001b[0mtids\u001b[0m\u001b[0;34m\u001b[0m\u001b[0m\n",
      "\u001b[0;32m/Users/xavier/local/Python/PYPIT/src/arholy.py\u001b[0m in \u001b[0;36mrun_holy2\u001b[0;34m(tcent, idpix, idwave, npix, llist, noncalib, ngrid, frac_extra, p23_frac, verbose, debug, close_tol, ndeg)\u001b[0m\n\u001b[1;32m    195\u001b[0m         \u001b[0;31m#\u001b[0m\u001b[0;34m\u001b[0m\u001b[0;34m\u001b[0m\u001b[0m\n\u001b[1;32m    196\u001b[0m         \u001b[0mdebugger\u001b[0m\u001b[0;34m.\u001b[0m\u001b[0mset_trace\u001b[0m\u001b[0;34m(\u001b[0m\u001b[0;34m)\u001b[0m\u001b[0;34m\u001b[0m\u001b[0m\n\u001b[0;32m--> 197\u001b[0;31m         \u001b[0mdebugger\u001b[0m\u001b[0;34m.\u001b[0m\u001b[0mximshow\u001b[0m\u001b[0;34m(\u001b[0m\u001b[0mmetric\u001b[0m\u001b[0;34m)\u001b[0m\u001b[0;34m\u001b[0m\u001b[0m\n\u001b[0m\u001b[1;32m    198\u001b[0m     \u001b[0;31m# Return\u001b[0m\u001b[0;34m\u001b[0m\u001b[0;34m\u001b[0m\u001b[0m\n\u001b[1;32m    199\u001b[0m     \u001b[0;32mreturn\u001b[0m \u001b[0mtids\u001b[0m\u001b[0;34m\u001b[0m\u001b[0m\n",
      "\u001b[0;32m/Users/xavier/anaconda/lib/python2.7/bdb.pyc\u001b[0m in \u001b[0;36mtrace_dispatch\u001b[0;34m(self, frame, event, arg)\u001b[0m\n\u001b[1;32m     47\u001b[0m             \u001b[0;32mreturn\u001b[0m \u001b[0;31m# None\u001b[0m\u001b[0;34m\u001b[0m\u001b[0m\n\u001b[1;32m     48\u001b[0m         \u001b[0;32mif\u001b[0m \u001b[0mevent\u001b[0m \u001b[0;34m==\u001b[0m \u001b[0;34m'line'\u001b[0m\u001b[0;34m:\u001b[0m\u001b[0;34m\u001b[0m\u001b[0m\n\u001b[0;32m---> 49\u001b[0;31m             \u001b[0;32mreturn\u001b[0m \u001b[0mself\u001b[0m\u001b[0;34m.\u001b[0m\u001b[0mdispatch_line\u001b[0m\u001b[0;34m(\u001b[0m\u001b[0mframe\u001b[0m\u001b[0;34m)\u001b[0m\u001b[0;34m\u001b[0m\u001b[0m\n\u001b[0m\u001b[1;32m     50\u001b[0m         \u001b[0;32mif\u001b[0m \u001b[0mevent\u001b[0m \u001b[0;34m==\u001b[0m \u001b[0;34m'call'\u001b[0m\u001b[0;34m:\u001b[0m\u001b[0;34m\u001b[0m\u001b[0m\n\u001b[1;32m     51\u001b[0m             \u001b[0;32mreturn\u001b[0m \u001b[0mself\u001b[0m\u001b[0;34m.\u001b[0m\u001b[0mdispatch_call\u001b[0m\u001b[0;34m(\u001b[0m\u001b[0mframe\u001b[0m\u001b[0;34m,\u001b[0m \u001b[0marg\u001b[0m\u001b[0;34m)\u001b[0m\u001b[0;34m\u001b[0m\u001b[0m\n",
      "\u001b[0;32m/Users/xavier/anaconda/lib/python2.7/bdb.pyc\u001b[0m in \u001b[0;36mdispatch_line\u001b[0;34m(self, frame)\u001b[0m\n\u001b[1;32m     66\u001b[0m         \u001b[0;32mif\u001b[0m \u001b[0mself\u001b[0m\u001b[0;34m.\u001b[0m\u001b[0mstop_here\u001b[0m\u001b[0;34m(\u001b[0m\u001b[0mframe\u001b[0m\u001b[0;34m)\u001b[0m \u001b[0;32mor\u001b[0m \u001b[0mself\u001b[0m\u001b[0;34m.\u001b[0m\u001b[0mbreak_here\u001b[0m\u001b[0;34m(\u001b[0m\u001b[0mframe\u001b[0m\u001b[0;34m)\u001b[0m\u001b[0;34m:\u001b[0m\u001b[0;34m\u001b[0m\u001b[0m\n\u001b[1;32m     67\u001b[0m             \u001b[0mself\u001b[0m\u001b[0;34m.\u001b[0m\u001b[0muser_line\u001b[0m\u001b[0;34m(\u001b[0m\u001b[0mframe\u001b[0m\u001b[0;34m)\u001b[0m\u001b[0;34m\u001b[0m\u001b[0m\n\u001b[0;32m---> 68\u001b[0;31m             \u001b[0;32mif\u001b[0m \u001b[0mself\u001b[0m\u001b[0;34m.\u001b[0m\u001b[0mquitting\u001b[0m\u001b[0;34m:\u001b[0m \u001b[0;32mraise\u001b[0m \u001b[0mBdbQuit\u001b[0m\u001b[0;34m\u001b[0m\u001b[0m\n\u001b[0m\u001b[1;32m     69\u001b[0m         \u001b[0;32mreturn\u001b[0m \u001b[0mself\u001b[0m\u001b[0;34m.\u001b[0m\u001b[0mtrace_dispatch\u001b[0m\u001b[0;34m\u001b[0m\u001b[0m\n\u001b[1;32m     70\u001b[0m \u001b[0;34m\u001b[0m\u001b[0m\n",
      "\u001b[0;31mBdbQuit\u001b[0m: "
     ]
    }
   ],
   "source": [
    "reload(pyparc)\n",
    "reload(pyholy)\n",
    "reload(ptstholy) \n",
    "ptstholy.test_holy1(infil='/holy_grail/lrisb_600_4000_holy.json',\n",
    "                   lamps=['ZnI', 'CdI', 'HgI'], p23_frac=0.4,\n",
    "                   ngrid=500, outfil='test_holy1_lrisb600.json', verbose=True)"
   ]
  },
  {
   "cell_type": "code",
   "execution_count": 9,
   "metadata": {
    "collapsed": false
   },
   "outputs": [
    {
     "name": "stdout",
     "output_type": "stream",
     "text": [
      "Writing test_holy1_lrisb600.pdf\n"
     ]
    }
   ],
   "source": [
    "ptstholy.plot_ngoodbad('test_holy1_lrisb600.json', ['nlines', 'pixcen'], 'Testing Holy1 Input (LRISb 600)', 'test_holy1_lrisb600.pdf')"
   ]
  },
  {
   "cell_type": "code",
   "execution_count": 28,
   "metadata": {
    "collapsed": true
   },
   "outputs": [],
   "source": [
    "    pixcen = np.round(np.linspace(2000.,2000.,1)).astype(int)"
   ]
  },
  {
   "cell_type": "code",
   "execution_count": 29,
   "metadata": {
    "collapsed": false
   },
   "outputs": [
    {
     "data": {
      "text/plain": [
       "array([2000])"
      ]
     },
     "execution_count": 29,
     "metadata": {},
     "output_type": "execute_result"
    }
   ],
   "source": [
    "pixcen"
   ]
  },
  {
   "cell_type": "code",
   "execution_count": null,
   "metadata": {
    "collapsed": true
   },
   "outputs": [],
   "source": []
  }
 ],
 "metadata": {
  "kernelspec": {
   "display_name": "Python 2",
   "language": "python",
   "name": "python2"
  },
  "language_info": {
   "codemirror_mode": {
    "name": "ipython",
    "version": 2
   },
   "file_extension": ".py",
   "mimetype": "text/x-python",
   "name": "python",
   "nbconvert_exporter": "python",
   "pygments_lexer": "ipython2",
   "version": "2.7.11"
  }
 },
 "nbformat": 4,
 "nbformat_minor": 0
}
