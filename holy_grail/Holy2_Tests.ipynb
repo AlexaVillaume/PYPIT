{
 "cells": [
  {
   "cell_type": "markdown",
   "metadata": {},
   "source": [
    "# Running Holy 2 Tests"
   ]
  },
  {
   "cell_type": "code",
   "execution_count": 1,
   "metadata": {
    "collapsed": false
   },
   "outputs": [
    {
     "name": "stderr",
     "output_type": "stream",
     "text": [
      "/Users/xavier/local/Python/PYPIT/src/arutils.py:27: UserWarning: ds9 module not installed\n",
      "  warnings.warn(\"ds9 module not installed\")\n"
     ]
    }
   ],
   "source": [
    "# imports\n",
    "import json\n",
    "\n",
    "from scipy.optimize import curve_fit\n",
    "\n",
    "sys.path.append(os.path.abspath(\"/Users/xavier/local/Python/PYPIT/src/\"))\n",
    "sys.path.append(os.path.abspath(\"/Users/xavier/local/Python/PYPIT/holy_grail/\"))\n",
    "\n",
    "import armsgs as msgs\n",
    "import ardebug\n",
    "debug = ardebug.init()\n",
    "last_updated = \"26 November 2015\"\n",
    "version = '0.3'\n",
    "verbose = False\n",
    "msgs = msgs.get_logger((None, debug, last_updated, version, verbose))\n",
    "import ararclines\n",
    "import ararc as pyparc\n",
    "import arholy as pyholy\n",
    "import test_holy as ptstholy\n",
    "import arutils"
   ]
  },
  {
   "cell_type": "code",
   "execution_count": 14,
   "metadata": {
    "collapsed": false
   },
   "outputs": [
    {
     "name": "stderr",
     "output_type": "stream",
     "text": [
      "\u001b[1;32m[INFO]    ::\u001b[0m Rejecting select ArI lines\n",
      "\u001b[1;32m[INFO]    ::\u001b[0m Rejecting select NeI lines\n",
      "\u001b[1;32m[INFO]    ::\u001b[0m Rejecting select HgI lines"
     ]
    },
    {
     "name": "stdout",
     "output_type": "stream",
     "text": [
      "Number of Input IDs = 53\n",
      "nline = 3\n",
      "RMS = 0.00705964\n",
      "max = 66.9831\n",
      "p2 = -465.861\n",
      "p3 = 523.841\n",
      "NID = 56\n",
      "RMS = 0.00585159\n",
      "max = 66.1894\n",
      "p2 = -420.347\n",
      "p3 = 580.818\n",
      "NID = 51\n",
      "RMS = 0.00774018\n",
      "max = 62.7655\n",
      "p2 = -391.068\n",
      "p3 = 719.722\n",
      "NID = 50\n",
      "RMS = 0.00691843\n",
      "max = 67.7956\n",
      "p2 = -297.508\n",
      "p3 = 739.717\n",
      "NID = 56\n",
      "RMS = 0.0269542\n",
      "max = 64.0688\n",
      "p2 = -207.578\n",
      "p3 = 1023.41\n",
      "NID = 52\n",
      "RMS = 0.00797434\n",
      "max = 58.5023\n",
      "p2 = -23.0444\n",
      "p3 = 1157.19\n",
      "NID = 35\n",
      "RMS = 0.0151506\n",
      "max = 64.1204\n",
      "p2 = 71.661\n",
      "p3 = 1058.4\n",
      "NID = 52\n",
      "RMS = 0.00709797\n",
      "max = 64.5804\n",
      "p2 = 255.82\n",
      "p3 = 1278.41\n",
      "NID = 45\n",
      "RMS = 0.0373309\n",
      "max = 61.6806\n",
      "p2 = 424.075\n",
      "p3 = 1412.92\n",
      "NID = 45\n",
      "RMS = 0.0153569\n",
      "max = 57.487\n",
      "p2 = 711.187\n",
      "p3 = 1847.17\n",
      "NID = 44\n",
      "nline = 4\n",
      "RMS = 0.0120471\n",
      "max = 64.9475\n",
      "p2 = -459.561\n",
      "p3 = 514.435\n",
      "NID = 55\n",
      "RMS = 0.0380026\n",
      "max = 65.9883\n",
      "p2 = -446.847\n",
      "p3 = 601.995\n",
      "NID = 50\n",
      "RMS = 0.0082751\n",
      "max = 67.4173\n",
      "p2 = -385.631\n",
      "p3 = 704.766\n",
      "NID = 58\n",
      "RMS = 0.0165946\n",
      "max = 67.2844\n",
      "p2 = -309.238\n",
      "p3 = 752.782\n",
      "NID = 55\n",
      "RMS = 0.0239344\n",
      "max = 64.769\n",
      "p2 = -183.416\n",
      "p3 = 997.127\n",
      "NID = 52\n",
      "RMS = 0.00885387\n",
      "max = 60.4301\n",
      "p2 = -23.2476\n",
      "p3 = 1172.53\n",
      "NID = 36\n",
      "RMS = 0.0187487\n",
      "max = 63.4121\n",
      "p2 = 71.978\n",
      "p3 = 1065.43\n",
      "NID = 49\n",
      "RMS = 0.0292604\n",
      "max = 67.1341\n",
      "p2 = 292.026\n",
      "p3 = 1377.81\n",
      "NID = 56\n",
      "RMS = 0.0401244\n",
      "max = 58.7025\n",
      "p2 = 447.929\n",
      "p3 = 1366.57\n",
      "NID = 42\n",
      "RMS = 0.0307678\n",
      "max = 57.5598\n",
      "p2 = 682.623\n",
      "p3 = 1771.68\n",
      "NID = 41\n",
      "nline = 5\n",
      "RMS = 0.0219268\n",
      "max = 65.0026\n",
      "p2 = -471.942\n",
      "p3 = 550.075\n",
      "NID = 56\n",
      "RMS = 0.034265\n",
      "max = 67.1827\n",
      "p2 = -440.701\n",
      "p3 = 589.618\n",
      "NID = 56\n",
      "RMS = 0.0141525\n",
      "max = 66.4601\n",
      "p2 = -362.62\n",
      "p3 = 622.141\n",
      "NID = 56\n",
      "RMS = 0.0285883\n",
      "max = 67.1024\n",
      "p2 = -305.238\n",
      "p3 = 738.222\n",
      "NID = 58\n",
      "RMS = 0.0247605\n",
      "max = 61.2671\n",
      "p2 = -179.862\n",
      "p3 = 876.072\n",
      "NID = 42\n",
      "RMS = 0.0133006\n",
      "max = 63.3933\n",
      "p2 = -65.3855\n",
      "p3 = 1064.38\n",
      "NID = 47\n",
      "RMS = 0.021887\n",
      "max = 61.0564\n",
      "p2 = 73.1592\n",
      "p3 = 1091.77\n",
      "NID = 43\n",
      "RMS = 0.0535028\n",
      "max = 65.4951\n",
      "p2 = 259.303\n",
      "p3 = 1304.61\n",
      "NID = 54\n",
      "RMS = 0.0358894\n",
      "max = 59.1024\n",
      "p2 = 446.703\n",
      "p3 = 1360.96\n",
      "NID = 43\n",
      "RMS = 0.130266\n",
      "max = 60.4309\n",
      "p2 = 603.682\n",
      "p3 = 1571.38\n",
      "NID = 38\n",
      "Wrote output to test_holy1.json\n"
     ]
    },
    {
     "name": "stderr",
     "output_type": "stream",
     "text": [
      "\n"
     ]
    }
   ],
   "source": [
    "reload(pyparc)\n",
    "reload(pyholy)\n",
    "reload(ptstholy)\n",
    "ptstholy.test_holy1(outfil='test_holy1.json', verbose=True)"
   ]
  },
  {
   "cell_type": "markdown",
   "metadata": {},
   "source": [
    "## Plot"
   ]
  },
  {
   "cell_type": "code",
   "execution_count": 15,
   "metadata": {
    "collapsed": false
   },
   "outputs": [
    {
     "name": "stdout",
     "output_type": "stream",
     "text": [
      "Writing test_holy1.pdf\n"
     ]
    }
   ],
   "source": [
    "reload(ptstholy)\n",
    "ptstholy.plot_ngoodbad('test_holy1.json', ['nlines', 'pixcen'], 'Testing Holy1 Input', 'test_holy1.pdf')"
   ]
  },
  {
   "cell_type": "markdown",
   "metadata": {},
   "source": [
    "## Varying things a bit"
   ]
  },
  {
   "cell_type": "code",
   "execution_count": 84,
   "metadata": {
    "collapsed": false
   },
   "outputs": [
    {
     "name": "stderr",
     "output_type": "stream",
     "text": [
      "\u001b[1;32m[INFO]    ::\u001b[0m Rejecting select ArI lines\n",
      "\u001b[1;32m[INFO]    ::\u001b[0m Rejecting select NeI lines\n",
      "\u001b[1;32m[INFO]    ::\u001b[0m Rejecting select HgI lines"
     ]
    },
    {
     "name": "stdout",
     "output_type": "stream",
     "text": [
      "Number of Input IDs = 53\n",
      "nline = 3"
     ]
    },
    {
     "name": "stderr",
     "output_type": "stream",
     "text": [
      "\n",
      "\u001b[1;31m[WARNING] ::\u001b[0m More parameters than data points - fit might be undesirable\n",
      "\u001b[1;31m[WARNING] ::\u001b[0m More parameters than data points - fit might be undesirable\n",
      "\u001b[1;31m[WARNING] ::\u001b[0m More parameters than data points - fit might be undesirable\n",
      "\u001b[1;31m[WARNING] ::\u001b[0m More parameters than data points - fit might be undesirable\n",
      "\u001b[1;31m[WARNING] ::\u001b[0m More parameters than data points - fit might be undesirable\n",
      "\u001b[1;31m[WARNING] ::\u001b[0m More parameters than data points - fit might be undesirable\n",
      "\u001b[1;31m[WARNING] ::\u001b[0m More parameters than data points - fit might be undesirable\n",
      "\u001b[1;31m[WARNING] ::\u001b[0m More parameters than data points - fit might be undesirable\n",
      "\u001b[1;31m[WARNING] ::\u001b[0m More parameters than data points - fit might be undesirable\n",
      "\u001b[1;31m[WARNING] ::\u001b[0m More parameters than data points - fit might be undesirable\n",
      "\u001b[1;31m[WARNING] ::\u001b[0m More parameters than data points - fit might be undesirable\n",
      "\u001b[1;31m[WARNING] ::\u001b[0m More parameters than data points - fit might be undesirable\n",
      "\u001b[1;31m[WARNING] ::\u001b[0m More parameters than data points - fit might be undesirable\n",
      "\u001b[1;31m[WARNING] ::\u001b[0m More parameters than data points - fit might be undesirable\n",
      "\u001b[1;31m[WARNING] ::\u001b[0m More parameters than data points - fit might be undesirable\n",
      "\u001b[1;31m[WARNING] ::\u001b[0m More parameters than data points - fit might be undesirable\n",
      "\u001b[1;31m[WARNING] ::\u001b[0m More parameters than data points - fit might be undesirable\n",
      "\u001b[1;31m[WARNING] ::\u001b[0m More parameters than data points - fit might be undesirable\n",
      "\u001b[1;31m[WARNING] ::\u001b[0m More parameters than data points - fit might be undesirable"
     ]
    },
    {
     "name": "stdout",
     "output_type": "stream",
     "text": [
      "\n",
      "nline = 4"
     ]
    },
    {
     "name": "stderr",
     "output_type": "stream",
     "text": [
      "\n",
      "\u001b[1;31m[WARNING] ::\u001b[0m More parameters than data points - fit might be undesirable\n",
      "\u001b[1;31m[WARNING] ::\u001b[0m More parameters than data points - fit might be undesirable\n",
      "\u001b[1;31m[WARNING] ::\u001b[0m More parameters than data points - fit might be undesirable\n",
      "\u001b[1;31m[WARNING] ::\u001b[0m More parameters than data points - fit might be undesirable\n",
      "\u001b[1;31m[WARNING] ::\u001b[0m More parameters than data points - fit might be undesirable\n",
      "\u001b[1;31m[WARNING] ::\u001b[0m More parameters than data points - fit might be undesirable\n",
      "\u001b[1;31m[WARNING] ::\u001b[0m More parameters than data points - fit might be undesirable\n",
      "\u001b[1;31m[WARNING] ::\u001b[0m More parameters than data points - fit might be undesirable\n",
      "\u001b[1;31m[WARNING] ::\u001b[0m More parameters than data points - fit might be undesirable\n",
      "\u001b[1;31m[WARNING] ::\u001b[0m More parameters than data points - fit might be undesirable\n",
      "\u001b[1;31m[WARNING] ::\u001b[0m More parameters than data points - fit might be undesirable\n",
      "\u001b[1;31m[WARNING] ::\u001b[0m More parameters than data points - fit might be undesirable\n",
      "\u001b[1;31m[WARNING] ::\u001b[0m More parameters than data points - fit might be undesirable\n",
      "\u001b[1;31m[WARNING] ::\u001b[0m More parameters than data points - fit might be undesirable\n",
      "\u001b[1;31m[WARNING] ::\u001b[0m More parameters than data points - fit might be undesirable\n",
      "\u001b[1;31m[WARNING] ::\u001b[0m More parameters than data points - fit might be undesirable\n",
      "\u001b[1;31m[WARNING] ::\u001b[0m More parameters than data points - fit might be undesirable\n",
      "\u001b[1;31m[WARNING] ::\u001b[0m More parameters than data points - fit might be undesirable\n",
      "\u001b[1;31m[WARNING] ::\u001b[0m More parameters than data points - fit might be undesirable\n",
      "\u001b[1;31m[WARNING] ::\u001b[0m More parameters than data points - fit might be undesirable"
     ]
    },
    {
     "name": "stdout",
     "output_type": "stream",
     "text": [
      "\n",
      "nline = 5"
     ]
    },
    {
     "name": "stderr",
     "output_type": "stream",
     "text": [
      "\n",
      "\u001b[1;31m[WARNING] ::\u001b[0m More parameters than data points - fit might be undesirable\n",
      "\u001b[1;31m[WARNING] ::\u001b[0m More parameters than data points - fit might be undesirable"
     ]
    },
    {
     "name": "stdout",
     "output_type": "stream",
     "text": [
      "\n",
      "Wrote output to test_holy1_1000.json\n"
     ]
    },
    {
     "name": "stderr",
     "output_type": "stream",
     "text": [
      "\n",
      "\u001b[1;31m[WARNING] ::\u001b[0m More parameters than data points - fit might be undesirable\n"
     ]
    }
   ],
   "source": [
    "reload(pyparc)\n",
    "reload(pyholy)\n",
    "reload(ptstholy)\n",
    "#ptstholy.test_holy1(outfil='test_holy1_500.json', ngrid=500)\n",
    "ptstholy.test_holy1(outfil='test_holy1_1000.json', ngrid=1000)"
   ]
  },
  {
   "cell_type": "markdown",
   "metadata": {},
   "source": [
    "### Plots"
   ]
  },
  {
   "cell_type": "code",
   "execution_count": 85,
   "metadata": {
    "collapsed": false
   },
   "outputs": [
    {
     "name": "stdout",
     "output_type": "stream",
     "text": [
      "Writing test_holy1_1000.pdf\n"
     ]
    }
   ],
   "source": [
    "#ptstholy.plot_ngoodbad('test_holy1_500.json', ['nlines', 'pixcen'], 'Testing Holy1 Input 500', 'test_holy1_500.pdf')\n",
    "#ptstholy.plot_ngoodbad('test_holy1_1000.json', ['nlines', 'pixcen'], 'Testing Holy1 Input 1000', 'test_holy1_1000.pdf')"
   ]
  },
  {
   "cell_type": "markdown",
   "metadata": {},
   "source": [
    "----"
   ]
  },
  {
   "cell_type": "markdown",
   "metadata": {},
   "source": [
    "## tcent"
   ]
  },
  {
   "cell_type": "code",
   "execution_count": 2,
   "metadata": {
    "collapsed": false
   },
   "outputs": [
    {
     "name": "stderr",
     "output_type": "stream",
     "text": [
      "\u001b[1;32m[INFO]    ::\u001b[0m Rejecting select ArI lines\n",
      "\u001b[1;32m[INFO]    ::\u001b[0m Rejecting select NeI lines\n",
      "\u001b[1;32m[INFO]    ::\u001b[0m Rejecting select HgI lines"
     ]
    },
    {
     "name": "stdout",
     "output_type": "stream",
     "text": [
      "Number of Input IDs = 53\n",
      "nmodify = -20\n"
     ]
    },
    {
     "name": "stderr",
     "output_type": "stream",
     "text": [
      "\n"
     ]
    },
    {
     "ename": "KeyboardInterrupt",
     "evalue": "",
     "output_type": "error",
     "traceback": [
      "\u001b[0;31m---------------------------------------------------------------------------\u001b[0m",
      "\u001b[0;31mKeyboardInterrupt\u001b[0m                         Traceback (most recent call last)",
      "\u001b[0;32m<ipython-input-2-d7a7739e812e>\u001b[0m in \u001b[0;36m<module>\u001b[0;34m()\u001b[0m\n\u001b[1;32m      2\u001b[0m \u001b[0mreload\u001b[0m\u001b[0;34m(\u001b[0m\u001b[0mpyholy\u001b[0m\u001b[0;34m)\u001b[0m\u001b[0;34m\u001b[0m\u001b[0m\n\u001b[1;32m      3\u001b[0m \u001b[0mreload\u001b[0m\u001b[0;34m(\u001b[0m\u001b[0mptstholy\u001b[0m\u001b[0;34m)\u001b[0m\u001b[0;34m\u001b[0m\u001b[0m\n\u001b[0;32m----> 4\u001b[0;31m \u001b[0mptstholy\u001b[0m\u001b[0;34m.\u001b[0m\u001b[0mtest_tcent\u001b[0m\u001b[0;34m(\u001b[0m\u001b[0moutfil\u001b[0m\u001b[0;34m=\u001b[0m\u001b[0;34m'test_tcent.json'\u001b[0m\u001b[0;34m)\u001b[0m\u001b[0;34m\u001b[0m\u001b[0m\n\u001b[0m",
      "\u001b[0;32m/Users/xavier/local/Python/PYPIT/holy_grail/test_holy.pyc\u001b[0m in \u001b[0;36mtest_tcent\u001b[0;34m(infil, outfil, ngrid, p23_frac, nmodify, seed)\u001b[0m\n\u001b[1;32m    344\u001b[0m                 \u001b[0;31m# Run\u001b[0m\u001b[0;34m\u001b[0m\u001b[0;34m\u001b[0m\u001b[0m\n\u001b[1;32m    345\u001b[0m                 tids = arholy.run_holy2(mtcent, idpix, idwave, npix, llist,\n\u001b[0;32m--> 346\u001b[0;31m                                  p23_frac=p23_frac, ngrid=ngrid, verbose=False)\n\u001b[0m\u001b[1;32m    347\u001b[0m                 \u001b[0;31m# Evaluate\u001b[0m\u001b[0;34m\u001b[0m\u001b[0;34m\u001b[0m\u001b[0m\n\u001b[1;32m    348\u001b[0m                 \u001b[0mID\u001b[0m\u001b[0;34m,\u001b[0m \u001b[0mgdID\u001b[0m\u001b[0;34m,\u001b[0m \u001b[0mbadID\u001b[0m \u001b[0;34m=\u001b[0m \u001b[0mevalaute_ids\u001b[0m\u001b[0;34m(\u001b[0m\u001b[0mtids\u001b[0m\u001b[0;34m,\u001b[0m \u001b[0mmtmsk\u001b[0m\u001b[0;34m,\u001b[0m \u001b[0mmtwv\u001b[0m\u001b[0;34m)\u001b[0m\u001b[0;34m\u001b[0m\u001b[0m\n",
      "\u001b[0;32m/Users/xavier/local/Python/PYPIT/src/arholy.pyc\u001b[0m in \u001b[0;36mrun_holy2\u001b[0;34m(tcent, idpix, idwave, npix, llist, noncalib, ngrid, frac_extra, p23_frac, verbose, debug, close_tol)\u001b[0m\n\u001b[1;32m    129\u001b[0m         \u001b[0;32mfor\u001b[0m \u001b[0mjj\u001b[0m \u001b[0;32min\u001b[0m \u001b[0mxrange\u001b[0m\u001b[0;34m(\u001b[0m\u001b[0mngrid\u001b[0m\u001b[0;34m)\u001b[0m\u001b[0;34m:\u001b[0m\u001b[0;34m\u001b[0m\u001b[0m\n\u001b[1;32m    130\u001b[0m             \u001b[0;31m# The next lines could/should be 'mapped'\u001b[0m\u001b[0;34m\u001b[0m\u001b[0;34m\u001b[0m\u001b[0m\n\u001b[0;32m--> 131\u001b[0;31m             \u001b[0mwv_to_pix\u001b[0m \u001b[0;34m=\u001b[0m \u001b[0mwv_to_pix_setup\u001b[0m \u001b[0;34m+\u001b[0m \u001b[0mscan_p2\u001b[0m\u001b[0;34m[\u001b[0m\u001b[0mii\u001b[0m\u001b[0;34m]\u001b[0m\u001b[0;34m*\u001b[0m\u001b[0mxall2\u001b[0m \u001b[0;34m+\u001b[0m \u001b[0mscan_p3\u001b[0m\u001b[0;34m[\u001b[0m\u001b[0mjj\u001b[0m\u001b[0;34m]\u001b[0m\u001b[0;34m*\u001b[0m\u001b[0mxall3\u001b[0m\u001b[0;34m\u001b[0m\u001b[0m\n\u001b[0m\u001b[1;32m    132\u001b[0m             \u001b[0;31m# Main call\u001b[0m\u001b[0;34m\u001b[0m\u001b[0;34m\u001b[0m\u001b[0m\n\u001b[1;32m    133\u001b[0m             \u001b[0mmetric\u001b[0m\u001b[0;34m[\u001b[0m\u001b[0mii\u001b[0m\u001b[0;34m,\u001b[0m\u001b[0mjj\u001b[0m\u001b[0;34m]\u001b[0m \u001b[0;34m=\u001b[0m \u001b[0mholy_cross_lines\u001b[0m\u001b[0;34m(\u001b[0m\u001b[0mpix_img\u001b[0m\u001b[0;34m,\u001b[0m \u001b[0mwv_to_pix\u001b[0m\u001b[0;34m)\u001b[0m\u001b[0;34m\u001b[0m\u001b[0m\n",
      "\u001b[0;31mKeyboardInterrupt\u001b[0m: "
     ]
    }
   ],
   "source": [
    "reload(pyparc)\n",
    "reload(pyholy)\n",
    "reload(ptstholy)\n",
    "ptstholy.test_tcent(outfil='test_tcent.json')"
   ]
  },
  {
   "cell_type": "markdown",
   "metadata": {},
   "source": [
    "### Plot"
   ]
  },
  {
   "cell_type": "code",
   "execution_count": 5,
   "metadata": {
    "collapsed": false
   },
   "outputs": [
    {
     "name": "stdout",
     "output_type": "stream",
     "text": [
      "Writing test_tcent.pdf\n"
     ]
    }
   ],
   "source": [
    "reload(ptstholy)\n",
    "ptstholy.plot_ngoodbad('test_tcent.json', ['pixcen', 'nmodify', 'trial'], 'Testing tcent (add/remove)', 'test_tcent.pdf', lgd_loc='upper left')"
   ]
  },
  {
   "cell_type": "markdown",
   "metadata": {
    "collapsed": true
   },
   "source": [
    "----"
   ]
  },
  {
   "cell_type": "markdown",
   "metadata": {},
   "source": [
    "## LRISb 600"
   ]
  },
  {
   "cell_type": "code",
   "execution_count": 6,
   "metadata": {
    "collapsed": false
   },
   "outputs": [
    {
     "name": "stderr",
     "output_type": "stream",
     "text": [
      "\u001b[1;32m[INFO]    ::\u001b[0m Rejecting select ZnI lines\n",
      "\u001b[1;32m[INFO]    ::\u001b[0m Rejecting select CdI lines\n",
      "\u001b[1;32m[INFO]    ::\u001b[0m Rejecting select HgI lines"
     ]
    },
    {
     "name": "stdout",
     "output_type": "stream",
     "text": [
      "Number of Input IDs = 17\n",
      "nline = 3\n",
      "RMS = 0.0368871\n",
      "Added 3345.98 at 217.782\n",
      "RMS = 0.0366999\n",
      "('pparam', array([ -3.50069486e+03,   1.35659383e+00,  -7.33014660e-05]))\n",
      "('tparam', array([  1.24715922e+05,  -1.15146909e+02,   3.52116997e-02,\n",
      "        -3.56203071e-06]))\n",
      "tRMS = 1.12693e-10\n",
      "max = 12.1736\n",
      "p2 = -763.597\n",
      "p3 = 766.596\n",
      "2 close lines\n",
      "2 close lines\n",
      "NID = 10\n",
      "NGOOD=10, NBAD=0\n",
      "No match for 443.18, mnm=3.10121\n",
      "RMS = 0.0345758\n",
      "Added 3283.28 at 163.142\n",
      "RMS = 0.035622\n",
      "('pparam', array([ -3.42540909e+03,   1.31052924e+00,  -6.62572974e-05]))\n",
      "('tparam', array([ -2.74719330e+04,   2.27575180e+01,  -6.44086345e-03,\n",
      "         6.31409719e-07]))\n",
      "tRMS = 6.70459e-12\n",
      "max = 11.6161\n",
      "p2 = -759.962\n",
      "p3 = 839.29\n",
      "2 close lines\n",
      "2 close lines\n",
      "NID = 10\n",
      "NGOOD=10, NBAD=0\n",
      "No match for 799.792, mnm=2.85651\n",
      "No match for 321.943, mnm=2.30101\n",
      "No match for 824.986, mnm=3.44118\n",
      "No match for 217.782, mnm=6.57099\n",
      "No match for 1049.78, mnm=9.87192\n",
      "No match for 180.934, mnm=8.25294\n",
      "No match for 1305.79, mnm=4.46891\n",
      "No match for 163.142, mnm=8.00171\n",
      "No match for 1339.67, mnm=14.7544\n",
      "No match for 144.555, mnm=3.55289\n",
      "No match for 1401.74, mnm=21.9097\n",
      "No match for 1410.18, mnm=13.464\n",
      "No match for 1630.14, mnm=29.1923\n",
      "No match for 1933.08, mnm=35.3078\n",
      "Not enough matches with tolerance=2. Doubling\n",
      "RMS = 0.0461242\n",
      "Added 4047.71 at 799.792\n",
      "RMS = 0.046149\n",
      "('pparam', array([ -2.75893931e+03,   9.48276941e-01,  -1.70665048e-05]))\n",
      "('tparam', array([ -3.35346023e+04,   2.54798162e+01,  -6.52704212e-03,\n",
      "         5.75085917e-07]))\n",
      "tRMS = 1.94574e-11\n",
      "max = 11.0952\n",
      "p2 = -373.99\n",
      "p3 = 565.25\n",
      "2 close lines\n",
      "NID = 11\n",
      "NGOOD=11, NBAD=0\n",
      "No match for 1049.78, mnm=4.4078\n",
      "RMS = 0.0582316\n",
      "Added 3651.2 at 475.962\n",
      "RMS = 0.0578435\n",
      "('pparam', array([ -2.82985510e+03,   9.85293494e-01,  -2.18852675e-05]))\n",
      "('tparam', array([  2.07409685e+03,  -2.78770496e+00,   9.44654644e-04,\n",
      "        -8.24467382e-08]))\n",
      "tRMS = 1.46861e-12\n",
      "max = 12.4547\n",
      "p2 = -451.298\n",
      "p3 = 892.708\n",
      "2 close lines\n",
      "2 close lines\n",
      "NID = 11\n",
      "NGOOD=11, NBAD=0\n",
      "RMS = 0.0377966\n",
      "Added 4679.46 at 1305.79\n",
      "RMS = 0.0378423\n",
      "('pparam', array([ -2.47899345e+03,   8.17996306e-01,  -1.96384933e-06]))\n",
      "('tparam', array([ -4.05891488e+03,   1.90762200e+00,  -2.52040401e-04,\n",
      "         1.90994409e-08]))\n",
      "tRMS = 2.46008e-12\n",
      "max = 10.4665"
     ]
    },
    {
     "name": "stderr",
     "output_type": "stream",
     "text": [
      "\n",
      "\u001b[1;31m[WARNING] ::\u001b[0m More parameters than data points - fit might be undesirable"
     ]
    },
    {
     "name": "stdout",
     "output_type": "stream",
     "text": [
      "\n",
      "p2 = 71.4817\n",
      "p3 = 1910.12\n",
      "2 close lines\n",
      "NID = 10\n",
      "NGOOD=10, NBAD=0\n",
      "RMS = 0.106858\n",
      "Failed RMS test\n",
      "RMS = 1.46769e-12\n",
      "('pparam', array([ -1.79499621e+03,   5.19555988e-01,   3.05031713e-05]))\n",
      "('tparam', array([ -1.44673974e+03,   2.91552914e-01,   8.02281715e-05,\n",
      "        -3.61255930e-09]))\n",
      "tRMS = 1.09045e-12\n",
      "max = 12.2743\n",
      "p2 = 150.786\n",
      "p3 = 1861.67\n",
      "2 close lines\n",
      "2 close lines\n",
      "NID = 11\n",
      "NGOOD=11, NBAD=0\n",
      "RMS = 0.00909289\n",
      "Added 5087.24 at 1630.14\n",
      "RMS = 0.00909675\n",
      "('pparam', array([ -2.37016525e+03,   7.73261457e-01,   2.57097882e-06]))\n",
      "('tparam', array([ -1.44557269e+04,   8.22146996e+00,  -1.52676207e-03,\n",
      "         1.04618873e-07]))\n",
      "tRMS = 5.31661e-12\n",
      "max = 11.3954\n",
      "p2 = 322.027\n",
      "p3 = 1703.92\n",
      "2 close lines\n",
      "NID = 11\n",
      "NGOOD=11, NBAD=0\n",
      "No match for 1933.08, mnm=3.41476\n",
      "RMS = 0.00910353\n",
      "Added 4723.47 at 1339.67\n",
      "RMS = 0.00909675\n",
      "('pparam', array([ -2.37016525e+03,   7.73261457e-01,   2.57097882e-06]))\n",
      "('tparam', array([ -1.44557269e+04,   8.22146995e+00,  -1.52676207e-03,\n",
      "         1.04618873e-07]))\n",
      "tRMS = 3.14062e-11\n",
      "max = 11.3954\n",
      "p2 = 322.027\n",
      "p3 = 1703.92\n",
      "2 close lines\n",
      "NID = 11\n",
      "NGOOD=11, NBAD=0\n",
      "RMS = 0.00254595\n",
      "Added 4801.25 at 1401.74\n",
      "RMS = 0.00284245\n",
      "('pparam', array([ -2.09380483e+03,   6.61440029e-01,   1.38732304e-05]))\n",
      "('tparam', array([ -2.64444288e+03,   9.85067048e-01,  -4.94425092e-05,\n",
      "         4.12342746e-09]))\n",
      "tRMS = 5.43323e-12\n",
      "max = 12.0653\n",
      "p2 = 474.697\n",
      "p3 = 1670.87\n",
      "2 close lines\n",
      "NID = 12\n",
      "NGOOD=12, NBAD=0\n",
      "RMS = 0.00254595\n",
      "Added 4801.25 at 1401.74\n",
      "RMS = 0.00284245\n",
      "('pparam', array([ -2.09380483e+03,   6.61440029e-01,   1.38732304e-05]))\n",
      "('tparam', array([ -2.64444288e+03,   9.85067048e-01,  -4.94425092e-05,\n",
      "         4.12342746e-09]))\n",
      "tRMS = 5.43323e-12\n",
      "max = 12.0653\n",
      "p2 = 474.697\n",
      "p3 = 1670.87\n",
      "2 close lines\n",
      "NID = 12\n",
      "NGOOD=12, NBAD=0\n",
      "nline = 4\n",
      "RMS = 0.0366999\n",
      "('pparam', array([ -3.50069486e+03,   1.35659383e+00,  -7.33014660e-05]))\n",
      "('tparam', array([  1.24715922e+05,  -1.15146909e+02,   3.52116997e-02,\n",
      "        -3.56203071e-06]))\n",
      "tRMS = 1.12693e-10\n",
      "max = 12.1736\n",
      "p2 = -763.597\n",
      "p3 = 766.596\n",
      "2 close lines\n",
      "2 close lines\n",
      "NID = 10\n",
      "NGOOD=10, NBAD=0\n",
      "RMS = 0.0346258\n",
      "('pparam', array([ -3.46520007e+03,   1.33433323e+00,  -6.98147436e-05]))\n",
      "('tparam', array([ -7.79189820e+02,  -9.98767433e-01,   6.05299028e-04,\n",
      "        -6.50783526e-08]))\n",
      "tRMS = 1.70678e-12\n",
      "max = 12.1356\n",
      "p2 = -699.243\n",
      "p3 = 842.845\n",
      "2 close lines\n",
      "2 close lines\n",
      "NID = 11\n",
      "NGOOD=11, NBAD=0\n",
      "RMS = 0.0328128\n",
      "('pparam', array([ -3.62596434e+03,   1.42532530e+00,  -8.26832648e-05]))\n",
      "('tparam', array([  3.60198574e+04,  -3.18104187e+01,   9.20215925e-03,\n",
      "        -8.64386162e-07]))\n",
      "tRMS = 1.70803e-11\n",
      "max = 10.1587\n",
      "p2 = -507.771\n",
      "p3 = 598.545\n",
      "2 close lines\n",
      "2 close lines\n",
      "NID = 10\n",
      "NGOOD=10, NBAD=0\n",
      "RMS = 0.0578435\n",
      "('pparam', array([ -2.82985510e+03,   9.85293494e-01,  -2.18852675e-05]))\n",
      "('tparam', array([  2.07409685e+03,  -2.78770496e+00,   9.44654644e-04,\n",
      "        -8.24467382e-08]))\n",
      "tRMS = 2.77166e-12\n",
      "max = 12.4547\n",
      "p2 = -451.298\n",
      "p3 = 892.708\n",
      "2 close lines\n",
      "2 close lines\n",
      "NID = 11\n",
      "NGOOD=11, NBAD=0\n",
      "RMS = 0.0120873\n",
      "('pparam', array([ -2.61862529e+03,   8.84429062e-01,  -9.85582677e-06]))\n",
      "('tparam', array([ -3.12182288e+03,   1.23142279e+00,  -8.94817065e-05,\n",
      "         6.08043064e-09]))\n",
      "tRMS = 1.76215e-12\n",
      "max = 11.6743\n",
      "p2 = -173.875\n",
      "p3 = 893.526\n",
      "2 close lines\n",
      "2 close lines\n",
      "NID = 11\n",
      "NGOOD=11, NBAD=0\n",
      "RMS = 0.107213\n",
      "('pparam', array([ -2.20848149e+03,   7.02355476e-01,   1.03280321e-05]))\n",
      "('tparam', array([  2.03438662e+04,  -1.39747294e+01,   3.19154978e-03,\n",
      "        -2.29652454e-07]))\n",
      "tRMS = 5.90776e-11\n",
      "max = 13.4917\n",
      "p2 = 127.187\n",
      "p3 = 1699.95\n",
      "2 close lines\n",
      "2 close lines\n",
      "NID = 13\n",
      "NGOOD=13, NBAD=0\n",
      "RMS = 0.0124757\n",
      "('pparam', array([ -3.93728870e+03,   1.43092900e+00,  -6.64239312e-05]))\n",
      "('tparam', array([ -3.98963337e+04,   2.41932635e+01,  -4.86904893e-03,\n",
      "         3.37748643e-07]))\n",
      "tRMS = 3.20853e-11\n",
      "max = 12.7169\n",
      "p2 = 309.892\n",
      "p3 = 1805.24\n",
      "2 close lines\n",
      "2 close lines\n",
      "NID = 13\n",
      "NGOOD=13, NBAD=0\n",
      "RMS = 0.00909675\n",
      "('pparam', array([ -2.37016525e+03,   7.73261457e-01,   2.57097882e-06]))\n",
      "('tparam', array([ -1.44557269e+04,   8.22146996e+00,  -1.52676207e-03,\n",
      "         1.04618873e-07]))\n",
      "tRMS = 5.31661e-12\n",
      "max = 11.3954\n",
      "p2 = 322.027\n",
      "p3 = 1703.92\n",
      "2 close lines\n",
      "NID = 11\n",
      "NGOOD=11, NBAD=0\n",
      "RMS = 0.00284245\n",
      "('pparam', array([ -2.09380483e+03,   6.61440029e-01,   1.38732304e-05]))\n",
      "('tparam', array([ -2.64444288e+03,   9.85067048e-01,  -4.94425092e-05,\n",
      "         4.12342746e-09]))\n",
      "tRMS = 2.23937e-12\n",
      "max = 12.0653\n",
      "p2 = 474.697\n",
      "p3 = 1670.87\n",
      "2 close lines\n",
      "NID = 12\n",
      "NGOOD=12, NBAD=0\n",
      "RMS = 0.00284245\n",
      "('pparam', array([ -2.09380483e+03,   6.61440029e-01,   1.38732304e-05]))\n",
      "('tparam', array([ -2.64444288e+03,   9.85067048e-01,  -4.94425092e-05,\n",
      "         4.12342746e-09]))\n",
      "tRMS = 2.23937e-12\n",
      "max = 12.0653\n",
      "p2 = 474.697\n",
      "p3 = 1670.87\n",
      "2 close lines\n",
      "NID = 12\n",
      "NGOOD=12, NBAD=0\n",
      "nline = 5\n",
      "RMS = 0.0335572\n",
      "('pparam', array([ -3.39389140e+03,   1.29192569e+00,  -6.35133919e-05]))\n",
      "('tparam', array([ -4.80608343e+03,   2.55498647e+00,  -4.39963259e-04,\n",
      "         3.73886536e-08]))\n",
      "tRMS = 0.0332747\n",
      "max = 11.7806\n",
      "p2 = -766.261\n",
      "p3 = 844.957\n",
      "2 close lines\n",
      "2 close lines\n",
      "NID = 10\n",
      "NGOOD=10, NBAD=0\n",
      "RMS = 0.0342682\n",
      "('pparam', array([ -3.47611896e+03,   1.34059630e+00,  -7.07120058e-05]))\n",
      "('tparam', array([ -2.87537306e+03,   8.17123936e-01,   8.12324789e-05,\n",
      "        -1.46913595e-08]))\n",
      "tRMS = 0.0326876\n",
      "max = 12.052\n",
      "p2 = -717.858\n",
      "p3 = 870.165\n",
      "2 close lines\n",
      "2 close lines\n",
      "NID = 10\n",
      "NGOOD=10, NBAD=0\n",
      "RMS = 0.152877\n",
      "('pparam', array([ -3.00219642e+03,   1.07490040e+00,  -3.35020270e-05]))\n",
      "('tparam', array([ -8.81779836e+03,   5.77898910e+00,  -1.29929400e-03,\n",
      "         1.13295829e-07]))\n",
      "tRMS = 0.03321\n",
      "max = 13.6186\n",
      "p2 = -522.074\n",
      "p3 = 886.014\n",
      "2 close lines\n",
      "2 close lines\n",
      "NID = 13\n",
      "NGOOD=13, NBAD=0\n",
      "RMS = 0.0530073\n",
      "('pparam', array([ -2.79573124e+03,   9.67586473e-01,  -1.95943825e-05]))\n",
      "('tparam', array([ -1.30107358e+03,  -2.05315990e-01,   2.86858431e-04,\n",
      "        -2.66588550e-08]))\n",
      "tRMS = 0.0555612\n",
      "max = 11.6539\n",
      "p2 = -467.218\n",
      "p3 = 952.201\n",
      "2 close lines\n",
      "2 close lines\n",
      "NID = 11\n",
      "NGOOD=11, NBAD=0\n",
      "RMS = 0.229316\n",
      "('pparam', array([ -2.57361604e+03,   8.63016160e-01,  -7.31219769e-06]))\n",
      "('tparam', array([ -6.32600417e+03,   3.44311029e+00,  -5.97522179e-04,\n",
      "         4.49167976e-08]))\n",
      "tRMS = 0.080749\n",
      "max = 11.1661\n",
      "p2 = -10.5794\n",
      "p3 = 1638.23\n",
      "2 close lines\n",
      "2 close lines\n",
      "NID = 10\n",
      "NGOOD=10, NBAD=0\n",
      "RMS = 0.101719\n",
      "('pparam', array([ -2.23595901e+03,   7.14491878e-01,   8.98988455e-06]))\n",
      "('tparam', array([  1.82485586e+04,  -1.26084424e+01,   2.89481237e-03,\n",
      "        -2.08186268e-07]))\n",
      "tRMS = 0.0180794\n",
      "max = 13.5385\n",
      "p2 = 126.619\n",
      "p3 = 1688.59\n",
      "2 close lines\n",
      "2 close lines\n",
      "NID = 13\n",
      "NGOOD=13, NBAD=0\n",
      "RMS = 0.0844094\n",
      "('pparam', array([ -2.53189838e+03,   8.38845845e-01,  -4.07180367e-06]))\n",
      "('tparam', array([ -2.24268540e+04,   1.31336408e+01,  -2.53530234e-03,\n",
      "         1.73606553e-07]))\n",
      "tRMS = 0.00543556\n",
      "max = 11.1827\n",
      "p2 = 258.954\n",
      "p3 = 1503.73\n",
      "2 close lines\n",
      "2 close lines\n",
      "NID = 9\n",
      "NGOOD=9, NBAD=0\n",
      "RMS = 0.0844094\n",
      "('pparam', array([ -2.53189838e+03,   8.38845845e-01,  -4.07180367e-06]))\n",
      "('tparam', array([ -2.24268540e+04,   1.31336408e+01,  -2.53530234e-03,\n",
      "         1.73606553e-07]))\n",
      "tRMS = 0.00543556\n",
      "max = 11.1827\n",
      "p2 = 258.954\n",
      "p3 = 1503.73\n",
      "2 close lines\n",
      "2 close lines\n",
      "NID = 9\n",
      "NGOOD=9, NBAD=0\n",
      "RMS = 0.0986827\n",
      "('pparam', array([ -2.13166947e+03,   6.76093874e-01,   1.24589857e-05]))\n",
      "('tparam', array([ -4.05919384e+03,   1.81618205e+00,  -2.11975339e-04,\n",
      "         1.47040432e-08]))\n",
      "tRMS = 0.00949601\n",
      "max = 11.6712\n",
      "p2 = 485.231\n",
      "p3 = 1775.44\n",
      "2 close lines\n",
      "NID = 11\n",
      "NGOOD=11, NBAD=0\n",
      "RMS = 0.0986827\n",
      "('pparam', array([ -2.13166947e+03,   6.76093874e-01,   1.24589857e-05]))\n",
      "('tparam', array([ -4.05919384e+03,   1.81618205e+00,  -2.11975339e-04,\n",
      "         1.47040432e-08]))\n",
      "tRMS = 0.00949601\n",
      "max = 11.6712\n",
      "p2 = 485.231\n",
      "p3 = 1775.44\n",
      "2 close lines\n",
      "NID = 11\n",
      "NGOOD=11, NBAD=0\n",
      "Wrote output to test_holy1_lrisb600.json\n"
     ]
    },
    {
     "name": "stderr",
     "output_type": "stream",
     "text": [
      "\n"
     ]
    }
   ],
   "source": [
    "reload(pyparc)\n",
    "reload(pyholy)\n",
    "reload(ptstholy) \n",
    "ptstholy.test_holy1(infil='/holy_grail/lrisb_600_4000_holy.json',\n",
    "                   lamps=['ZnI', 'CdI', 'HgI'], p23_frac=0.4,\n",
    "                   ngrid=500, outfil='test_holy1_lrisb600.json', verbose=True)"
   ]
  },
  {
   "cell_type": "code",
   "execution_count": 7,
   "metadata": {
    "collapsed": false
   },
   "outputs": [
    {
     "name": "stdout",
     "output_type": "stream",
     "text": [
      "Writing test_holy1_lrisb600.pdf\n"
     ]
    }
   ],
   "source": [
    "ptstholy.plot_ngoodbad('test_holy1_lrisb600.json', ['nlines', 'pixcen'], 'Testing Holy1 Input (LRISb 600)', 'test_holy1_lrisb600.pdf')"
   ]
  },
  {
   "cell_type": "code",
   "execution_count": 28,
   "metadata": {
    "collapsed": true
   },
   "outputs": [],
   "source": [
    "    pixcen = np.round(np.linspace(2000.,2000.,1)).astype(int)"
   ]
  },
  {
   "cell_type": "code",
   "execution_count": 29,
   "metadata": {
    "collapsed": false
   },
   "outputs": [
    {
     "data": {
      "text/plain": [
       "array([2000])"
      ]
     },
     "execution_count": 29,
     "metadata": {},
     "output_type": "execute_result"
    }
   ],
   "source": [
    "pixcen"
   ]
  },
  {
   "cell_type": "code",
   "execution_count": null,
   "metadata": {
    "collapsed": true
   },
   "outputs": [],
   "source": []
  }
 ],
 "metadata": {
  "kernelspec": {
   "display_name": "Python 2",
   "language": "python",
   "name": "python2"
  },
  "language_info": {
   "codemirror_mode": {
    "name": "ipython",
    "version": 2
   },
   "file_extension": ".py",
   "mimetype": "text/x-python",
   "name": "python",
   "nbconvert_exporter": "python",
   "pygments_lexer": "ipython2",
   "version": "2.7.11"
  }
 },
 "nbformat": 4,
 "nbformat_minor": 0
}
