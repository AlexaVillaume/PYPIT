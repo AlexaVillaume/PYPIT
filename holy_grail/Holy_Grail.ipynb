{
 "cells": [
  {
   "cell_type": "markdown",
   "metadata": {},
   "source": [
    "# In search of the Holy Grail"
   ]
  },
  {
   "cell_type": "code",
   "execution_count": 1,
   "metadata": {
    "collapsed": true
   },
   "outputs": [],
   "source": [
    "%matplotlib inline"
   ]
  },
  {
   "cell_type": "code",
   "execution_count": 3,
   "metadata": {
    "collapsed": false
   },
   "outputs": [
    {
     "name": "stderr",
     "output_type": "stream",
     "text": [
      "/Users/xavier/local/Python/PYPIT/src/arutils.py:27: UserWarning: ds9 module not installed\n",
      "  warnings.warn(\"ds9 module not installed\")\n"
     ]
    }
   ],
   "source": [
    "# imports\n",
    "import sys\n",
    "from desispec import bootcalib as bootc\n",
    "from desiutil import funcfits as dufits\n",
    "#\n",
    "sys.path.append(os.path.abspath(\"/Users/xavier/local/Python/PYPIT/src/\"))\n",
    "import armsgs as msgs\n",
    "import ardebug\n",
    "debug = ardebug.init()\n",
    "last_updated = \"26 November 2015\"\n",
    "version = '0.3'\n",
    "verbose = False\n",
    "msgs = msgs.get_logger((None, debug, last_updated, version, verbose))\n",
    "import ararclines\n",
    "import ararc as pyparc\n",
    "import arutils"
   ]
  },
  {
   "cell_type": "code",
   "execution_count": 4,
   "metadata": {
    "collapsed": true
   },
   "outputs": [],
   "source": [
    "# LRISr\n",
    "pixpk = np.array([   44.48548296,   172.89127284,   186.40595723,   194.90669321,\n",
    "         205.27791998,   225.91831224,   237.75445526,   244.67787642,\n",
    "         258.32024281,   284.80424904,   297.95088588,   304.32791548,\n",
    "         338.93921337,   367.06152237,   380.85908214,   401.33172725,\n",
    "         410.50564368,   423.48900142,   434.99430789,   457.37290774,\n",
    "         488.37853661,   499.77642185,   512.47037332,   526.46054509,\n",
    "         531.09374127,   548.60194487,   561.55045742,   584.23322514,\n",
    "         607.38695571,   616.29664611,   638.93076161,   655.40375678,\n",
    "         669.6613697 ,   696.61898826,   730.00992529,   746.09652748,\n",
    "         759.13834741,   770.25572854,   792.32336615,   866.2691866 ,\n",
    "         873.17420623,   882.14114981,   888.34678116,   902.1922555 ,\n",
    "         924.47068438,   961.43743412,   976.85878178,   987.46838199,\n",
    "        1020.05739901,  1036.93430325,  1053.50315   ,  1085.1768635 ,\n",
    "        1114.722588  ,  1122.68159311,  1140.78101461,  1154.30159287,\n",
    "        1159.95601591,  1176.25448288,  1183.35928052,  1217.26159628,\n",
    "        1237.96559256,  1248.14347416,  1257.39153162,  1264.07798538,\n",
    "        1277.12260434,  1309.02417381,  1369.4388766 ,  1375.18929295,\n",
    "        1407.1859496 ,  1441.21856771,  1474.36353717,  1494.81185267,\n",
    "        1510.61385111,  1520.04403868,  1532.17586078,  1544.00013256,\n",
    "        1553.49714119,  1568.13495337,  1601.20827538,  1615.38852212,\n",
    "        1648.8922041 ,  1682.28030842,  1692.21254363,  1738.46846657,\n",
    "        1773.96586387,  1779.93551015,  1786.2796231 ,  1791.82491476,\n",
    "        1799.09112006,  1852.68590012,  1866.14740391,  1872.67491904,\n",
    "        1881.15295659,  1889.01947025,  1903.32590177,  1913.46875905,\n",
    "        1920.45244571,  1927.45068105,  1932.74364454,  1941.98544882,\n",
    "        1952.75881331,  1960.00649953,  1969.44860805,  1980.91775367,\n",
    "        1989.21778856,  1998.94533717,  2025.86827108])"
   ]
  },
  {
   "cell_type": "markdown",
   "metadata": {},
   "source": [
    "## ID a small subset"
   ]
  },
  {
   "cell_type": "code",
   "execution_count": 5,
   "metadata": {
    "collapsed": false
   },
   "outputs": [
    {
     "data": {
      "text/plain": [
       "array([ 5771.21  ,  5854.1101,  5946.481 ,  6144.7629,  6404.018 ,\n",
       "        6508.3255,  6680.1205,  6718.8974,  6931.3787,  6965.431 ,\n",
       "        7034.352 ,  7175.9154,  7247.1631,  7440.9469])"
      ]
     },
     "execution_count": 5,
     "metadata": {},
     "output_type": "execute_result"
    }
   ],
   "source": [
    "dlamb, wmark, gd_lines, line_guess = bootc.load_gdarc_lines('r',['HgI','NeI','ArI'])\n",
    "dlamb = 1.6 # LRISr 600/7500\n",
    "gd_lines"
   ]
  },
  {
   "cell_type": "code",
   "execution_count": 6,
   "metadata": {
    "collapsed": false
   },
   "outputs": [
    {
     "data": {
      "text/plain": [
       "{u'dlamb': 1.6,\n",
       " u'first_id_idx': [30, 35, 37, 43, 44],\n",
       " u'first_id_pix': array([ 638.93076161,  746.09652748,  770.25572854,  902.1922555 ,\n",
       "         924.47068438]),\n",
       " u'first_id_wave': array([ 6508.3255,  6680.1205,  6718.8974,  6931.3787,  6965.431 ]),\n",
       " u'fit': {'coeff': array([ -3.32713531e+03,   2.98120305e-01,   5.06994823e-07]),\n",
       "  'func': u'polynomial',\n",
       "  'order': 2,\n",
       "  'xmax': 1.0,\n",
       "  'xmin': 0.0},\n",
       " 'guess': 37,\n",
       " u'icen': 7,\n",
       " 'im1': 35,\n",
       " 'im2': 30,\n",
       " 'ip1': 43,\n",
       " 'ip2': 44,\n",
       " 'rms': 0.32779548461765834,\n",
       " u'status': u'ok',\n",
       " u'wmark': 6718.8974}"
      ]
     },
     "execution_count": 6,
     "metadata": {},
     "output_type": "execute_result"
    }
   ],
   "source": [
    "reload(bootc)\n",
    "id_dict = bootc.id_arc_lines(pixpk, gd_lines, dlamb, wmark, line_guess=37)\n",
    "id_dict"
   ]
  },
  {
   "cell_type": "code",
   "execution_count": 7,
   "metadata": {
    "collapsed": false
   },
   "outputs": [
    {
     "data": {
      "text/plain": [
       "array([  5.48379100e+03,   1.60353711e+00])"
      ]
     },
     "execution_count": 7,
     "metadata": {},
     "output_type": "execute_result"
    }
   ],
   "source": [
    "# PYPIT fit\n",
    "func = 'polynomial'\n",
    "#func = 'legendre'\n",
    "deg = 1\n",
    "coeff = arutils.func_fit(id_dict['first_id_pix'], id_dict['first_id_wave'], func, deg)\n",
    "#coeff = arutils.func_fit(id_dict['first_id_pix'], id_dict['first_id_wave'], func, deg,minv=0., maxv=1.)\n",
    "coeff"
   ]
  },
  {
   "cell_type": "code",
   "execution_count": 8,
   "metadata": {
    "collapsed": false
   },
   "outputs": [],
   "source": [
    "fdict = dict(coeff=coeff, func=func, order=len(coeff)-1, minv=0., maxv=1)"
   ]
  },
  {
   "cell_type": "markdown",
   "metadata": {},
   "source": [
    "----"
   ]
  },
  {
   "cell_type": "markdown",
   "metadata": {},
   "source": [
    "## Extrapolating the Solution: I. Nearest ~5 lines (each side)"
   ]
  },
  {
   "cell_type": "code",
   "execution_count": 9,
   "metadata": {
    "collapsed": false
   },
   "outputs": [
    {
     "name": "stderr",
     "output_type": "stream",
     "text": [
      "\u001b[1;32m[INFO]    ::\u001b[0m Rejecting select ArI lines\n",
      "\u001b[1;32m[INFO]    ::\u001b[0m Rejecting select NeI lines\n",
      "\u001b[1;32m[INFO]    ::\u001b[0m Rejecting select HgI lines\n"
     ]
    }
   ],
   "source": [
    "# line list for LRISr\n",
    "alist = ararclines.load_arcline_list(None,None,['ArI','NeI','HgI','KrI','XeI'],None)"
   ]
  },
  {
   "cell_type": "code",
   "execution_count": 9,
   "metadata": {
    "collapsed": false
   },
   "outputs": [],
   "source": [
    "reload(pyparc)\n",
    "ex_lines, guesses, matches = pyparc.extrap_Nlines(pixpk,id_dict['first_id_idx'],\n",
    "                                                  id_dict['first_id_wave'],alist['wave'],\n",
    "                                                  fdict=fdict,Nextrap=10)\n",
    "gdp = matches > 1."
   ]
  },
  {
   "cell_type": "code",
   "execution_count": 10,
   "metadata": {
    "collapsed": false
   },
   "outputs": [
    {
     "data": {
      "text/plain": [
       "796.38919150200002"
      ]
     },
     "execution_count": 10,
     "metadata": {},
     "output_type": "execute_result"
    }
   ],
   "source": [
    "# Fit original with 2 parameters about x_c\n",
    "xc = np.mean(id_dict['first_id_pix'])\n",
    "xc"
   ]
  },
  {
   "cell_type": "code",
   "execution_count": 11,
   "metadata": {
    "collapsed": true
   },
   "outputs": [],
   "source": [
    "xr = id_dict['first_id_pix'] - xc"
   ]
  },
  {
   "cell_type": "code",
   "execution_count": 12,
   "metadata": {
    "collapsed": false
   },
   "outputs": [
    {
     "data": {
      "text/plain": [
       "array([  6.76083062e+03,   1.60353711e+00])"
      ]
     },
     "execution_count": 12,
     "metadata": {},
     "output_type": "execute_result"
    }
   ],
   "source": [
    "coeffr = arutils.func_fit(xr, id_dict['first_id_wave'], func, 1)\n",
    "coeffr"
   ]
  },
  {
   "cell_type": "code",
   "execution_count": 13,
   "metadata": {
    "collapsed": false
   },
   "outputs": [
    {
     "data": {
      "image/png": "[encoded data removed]",
      "text/plain": [
       "<matplotlib.figure.Figure at 0x1133cfe10>"
      ]
     },
     "metadata": {},
     "output_type": "display_data"
    }
   ],
   "source": [
    "# Plot\n",
    "xmean = np.mean(id_dict['first_id_pix'])\n",
    "plt.clf()\n",
    "ax = plt.gca()\n",
    "gdp = matches > 1.\n",
    "#ax.scatter(ex_lines[gdp]-xmean, matches[gdp]-guesses[gdp], marker='o')\n",
    "dx = ex_lines[gdp]-xmean\n",
    "ax.scatter(dx, (matches[gdp]-guesses[gdp]), marker='o')\n",
    "ax.set_xlabel('dx')\n",
    "ax.set_ylabel('dlambda')\n",
    "#ax.set_ylim(-0.01,0.01)\n",
    "plt.show()"
   ]
  },
  {
   "cell_type": "code",
   "execution_count": 44,
   "metadata": {
    "collapsed": false
   },
   "outputs": [
    {
     "data": {
      "text/plain": [
       "array([ 6124.28270197,  6139.03004164,  6159.90116991,  6178.39628743,\n",
       "        6214.3705429 ,  6264.21300048,  6282.53543523,  6302.94133444,\n",
       "        6325.43094579,  6332.87894451,  6361.02389519,  6381.8390088 ,\n",
       "        6418.30222304,  6455.52252386,  6469.84511244,  7024.66904971,\n",
       "        7049.45931827,  7066.51456171,  7118.90236218,  7146.03248062,\n",
       "        7172.66738762,  7223.58381084,  7271.07942934,  7283.87376344,\n",
       "        7312.96911423,  7334.70384024,  7343.79349108,  7369.99375466,\n",
       "        7381.4149252 ,  7435.9138919 ])"
      ]
     },
     "execution_count": 44,
     "metadata": {},
     "output_type": "execute_result"
    }
   ],
   "source": [
    "guesses"
   ]
  },
  {
   "cell_type": "code",
   "execution_count": 45,
   "metadata": {
    "collapsed": false
   },
   "outputs": [
    {
     "data": {
      "text/plain": [
       "array([    0.    ,     0.    ,     0.    ,     0.    ,  6217.2812,\n",
       "        6266.4952,     0.    ,  6304.7893,  6328.1646,  6334.4276,\n",
       "           0.    ,  6382.9914,     0.    ,     0.    ,     0.    ,\n",
       "        7024.05  ,  7051.2922,  7067.218 ,     0.    ,  7147.042 ,\n",
       "        7173.938 ,  7224.103 ,  7272.936 ,     0.    ,     0.    ,\n",
       "           0.    ,     0.    ,     0.    ,  7383.98  ,  7438.8981])"
      ]
     },
     "execution_count": 45,
     "metadata": {},
     "output_type": "execute_result"
    }
   ],
   "source": [
    "matches"
   ]
  },
  {
   "cell_type": "code",
   "execution_count": 58,
   "metadata": {
    "collapsed": false
   },
   "outputs": [
    {
     "data": {
      "text/plain": [
       "array([  2.40559288e-05,   2.29247979e-05,   3.75185136e-05,\n",
       "         2.20036745e-05,   2.08958707e-05,  -2.27249907e-05,\n",
       "         5.62764090e-05,   1.92663399e-05,   1.74470332e-05,\n",
       "         1.92203712e-05,   6.22541512e-06,   1.83209115e-05])"
      ]
     },
     "execution_count": 58,
     "metadata": {},
     "output_type": "execute_result"
    }
   ],
   "source": [
    "Dlp = (matches[gdp]-coeffr[0]-coeffr[1]*(ex_lines[gdp]-xc))/(ex_lines[gdp]-xc)**2\n",
    "Dlp"
   ]
  },
  {
   "cell_type": "code",
   "execution_count": 60,
   "metadata": {
    "collapsed": false
   },
   "outputs": [
    {
     "data": {
      "image/png": "[encoded data removed]",
      "text/plain": [
       "<matplotlib.figure.Figure at 0x11478b590>"
      ]
     },
     "metadata": {},
     "output_type": "display_data"
    },
    {
     "data": {
      "text/plain": [
       "2.0081105264793145e-05"
      ]
     },
     "execution_count": 60,
     "metadata": {},
     "output_type": "execute_result"
    }
   ],
   "source": [
    "# Plot\n",
    "plt.clf()\n",
    "ax = plt.gca()\n",
    "#ax.scatter(ex_lines[gdp]-xmean, matches[gdp]-guesses[gdp], marker='o')\n",
    "dx = ex_lines[gdp]-xc\n",
    "ax.scatter(dx, Dlp, marker='o')\n",
    "ax.set_xlabel('dx')\n",
    "ax.set_ylabel('dlambda_prime')\n",
    "ax.set_ylim(-3e-5,7e-5)\n",
    "plt.show()\n",
    "np.median(Dlp)"
   ]
  },
  {
   "cell_type": "code",
   "execution_count": 61,
   "metadata": {
    "collapsed": true
   },
   "outputs": [],
   "source": [
    "Dlp_best = np.median(Dlp)"
   ]
  },
  {
   "cell_type": "code",
   "execution_count": 62,
   "metadata": {
    "collapsed": false
   },
   "outputs": [],
   "source": [
    "wave_x = coeffr[0] + coeffr[1]*(ex_lines[gdp]-xc) + Dlp_best*(ex_lines[gdp]-xc)**2"
   ]
  },
  {
   "cell_type": "code",
   "execution_count": 63,
   "metadata": {
    "collapsed": false
   },
   "outputs": [
    {
     "data": {
      "image/png": "[encoded data removed]",
      "text/plain": [
       "<matplotlib.figure.Figure at 0x1143eae50>"
      ]
     },
     "metadata": {},
     "output_type": "display_data"
    }
   ],
   "source": [
    "# Plot\n",
    "plt.clf()\n",
    "ax = plt.gca()\n",
    "gdp = matches > 1.\n",
    "#ax.scatter(ex_lines[gdp]-xmean, matches[gdp]-guesses[gdp], marker='o')\n",
    "dx = ex_lines[gdp]-xc\n",
    "ax.scatter(dx, (matches[gdp]-wave_x), marker='o')\n",
    "ax.set_xlabel('dx')\n",
    "ax.set_ylabel('dlambda')\n",
    "#ax.set_ylim(-0.01,0.01)\n",
    "plt.show()"
   ]
  },
  {
   "cell_type": "code",
   "execution_count": 64,
   "metadata": {
    "collapsed": false
   },
   "outputs": [
    {
     "data": {
      "text/plain": [
       "array([ -1.29048246e-08,  -1.00158654e-08,  -6.46000659e-08,\n",
       "        -7.24689880e-09,  -3.46946772e-09,  -2.59355055e-07,\n",
       "         2.00561788e-07,  -4.26401956e-09,  -1.09504287e-08,\n",
       "        -3.34767518e-09,  -4.79788145e-08,  -5.52940346e-09])"
      ]
     },
     "execution_count": 64,
     "metadata": {},
     "output_type": "execute_result"
    }
   ],
   "source": [
    "Dlpp = (matches[gdp]-coeffr[0]-coeffr[1]*(ex_lines[gdp]-xc)-\n",
    "        Dlp_best*(ex_lines[gdp]-xc)**2)/(ex_lines[gdp]-xc)**3\n",
    "Dlpp"
   ]
  },
  {
   "cell_type": "code",
   "execution_count": 65,
   "metadata": {
    "collapsed": false
   },
   "outputs": [
    {
     "data": {
      "image/png": "[encoded data removed]",
      "text/plain": [
       "<matplotlib.figure.Figure at 0x1139ae290>"
      ]
     },
     "metadata": {},
     "output_type": "display_data"
    },
    {
     "data": {
      "text/plain": [
       "-8.6313821175294997e-09"
      ]
     },
     "execution_count": 65,
     "metadata": {},
     "output_type": "execute_result"
    }
   ],
   "source": [
    "# Plot\n",
    "plt.clf()\n",
    "ax = plt.gca()\n",
    "#ax.scatter(ex_lines[gdp]-xmean, matches[gdp]-guesses[gdp], marker='o')\n",
    "dx = ex_lines[gdp]-xc\n",
    "ax.scatter(dx, Dlpp, marker='o')\n",
    "ax.set_xlabel('dx')\n",
    "ax.set_ylabel('dlambda_primeprime')\n",
    "ax.set_ylim(-4e-7,3e-7)\n",
    "plt.show()\n",
    "np.median(Dlpp)"
   ]
  },
  {
   "cell_type": "code",
   "execution_count": 66,
   "metadata": {
    "collapsed": true
   },
   "outputs": [],
   "source": [
    "Dlpp_best = np.median(Dlpp)\n",
    "wave_xx = coeffr[0] + coeffr[1]*(ex_lines[gdp]-xc) + Dlp_best*(ex_lines[gdp]-xc)**2 + Dlpp_best*(ex_lines[gdp]-xc)**3"
   ]
  },
  {
   "cell_type": "code",
   "execution_count": 67,
   "metadata": {
    "collapsed": false
   },
   "outputs": [
    {
     "data": {
      "image/png": "[encoded data removed]",
      "text/plain": [
       "<matplotlib.figure.Figure at 0x1142f1b90>"
      ]
     },
     "metadata": {},
     "output_type": "display_data"
    }
   ],
   "source": [
    "# Plot\n",
    "plt.clf()\n",
    "ax = plt.gca()\n",
    "gdp = matches > 1.\n",
    "#ax.scatter(ex_lines[gdp]-xmean, matches[gdp]-guesses[gdp], marker='o')\n",
    "dx = ex_lines[gdp]-xc\n",
    "ax.scatter(dx, (matches[gdp]-wave_xx), marker='o')\n",
    "ax.set_xlabel('dx')\n",
    "ax.set_ylabel('dlambda')\n",
    "#ax.set_ylim(-0.01,0.01)\n",
    "plt.show()"
   ]
  },
  {
   "cell_type": "code",
   "execution_count": null,
   "metadata": {
    "collapsed": true
   },
   "outputs": [],
   "source": []
  },
  {
   "cell_type": "code",
   "execution_count": 68,
   "metadata": {
    "collapsed": false
   },
   "outputs": [
    {
     "data": {
      "text/plain": [
       "(4, 2)"
      ]
     },
     "execution_count": 68,
     "metadata": {},
     "output_type": "execute_result"
    }
   ],
   "source": [
    "quads = np.zeros((4,2)).astype(int)\n",
    "quads.shape"
   ]
  },
  {
   "cell_type": "code",
   "execution_count": 71,
   "metadata": {
    "collapsed": false
   },
   "outputs": [],
   "source": [
    "npix = 2048"
   ]
  },
  {
   "cell_type": "code",
   "execution_count": 74,
   "metadata": {
    "collapsed": true
   },
   "outputs": [],
   "source": [
    "    pix_quad = npix//4\n",
    "    quads = np.zeros((4,2)).astype(int)\n",
    "    quads[:,0] = np.arange(4)*pix_quad\n",
    "    quads[:,1] = (np.arange(4)+1)*pix_quad\n",
    "    quads[-1,1] = min(npix,quads[-1,1])"
   ]
  },
  {
   "cell_type": "code",
   "execution_count": 75,
   "metadata": {
    "collapsed": false
   },
   "outputs": [
    {
     "data": {
      "text/plain": [
       "array([[   0,  512],\n",
       "       [ 512, 1024],\n",
       "       [1024, 1536],\n",
       "       [1536, 2048]])"
      ]
     },
     "execution_count": 75,
     "metadata": {},
     "output_type": "execute_result"
    }
   ],
   "source": [
    "quads"
   ]
  },
  {
   "cell_type": "code",
   "execution_count": 76,
   "metadata": {
    "collapsed": true
   },
   "outputs": [],
   "source": [
    "tmp = []*4"
   ]
  },
  {
   "cell_type": "code",
   "execution_count": 78,
   "metadata": {
    "collapsed": false
   },
   "outputs": [
    {
     "data": {
      "text/plain": [
       "0"
      ]
     },
     "execution_count": 78,
     "metadata": {},
     "output_type": "execute_result"
    }
   ],
   "source": []
  },
  {
   "cell_type": "markdown",
   "metadata": {},
   "source": [
    "----"
   ]
  },
  {
   "cell_type": "markdown",
   "metadata": {},
   "source": [
    "## Pushing on"
   ]
  },
  {
   "cell_type": "code",
   "execution_count": 76,
   "metadata": {
    "collapsed": true
   },
   "outputs": [],
   "source": [
    "%matplotlib inline"
   ]
  },
  {
   "cell_type": "code",
   "execution_count": 14,
   "metadata": {
    "collapsed": false
   },
   "outputs": [
    {
     "name": "stderr",
     "output_type": "stream",
     "text": [
      "\u001b[1;32m[INFO]    ::\u001b[0m Rejecting select ArI lines\n",
      "\u001b[1;32m[INFO]    ::\u001b[0m Rejecting select NeI lines\n",
      "\u001b[1;32m[INFO]    ::\u001b[0m Rejecting select HgI lines\n",
      "\u001b[1;32m[INFO]    ::\u001b[0m Cut a few lines to limit extrapolation\n",
      "\u001b[1;32m[INFO]    ::\u001b[0m Did not exceed minimum hits for large extrapolation [bad]\n",
      "\u001b[1;32m[INFO]    ::\u001b[0m Going convservative..\n"
     ]
    },
    {
     "data": {
      "image/png": "[encoded data removed]",
      "text/plain": [
       "<matplotlib.figure.Figure at 0x113511e10>"
      ]
     },
     "metadata": {},
     "output_type": "display_data"
    },
    {
     "name": "stderr",
     "output_type": "stream",
     "text": [
      "\u001b[1;32m[INFO]    ::\u001b[0m Added ID 401.332 at wavelength 6130.15 with 4 hits\n",
      "\u001b[1;32m[INFO]    ::\u001b[0m Cut a few lines to limit extrapolation\n",
      "\u001b[1;32m[INFO]    ::\u001b[0m Exceed minimum hits for large extrapolation [good]\n"
     ]
    },
    {
     "data": {
      "image/png": "[encoded data removed]",
      "text/plain": [
       "<matplotlib.figure.Figure at 0x113a15a10>"
      ]
     },
     "metadata": {},
     "output_type": "display_data"
    },
    {
     "name": "stderr",
     "output_type": "stream",
     "text": [
      "\u001b[1;32m[INFO]    ::\u001b[0m Added ID 172.891 at wavelength 5771.21 with 10 hits\n",
      "\u001b[1;31m[WARNING] ::\u001b[0m Not enough matches to extrapolate (1)\n",
      "\u001b[1;32m[INFO]    ::\u001b[0m Extrapolating to higher lines\n",
      "\u001b[1;32m[INFO]    ::\u001b[0m Cut a few lines to limit extrapolation\n",
      "\u001b[1;32m[INFO]    ::\u001b[0m Did not exceed minimum hits for large extrapolation [bad]\n",
      "\u001b[1;32m[INFO]    ::\u001b[0m Going convservative..\n"
     ]
    },
    {
     "data": {
      "image/png": "[encoded data removed]",
      "text/plain": [
       "<matplotlib.figure.Figure at 0x113bc6f90>"
      ]
     },
     "metadata": {},
     "output_type": "display_data"
    },
    {
     "name": "stderr",
     "output_type": "stream",
     "text": [
      "\u001b[1;32m[INFO]    ::\u001b[0m Added ID 1257.39 at wavelength 7505.94 with 5 hits\n",
      "\u001b[1;32m[INFO]    ::\u001b[0m Cut a few lines to limit extrapolation\n",
      "\u001b[1;32m[INFO]    ::\u001b[0m Did not exceed minimum hits for large extrapolation [bad]\n",
      "\u001b[1;32m[INFO]    ::\u001b[0m Going convservative..\n"
     ]
    },
    {
     "data": {
      "image/png": "[encoded data removed]",
      "text/plain": [
       "<matplotlib.figure.Figure at 0x113c2c090>"
      ]
     },
     "metadata": {},
     "output_type": "display_data"
    },
    {
     "name": "stderr",
     "output_type": "stream",
     "text": [
      "\u001b[1;32m[INFO]    ::\u001b[0m Added ID 1264.08 at wavelength 7516.72 with 12 hits\n",
      "\u001b[1;32m[INFO]    ::\u001b[0m Cut a few lines to limit extrapolation\n",
      "\u001b[1;32m[INFO]    ::\u001b[0m Did not exceed minimum hits for large extrapolation [bad]\n",
      "\u001b[1;32m[INFO]    ::\u001b[0m Going convservative..\n"
     ]
    },
    {
     "data": {
      "image/png": "[encoded data removed]",
      "text/plain": [
       "<matplotlib.figure.Figure at 0x113f49950>"
      ]
     },
     "metadata": {},
     "output_type": "display_data"
    },
    {
     "name": "stderr",
     "output_type": "stream",
     "text": [
      "\u001b[1;32m[INFO]    ::\u001b[0m Added ID 1309.02 at wavelength 7589.5 with 12 hits\n",
      "\u001b[1;32m[INFO]    ::\u001b[0m Cut a few lines to limit extrapolation\n",
      "\u001b[1;32m[INFO]    ::\u001b[0m Exceed minimum hits for large extrapolation [good]\n"
     ]
    },
    {
     "data": {
      "image/png": "[encoded data removed]",
      "text/plain": [
       "<matplotlib.figure.Figure at 0x113a7d310>"
      ]
     },
     "metadata": {},
     "output_type": "display_data"
    },
    {
     "name": "stderr",
     "output_type": "stream",
     "text": [
      "\u001b[1;32m[INFO]    ::\u001b[0m Added ID 1799.09 at wavelength 8379.91 with 10 hits\n",
      "\u001b[1;31m[WARNING] ::\u001b[0m Not enough matches to extrapolate (8)\n",
      "\u001b[1;31m[WARNING] ::\u001b[0m Not enough matches to extrapolate (8)\n",
      "\u001b[1;32m[INFO]    ::\u001b[0m No lines available for fitting\n"
     ]
    },
    {
     "name": "stdout",
     "output_type": "stream",
     "text": [
      "rms = 0.464255\n",
      "--Return--\n",
      "> /Users/xavier/local/Python/PYPIT/src/ararc.py(2027)searching_for_the_grail()->None\n",
      "-> debugger.set_trace()\n",
      "(Pdb) exit\n"
     ]
    },
    {
     "ename": "BdbQuit",
     "evalue": "",
     "output_type": "error",
     "traceback": [
      "\u001b[0;31m---------------------------------------------------------------------------\u001b[0m",
      "\u001b[0;31mBdbQuit\u001b[0m                                   Traceback (most recent call last)",
      "\u001b[0;32m<ipython-input-14-eb6c42ec5e1f>\u001b[0m in \u001b[0;36m<module>\u001b[0;34m()\u001b[0m\n\u001b[1;32m      1\u001b[0m \u001b[0mreload\u001b[0m\u001b[0;34m(\u001b[0m\u001b[0mpyparc\u001b[0m\u001b[0;34m)\u001b[0m\u001b[0;34m\u001b[0m\u001b[0m\n\u001b[0;32m----> 2\u001b[0;31m \u001b[0mpyparc\u001b[0m\u001b[0;34m.\u001b[0m\u001b[0msearching_for_the_grail\u001b[0m\u001b[0;34m(\u001b[0m\u001b[0;34m)\u001b[0m\u001b[0;34m\u001b[0m\u001b[0m\n\u001b[0m",
      "\u001b[0;32m/Users/xavier/local/Python/PYPIT/src/ararc.pyc\u001b[0m in \u001b[0;36msearching_for_the_grail\u001b[0;34m(pixpk, idlines, npix, llist, extrap_off)\u001b[0m\n\u001b[1;32m   2025\u001b[0m     \u001b[0mrms\u001b[0m \u001b[0;34m=\u001b[0m \u001b[0mnp\u001b[0m\u001b[0;34m.\u001b[0m\u001b[0msqrt\u001b[0m\u001b[0;34m(\u001b[0m\u001b[0mnp\u001b[0m\u001b[0;34m.\u001b[0m\u001b[0msum\u001b[0m\u001b[0;34m(\u001b[0m\u001b[0;34m(\u001b[0m\u001b[0mwaves\u001b[0m\u001b[0;34m-\u001b[0m\u001b[0midlines\u001b[0m\u001b[0;34m.\u001b[0m\u001b[0mall_wave\u001b[0m\u001b[0;34m)\u001b[0m\u001b[0;34m**\u001b[0m\u001b[0;36m2\u001b[0m\u001b[0;34m)\u001b[0m\u001b[0;34m/\u001b[0m\u001b[0midlines\u001b[0m\u001b[0;34m.\u001b[0m\u001b[0mnpix\u001b[0m\u001b[0;34m)\u001b[0m\u001b[0;34m\u001b[0m\u001b[0m\n\u001b[1;32m   2026\u001b[0m     \u001b[0;32mprint\u001b[0m\u001b[0;34m(\u001b[0m\u001b[0;34m'rms = {:g}'\u001b[0m\u001b[0;34m.\u001b[0m\u001b[0mformat\u001b[0m\u001b[0;34m(\u001b[0m\u001b[0mrms\u001b[0m\u001b[0;34m)\u001b[0m\u001b[0;34m)\u001b[0m\u001b[0;34m\u001b[0m\u001b[0m\n\u001b[0;32m-> 2027\u001b[0;31m     \u001b[0mdebugger\u001b[0m\u001b[0;34m.\u001b[0m\u001b[0mset_trace\u001b[0m\u001b[0;34m(\u001b[0m\u001b[0;34m)\u001b[0m\u001b[0;34m\u001b[0m\u001b[0m\n\u001b[0m\u001b[1;32m   2028\u001b[0m \u001b[0;34m\u001b[0m\u001b[0m\n\u001b[1;32m   2029\u001b[0m def identify_newlines(idlines, pixpk, llist, do_inbetween=True,\n",
      "\u001b[0;32m/Users/xavier/anaconda/lib/python2.7/bdb.pyc\u001b[0m in \u001b[0;36mtrace_dispatch\u001b[0;34m(self, frame, event, arg)\u001b[0m\n\u001b[1;32m     51\u001b[0m             \u001b[0;32mreturn\u001b[0m \u001b[0mself\u001b[0m\u001b[0;34m.\u001b[0m\u001b[0mdispatch_call\u001b[0m\u001b[0;34m(\u001b[0m\u001b[0mframe\u001b[0m\u001b[0;34m,\u001b[0m \u001b[0marg\u001b[0m\u001b[0;34m)\u001b[0m\u001b[0;34m\u001b[0m\u001b[0m\n\u001b[1;32m     52\u001b[0m         \u001b[0;32mif\u001b[0m \u001b[0mevent\u001b[0m \u001b[0;34m==\u001b[0m \u001b[0;34m'return'\u001b[0m\u001b[0;34m:\u001b[0m\u001b[0;34m\u001b[0m\u001b[0m\n\u001b[0;32m---> 53\u001b[0;31m             \u001b[0;32mreturn\u001b[0m \u001b[0mself\u001b[0m\u001b[0;34m.\u001b[0m\u001b[0mdispatch_return\u001b[0m\u001b[0;34m(\u001b[0m\u001b[0mframe\u001b[0m\u001b[0;34m,\u001b[0m \u001b[0marg\u001b[0m\u001b[0;34m)\u001b[0m\u001b[0;34m\u001b[0m\u001b[0m\n\u001b[0m\u001b[1;32m     54\u001b[0m         \u001b[0;32mif\u001b[0m \u001b[0mevent\u001b[0m \u001b[0;34m==\u001b[0m \u001b[0;34m'exception'\u001b[0m\u001b[0;34m:\u001b[0m\u001b[0;34m\u001b[0m\u001b[0m\n\u001b[1;32m     55\u001b[0m             \u001b[0;32mreturn\u001b[0m \u001b[0mself\u001b[0m\u001b[0;34m.\u001b[0m\u001b[0mdispatch_exception\u001b[0m\u001b[0;34m(\u001b[0m\u001b[0mframe\u001b[0m\u001b[0;34m,\u001b[0m \u001b[0marg\u001b[0m\u001b[0;34m)\u001b[0m\u001b[0;34m\u001b[0m\u001b[0m\n",
      "\u001b[0;32m/Users/xavier/anaconda/lib/python2.7/bdb.pyc\u001b[0m in \u001b[0;36mdispatch_return\u001b[0;34m(self, frame, arg)\u001b[0m\n\u001b[1;32m     89\u001b[0m             \u001b[0;32mfinally\u001b[0m\u001b[0;34m:\u001b[0m\u001b[0;34m\u001b[0m\u001b[0m\n\u001b[1;32m     90\u001b[0m                 \u001b[0mself\u001b[0m\u001b[0;34m.\u001b[0m\u001b[0mframe_returning\u001b[0m \u001b[0;34m=\u001b[0m \u001b[0mNone\u001b[0m\u001b[0;34m\u001b[0m\u001b[0m\n\u001b[0;32m---> 91\u001b[0;31m             \u001b[0;32mif\u001b[0m \u001b[0mself\u001b[0m\u001b[0;34m.\u001b[0m\u001b[0mquitting\u001b[0m\u001b[0;34m:\u001b[0m \u001b[0;32mraise\u001b[0m \u001b[0mBdbQuit\u001b[0m\u001b[0;34m\u001b[0m\u001b[0m\n\u001b[0m\u001b[1;32m     92\u001b[0m         \u001b[0;32mreturn\u001b[0m \u001b[0mself\u001b[0m\u001b[0;34m.\u001b[0m\u001b[0mtrace_dispatch\u001b[0m\u001b[0;34m\u001b[0m\u001b[0m\n\u001b[1;32m     93\u001b[0m \u001b[0;34m\u001b[0m\u001b[0m\n",
      "\u001b[0;31mBdbQuit\u001b[0m: "
     ]
    }
   ],
   "source": [
    "reload(pyparc)\n",
    "pyparc.searching_for_the_grail()"
   ]
  },
  {
   "cell_type": "code",
   "execution_count": null,
   "metadata": {
    "collapsed": false
   },
   "outputs": [],
   "source": [
    "tmp = np.arange(10)\n",
    "tmp.sort()\n"
   ]
  },
  {
   "cell_type": "markdown",
   "metadata": {},
   "source": [
    "----"
   ]
  },
  {
   "cell_type": "markdown",
   "metadata": {},
   "source": [
    "## Read IDL save file?"
   ]
  },
  {
   "cell_type": "code",
   "execution_count": 108,
   "metadata": {
    "collapsed": true
   },
   "outputs": [],
   "source": [
    "from scipy.io.idl import readsav"
   ]
  },
  {
   "cell_type": "code",
   "execution_count": 109,
   "metadata": {
    "collapsed": true
   },
   "outputs": [],
   "source": [
    "lrisr_600 = '/Users/xavier/idl/xidl/Spec/Longslit/calib/linelists/lris_red_600_7500.sav'"
   ]
  },
  {
   "cell_type": "code",
   "execution_count": 110,
   "metadata": {
    "collapsed": true
   },
   "outputs": [],
   "source": [
    "s = readsav(lrisr_600)"
   ]
  },
  {
   "cell_type": "code",
   "execution_count": 120,
   "metadata": {
    "collapsed": false
   },
   "outputs": [
    {
     "data": {
      "text/plain": [
       "('CHEBY', 4, array([ 1045.,  1915.]), 2.5, 2.5, 5, 12, 12, 1, 0.7616806863824909, array([  6.60600226e+03,   1.52876588e+03,   5.00828019e+00,\n",
       "        -3.67292210e+00]), 6567.2282205509955, 1.607637164946027)"
      ]
     },
     "execution_count": 120,
     "metadata": {},
     "output_type": "execute_result"
    }
   ],
   "source": [
    "s['calib'][2]"
   ]
  },
  {
   "cell_type": "code",
   "execution_count": 127,
   "metadata": {
    "collapsed": false
   },
   "outputs": [
    {
     "data": {
      "text/plain": [
       "(20, 2048)"
      ]
     },
     "execution_count": 127,
     "metadata": {},
     "output_type": "execute_result"
    }
   ],
   "source": [
    "s['archive_arc'].shape"
   ]
  },
  {
   "cell_type": "code",
   "execution_count": 116,
   "metadata": {
    "collapsed": false
   },
   "outputs": [
    {
     "data": {
      "image/png": "[encoded data removed]",
      "text/plain": [
       "<matplotlib.figure.Figure at 0x113594210>"
      ]
     },
     "metadata": {},
     "output_type": "display_data"
    }
   ],
   "source": [
    "xdb.xplot(s['archive_arc'][0,:])"
   ]
  },
  {
   "cell_type": "code",
   "execution_count": 122,
   "metadata": {
    "collapsed": false
   },
   "outputs": [
    {
     "data": {
      "text/plain": [
       "{'archive_arc': array([[  20.40959358,   41.03271484,   36.79991531, ...,  171.14596558,\n",
       "          261.13537598,  434.90951538],\n",
       "        [  15.60663414,   13.50810528,   10.54215717, ...,   98.07922363,\n",
       "          128.99525452,  414.66860962],\n",
       "        [  14.18223953,   10.97014904,   10.67464066, ...,   79.47535706,\n",
       "          101.82618713,  399.8918457 ],\n",
       "        ..., \n",
       "        [  14.89193821,   12.34567738,   10.73631287, ...,  473.23348999,\n",
       "          171.31869507,  544.92669678],\n",
       "        [  11.5486269 ,   13.5725584 ,    9.73627853, ...,   66.06369781,\n",
       "           99.66627502,  532.6159668 ],\n",
       "        [  20.89477921,   13.99801254,   12.71237373, ...,   69.35678101,\n",
       "          104.90868378,  500.6892395 ]], dtype=float32),\n",
       " 'calib': rec.array([ ('CHEBY', 4, array([ 1054.5,  1970. ]), 2.5, 2.5, 5, 12, 12, 1, 0.740902973584647, array([  7.02064567e+03,   1.56849510e+03,   5.02493816e+00,\n",
       "         -3.75200666e+00]), 6966.714662333921, 1.6031207530468237),\n",
       "  ('CHEBY', 4, array([ 1052.5,  1968. ]), 2.5, 2.5, 5, 12, 12, 1, 0.6376399139034892, array([  7.01996591e+03,   1.56806230e+03,   5.45036618e+00,\n",
       "         -3.55562666e+00]), 6968.799642444811, 1.6037089327037393),\n",
       "  ('CHEBY', 4, array([ 1045.,  1915.]), 2.5, 2.5, 5, 12, 12, 1, 0.7616806863824909, array([  6.60600226e+03,   1.52876588e+03,   5.00828019e+00,\n",
       "         -3.67292210e+00]), 6567.2282205509955, 1.607637164946027),\n",
       "  ('CHEBY', 4, array([ 1029.,  1995.]), 2.5, 2.5, 5, 12, 12, 1, 0.7517620437573145, array([  6.66942917e+03,   1.59365843e+03,   5.82009034e+00,\n",
       "         -4.42605206e+00]), 6655.554551581226, 1.6108336884944947),\n",
       "  ('CHEBY', 4, array([ 1032.5,  2014. ]), 2.5, 2.5, 5, 12, 12, 1, 0.7926649818908323, array([  6.40131560e+03,   1.61145971e+03,   5.99066729e+00,\n",
       "         -4.25661651e+00]), 6381.615819912692, 1.6127222503127996),\n",
       "  ('CHEBY', 4, array([ 1043.5,  1986. ]), 2.5, 2.5, 5, 12, 12, 1, 0.579116257668583, array([  7.04142966e+03,   1.59031712e+03,   5.59945597e+00,\n",
       "         -4.07589023e+00]), 7004.364734592796, 1.6133674058346514),\n",
       "  ('CHEBY', 4, array([ 1046.,  1907.]), 2.5, 2.5, 5, 12, 12, 1, 0.6882584125436813, array([  6.60644907e+03,   1.52877170e+03,   4.81262992e+00,\n",
       "         -3.60195950e+00]), 6566.11923835647, 1.614157575462741),\n",
       "  ('CHEBY', 4, array([ 1076.5,  1852. ]), 2.5, 2.5, 5, 12, 12, 1, 0.6253233002115463, array([  6.93934558e+03,   1.48562273e+03,   3.97109201e+00,\n",
       "         -3.29838204e+00]), 6850.613341849735, 1.6139082700283325),\n",
       "  ('CHEBY', 4, array([ 1084.,  1895.]), 2.5, 2.5, 5, 12, 12, 1, 0.724296421971828, array([  6.97440232e+03,   1.52028911e+03,   3.88662346e+00,\n",
       "         -3.54407317e+00]), 6873.605583900525, 1.6145174197372398),\n",
       "  ('CHEBY', 4, array([ 1007.5,  2000. ]), 2.5, 2.5, 5, 12, 12, 1, 0.5184060910841516, array([  7.62124026e+03,   1.60106405e+03,   6.35854124e+00,\n",
       "         -4.42077640e+00]), 7641.521482219005, 1.6147197365644388),\n",
       "  ('CHEBY', 4, array([ 1029.,  1811.]), 2.5, 2.5, 5, 12, 12, 1, 0.5348333632812484, array([  7.21381050e+03,   1.45179947e+03,   4.75128745e+00,\n",
       "         -3.27131638e+00]), 7200.9887542955385, 1.6140215654932035),\n",
       "  ('CHEBY', 4, array([ 1042.,  1915.]), 2.5, 2.5, 5, 12, 12, 1, 0.5048838332893527, array([  6.98612896e+03,   1.53351663e+03,   4.73699741e+00,\n",
       "         -3.61054448e+00]), 6952.363269067872, 1.612497117397652),\n",
       "  ('CHEBY', 4, array([ 1052.,  1813.]), 2.5, 2.5, 5, 12, 12, 1, 0.5296620154353544, array([  7.21496266e+03,   1.45228902e+03,   4.25157483e+00,\n",
       "         -3.26129876e+00]), 7165.559032620345, 1.6122444070688289),\n",
       "  ('CHEBY', 4, array([ 1076.5,  1932. ]), 2.5, 2.5, 5, 12, 12, 1, 0.48727283044814035, array([  7.30694827e+03,   1.54602435e+03,   4.19112241e+00,\n",
       "         -3.83407789e+00]), 7218.1361849577925, 1.6112508243295451),\n",
       "  ('CHEBY', 4, array([ 1037.5,  2004. ]), 2.5, 2.5, 5, 12, 12, 1, 0.5454798176330592, array([  7.62126883e+03,   1.60128707e+03,   5.73019989e+00,\n",
       "         -4.28047041e+00]), 7593.793509707266, 1.6105770416652376),\n",
       "  ('CHEBY', 4, array([ 1046.5,  1976. ]), 2.5, 2.5, 5, 12, 12, 1, 0.5613669146707639, array([  7.33857524e+03,   1.57896715e+03,   5.43610735e+00,\n",
       "         -4.20621248e+00]), 7296.899345604221, 1.6103767497897934),\n",
       "  ('CHEBY', 4, array([ 1031.,  2017.]), 2.5, 2.5, 5, 12, 12, 1, 0.4537855429829737, array([  7.05880804e+03,   1.60798027e+03,   5.84366134e+00,\n",
       "         -4.07346986e+00]), 7041.7191289890625, 1.606369990834537),\n",
       "  ('CHEBY', 4, array([ 1061.5,  1820. ]), 2.5, 2.5, 5, 12, 12, 1, 0.47184229211161677, array([  7.21459302e+03,   1.45285226e+03,   4.15620513e+00,\n",
       "         -3.18466835e+00]), 7150.187823669828, 1.6062037359397436),\n",
       "  ('CHEBY', 4, array([ 1032.,  1999.]), 2.5, 2.5, 5, 12, 12, 1, 0.45997240532983485, array([  6.66875749e+03,   1.59226812e+03,   5.34964327e+00,\n",
       "         -4.08702723e+00]), 6650.565890204442, 1.6051462489131154),\n",
       "  ('CHEBY', 4, array([ 1059.,  1949.]), 2.5, 2.5, 5, 12, 12, 1, 0.5291120539765878, array([  7.31356134e+03,   1.55134087e+03,   4.88476758e+00,\n",
       "         -3.98062136e+00]), 7252.543279136453, 1.603394103557548)], \n",
       "           dtype=[(('func', 'FUNC'), 'O'), (('nord', 'NORD'), '>i4'), (('nrm', 'NRM'), 'O'), (('lsig', 'LSIG'), '>f4'), (('hsig', 'HSIG'), '>f4'), (('niter', 'NITER'), '>i4'), (('minpt', 'MINPT'), '>i4'), (('maxrej', 'MAXREJ'), '>i4'), (('flg_rej', 'FLG_REJ'), '>i2'), (('rms', 'RMS'), '>f8'), (('ffit', 'FFIT'), 'O'), (('wave_cen', 'WAVE_CEN'), '>f8'), (('disp_cen', 'DISP_CEN'), '>f8')])}"
      ]
     },
     "execution_count": 122,
     "metadata": {},
     "output_type": "execute_result"
    }
   ],
   "source": [
    "s"
   ]
  },
  {
   "cell_type": "code",
   "execution_count": 126,
   "metadata": {
    "collapsed": false
   },
   "outputs": [
    {
     "data": {
      "text/plain": [
       "array([ 1054.5,  1970. ])"
      ]
     },
     "execution_count": 126,
     "metadata": {},
     "output_type": "execute_result"
    }
   ],
   "source": [
    "s['calib'][0]['nrm']"
   ]
  },
  {
   "cell_type": "markdown",
   "metadata": {},
   "source": [
    "### Generate wavelength array"
   ]
  },
  {
   "cell_type": "code",
   "execution_count": 128,
   "metadata": {
    "collapsed": true
   },
   "outputs": [],
   "source": [
    "pix = np.arange(2048)"
   ]
  },
  {
   "cell_type": "code",
   "execution_count": 139,
   "metadata": {
    "collapsed": true
   },
   "outputs": [],
   "source": [
    "nrm = s['calib'][0]['nrm']\n",
    "xnrm = 2. * (pix - nrm[0])/nrm[1]"
   ]
  },
  {
   "cell_type": "code",
   "execution_count": 137,
   "metadata": {
    "collapsed": true
   },
   "outputs": [],
   "source": [
    "def fcheby(xnrm,order):\n",
    "    leg = np.zeros((len(xnrm),order))\n",
    "    leg[:,0] = 1.\n",
    "    if order >= 2:\n",
    "        leg[:,1] = xnrm \n",
    "    # For looop\n",
    "    for j in range(2,order): \n",
    "        leg[:,j] = 2.0 * xnrm * leg[:,j-1] - leg[:,j-2] \n",
    "    # Return\n",
    "    return leg"
   ]
  },
  {
   "cell_type": "code",
   "execution_count": 144,
   "metadata": {
    "collapsed": false
   },
   "outputs": [
    {
     "data": {
      "text/plain": [
       "(2048, 4)"
      ]
     },
     "execution_count": 144,
     "metadata": {},
     "output_type": "execute_result"
    }
   ],
   "source": [
    "f = fcheby(xnrm,s['calib'][0]['nord'])\n",
    "f.shape"
   ]
  },
  {
   "cell_type": "code",
   "execution_count": 145,
   "metadata": {
    "collapsed": true
   },
   "outputs": [],
   "source": [
    "wave = np.dot(f,s['calib'][0]['ffit'])"
   ]
  },
  {
   "cell_type": "code",
   "execution_count": 147,
   "metadata": {
    "collapsed": false
   },
   "outputs": [
    {
     "data": {
      "text/plain": [
       "array([ 5354.33732823,  5355.86696316,  5357.39671807, ...,  8599.09438575,\n",
       "        8600.67245584,  8602.25045322])"
      ]
     },
     "execution_count": 147,
     "metadata": {},
     "output_type": "execute_result"
    }
   ],
   "source": [
    "wave"
   ]
  },
  {
   "cell_type": "markdown",
   "metadata": {},
   "source": [
    "----"
   ]
  },
  {
   "cell_type": "markdown",
   "metadata": {
    "collapsed": true
   },
   "source": [
    "## Extrap vs. Linelist"
   ]
  },
  {
   "cell_type": "code",
   "execution_count": 10,
   "metadata": {
    "collapsed": false
   },
   "outputs": [
    {
     "data": {
      "text/plain": [
       "<module 'ararc' from '/Users/xavier/local/Python/PYPIT/src/ararc.py'>"
      ]
     },
     "execution_count": 10,
     "metadata": {},
     "output_type": "execute_result"
    }
   ],
   "source": [
    "reload(pyparc)"
   ]
  },
  {
   "cell_type": "code",
   "execution_count": 11,
   "metadata": {
    "collapsed": true
   },
   "outputs": [],
   "source": [
    "# Initialize 5 good lines + fit\n",
    "idlines = pyparc.init_idlines()\n",
    "idlines.fit_poly(3)"
   ]
  },
  {
   "cell_type": "code",
   "execution_count": 12,
   "metadata": {
    "collapsed": true
   },
   "outputs": [],
   "source": [
    "# Read all detected lines and assign wavelegnths\n",
    "pixpk = pyparc.init_pixpk()\n",
    "waves = idlines.eval_poly(pixpk)"
   ]
  },
  {
   "cell_type": "code",
   "execution_count": 13,
   "metadata": {
    "collapsed": false
   },
   "outputs": [
    {
     "name": "stderr",
     "output_type": "stream",
     "text": [
      "\u001b[1;32m[INFO]    ::\u001b[0m Rejecting select ArI lines\n",
      "\u001b[1;32m[INFO]    ::\u001b[0m Rejecting select NeI lines\n",
      "\u001b[1;32m[INFO]    ::\u001b[0m Rejecting select HgI lines\n"
     ]
    }
   ],
   "source": [
    "# Linelist\n",
    "alist = ararclines.load_arcline_list(None,None,['ArI','NeI','HgI','KrI','XeI'],None)"
   ]
  },
  {
   "cell_type": "code",
   "execution_count": 14,
   "metadata": {
    "collapsed": false
   },
   "outputs": [],
   "source": [
    "# Plot wavelengths and linelist\n",
    "plt.clf()\n",
    "ax = plt.gca()\n",
    "# Predicted lines\n",
    "ymnx = (0,1)\n",
    "for wave in waves:\n",
    "    ax.plot([wave]*2, (0.,0.5), 'k')\n",
    "# Linelist\n",
    "for iwave in alist['wave']:\n",
    "    ax.plot([iwave]*2, (0.,0.4), 'r')\n",
    "# Axes\n",
    "ax.set_ylim(ymnx)\n",
    "plt.show()"
   ]
  },
  {
   "cell_type": "code",
   "execution_count": null,
   "metadata": {
    "collapsed": true
   },
   "outputs": [],
   "source": []
  }
 ],
 "metadata": {
  "kernelspec": {
   "display_name": "Python 2",
   "language": "python",
   "name": "python2"
  },
  "language_info": {
   "codemirror_mode": {
    "name": "ipython",
    "version": 2
   },
   "file_extension": ".py",
   "mimetype": "text/x-python",
   "name": "python",
   "nbconvert_exporter": "python",
   "pygments_lexer": "ipython2",
   "version": "2.7.11"
  }
 },
 "nbformat": 4,
 "nbformat_minor": 0
}
