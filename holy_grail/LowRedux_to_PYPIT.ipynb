{
 "cells": [
  {
   "cell_type": "markdown",
   "metadata": {},
   "source": [
    "# Code for transferring LowRedux Arc solution to PYPIT\n",
    "\n",
    "    Generate hdf5 files"
   ]
  },
  {
   "cell_type": "code",
   "execution_count": 124,
   "metadata": {
    "collapsed": false
   },
   "outputs": [],
   "source": [
    "# imports\n",
    "import h5py\n",
    "from scipy.io.idl import readsav\n",
    "import test_holy as tstholy\n",
    "import parse_lowrdx_arcs as plowa"
   ]
  },
  {
   "cell_type": "markdown",
   "metadata": {},
   "source": [
    "## LRISb 600"
   ]
  },
  {
   "cell_type": "markdown",
   "metadata": {},
   "source": [
    "### Read"
   ]
  },
  {
   "cell_type": "code",
   "execution_count": 114,
   "metadata": {
    "collapsed": true
   },
   "outputs": [],
   "source": [
    "# IDL save file\n",
    "sav_file = os.getenv('LONGSLIT_DIR')+'calib/linelists/lris_blue_600.sav'\n",
    "s = readsav(sav_file)\n",
    "ctbl = Table(s['calib'])  # For writing later"
   ]
  },
  {
   "cell_type": "code",
   "execution_count": 49,
   "metadata": {
    "collapsed": true
   },
   "outputs": [],
   "source": [
    "outfil = 'test_arcs/LRISb_600.hdf5'"
   ]
  },
  {
   "cell_type": "code",
   "execution_count": 17,
   "metadata": {
    "collapsed": false
   },
   "outputs": [
    {
     "name": "stderr",
     "output_type": "stream",
     "text": [
      "\u001b[1;32m[INFO]    ::\u001b[0m Rejecting select ZnI lines\n",
      "\u001b[1;32m[INFO]    ::\u001b[0m Rejecting select CdI lines\n",
      "\u001b[1;32m[INFO]    ::\u001b[0m Rejecting select HgI lines\n",
      "\u001b[1;32m[INFO]    ::\u001b[0m Rejecting select ZnI lines\n",
      "\u001b[1;32m[INFO]    ::\u001b[0m Rejecting select CdI lines\n",
      "\u001b[1;32m[INFO]    ::\u001b[0m Rejecting select HgI lines\n"
     ]
    }
   ],
   "source": [
    "# Line list\n",
    "lamps=['ZnI', 'CdI', 'HgI']\n",
    "air_alist = tstholy.ararclines.load_arcline_list(None,None, lamps, None, use_vac=False)\n",
    "alist = tstholy.ararclines.load_arcline_list(None,None, lamps, None)"
   ]
  },
  {
   "cell_type": "markdown",
   "metadata": {},
   "source": [
    "### Init"
   ]
  },
  {
   "cell_type": "code",
   "execution_count": 5,
   "metadata": {
    "collapsed": true
   },
   "outputs": [],
   "source": [
    "ss = 0"
   ]
  },
  {
   "cell_type": "code",
   "execution_count": 125,
   "metadata": {
    "collapsed": false
   },
   "outputs": [
    {
     "data": {
      "text/plain": [
       "{'IDairvac': 'vac',\n",
       " 'infil': '/u/xavier/idl/xidl/Spec/Longslit/calib/linelists/lris_blue_600.sav',\n",
       " 'lamps': array(['ZnI', 'CdI', 'HgI'], \n",
       "       dtype='|S3'),\n",
       " 'npix': 2048,\n",
       " 'nspec': 25}"
      ]
     },
     "execution_count": 125,
     "metadata": {},
     "output_type": "execute_result"
    }
   ],
   "source": [
    "odict = dict(npix=len(s['archive_arc'][0]), lamps=np.array(lamps), nspec=len(s['archive_arc']),infil=sav_file, IDairvac='vac')\n",
    "odict"
   ]
  },
  {
   "cell_type": "markdown",
   "metadata": {},
   "source": [
    "### Find peaks"
   ]
  },
  {
   "cell_type": "code",
   "execution_count": 7,
   "metadata": {
    "collapsed": true
   },
   "outputs": [],
   "source": [
    "spec = s['archive_arc'][ss]"
   ]
  },
  {
   "cell_type": "code",
   "execution_count": 8,
   "metadata": {
    "collapsed": false
   },
   "outputs": [],
   "source": [
    "tampl, tcent, twid, w, yprep = plowa.find_peaks(spec)\n",
    "pixpk  = tcent[w]\n",
    "pixampl = tampl[w]"
   ]
  },
  {
   "cell_type": "code",
   "execution_count": 27,
   "metadata": {
    "collapsed": false,
    "scrolled": true
   },
   "outputs": [
    {
     "data": {
      "text/plain": [
       "array([    6.96347629,   259.05697654,   308.03278559,   505.33123154,\n",
       "         560.35825722,   779.81521594,   788.07340425,   849.88349094,\n",
       "         884.64830427,   897.12069187,  1094.2832287 ,  1139.56636245,\n",
       "        1225.33163475,  1266.12438555,  1299.04532828,  1311.31459385,\n",
       "        1364.42805331,  1389.75112081,  1703.98837067,  1714.42498088,\n",
       "        1737.07062389,  1747.08800529,  1869.39984907,  1923.49732366,\n",
       "        1974.48221379,  2011.49204726,  2029.65877979])"
      ]
     },
     "execution_count": 27,
     "metadata": {},
     "output_type": "execute_result"
    }
   ],
   "source": [
    "pixpk"
   ]
  },
  {
   "cell_type": "code",
   "execution_count": 10,
   "metadata": {
    "collapsed": false
   },
   "outputs": [],
   "source": [
    "# Check\n",
    "if False:\n",
    "    plt.clf()\n",
    "    ax = plt.gca()\n",
    "    ax.plot(np.arange(odict['npix']), yprep, 'k', drawstyle='mid-steps')\n",
    "    ax.scatter(pixpk, pixampl, marker='o')\n",
    "    plt.show()"
   ]
  },
  {
   "cell_type": "markdown",
   "metadata": {},
   "source": [
    "### ID lines"
   ]
  },
  {
   "cell_type": "code",
   "execution_count": 12,
   "metadata": {
    "collapsed": false
   },
   "outputs": [],
   "source": [
    "# Wavelength solution\n",
    "wv_air = plowa.cheby_val(s['calib'][ss]['ffit'], np.arange(odict['npix']),\n",
    "                   s['calib'][ss]['nrm'],s['calib'][ss]['nord'])\n",
    "#xdb.xplot(wv_air, spec)"
   ]
  },
  {
   "cell_type": "code",
   "execution_count": 38,
   "metadata": {
    "collapsed": false
   },
   "outputs": [],
   "source": [
    "# Peaks\n",
    "twave_air = plowa.cheby_val(s['calib'][ss]['ffit'], pixpk,\n",
    "                   s['calib'][ss]['nrm'],s['calib'][ss]['nord'])\n",
    "#twave_air"
   ]
  },
  {
   "cell_type": "code",
   "execution_count": 24,
   "metadata": {
    "collapsed": false
   },
   "outputs": [
    {
     "data": {
      "text/latex": [
       "$[5771.413,~5462.3282,~5401.7496,~5156.254,~5087.4308,~4811.9097,~4801.5197,~4723.7297,~4679.9663,~4664.2652,~4416.2901,~4359.4706,~4252.0962,~4201.1623,~4160.1334,~4144.8613,~4078.8783,~4047.4995,~3663.8751,~3651.3605,~3624.2662,~3612.3078,~3467.7264,~3404.6978,~3345.864,~3303.5228,~3282.8567] \\; \\mathrm{\\mathring{A}}$"
      ],
      "text/plain": [
       "<Quantity [ 5771.41299793, 5462.32824543, 5401.74959892, 5156.25398846,\n",
       "            5087.43077381, 4811.90970678, 4801.51972551, 4723.72966188,\n",
       "            4679.96632699, 4664.26522587, 4416.29011305, 4359.4706136 ,\n",
       "            4252.09617148, 4201.16227744, 4160.13339035, 4144.86131466,\n",
       "            4078.87832267, 4047.49945186, 3663.87508273, 3651.36051886,\n",
       "            3624.26621276, 3612.30778317, 3467.72639073, 3404.69777917,\n",
       "            3345.86401496, 3303.52283322, 3282.85666277] Angstrom>"
      ]
     },
     "execution_count": 24,
     "metadata": {},
     "output_type": "execute_result"
    }
   ],
   "source": [
    "# Vacuum\n",
    "reload(tstholy)\n",
    "twave_vac = tstholy.arwave.airtovac(twave_air*u.AA)\n",
    "twave_vac"
   ]
  },
  {
   "cell_type": "code",
   "execution_count": 37,
   "metadata": {
    "collapsed": false
   },
   "outputs": [],
   "source": [
    "tmp = np.array(air_alist['wave']) # Air\n",
    "tmp.sort()\n",
    "#tmp"
   ]
  },
  {
   "cell_type": "code",
   "execution_count": 19,
   "metadata": {
    "collapsed": false
   },
   "outputs": [
    {
     "data": {
      "text/plain": [
       "array([ 3019.24  ,  3022.384 ,  3036.66  ,  3072.95  ,  3076.79  ,\n",
       "        3081.7172,  3083.4887,  3126.58  ,  3134.0746,  3253.4622,\n",
       "        3261.9951,  3283.28  ,  3303.53  ,  3345.98  ,  3404.6287,\n",
       "        3467.1923,  3468.6477,  3500.9531,  3611.5375,  3651.198 ,\n",
       "        3655.883 ,  3664.327 ,  3884.44  ,  3983.0519,  4047.708 ,\n",
       "        4078.988 ,  4141.4665,  4307.8832,  4359.56  ,  4414.2288,\n",
       "        4663.6572,  4679.4587,  4681.45  ,  4723.47  ,  4801.254 ,\n",
       "        4811.87  ,  5087.2393,  5156.0964,  5183.42  ,  5462.268 ,\n",
       "        5771.21  ,  5792.276 ,  6100.8305,  6113.187 ,  6326.9151,\n",
       "        6331.7636,  6364.1   ,  6440.249 ,  6779.9865,  6909.37  ,\n",
       "        7083.854 ,  7093.815 ,  7347.6941,  8202.5633,  9295.    ])"
      ]
     },
     "execution_count": 19,
     "metadata": {},
     "output_type": "execute_result"
    }
   ],
   "source": [
    "tmp2 = np.array(alist['wave']) # Vacuum\n",
    "tmp2.sort()\n",
    "tmp2"
   ]
  },
  {
   "cell_type": "code",
   "execution_count": 39,
   "metadata": {
    "collapsed": false
   },
   "outputs": [
    {
     "data": {
      "text/plain": [
       "array([ 5771.21  ,  5462.268 ,     0.    ,  5156.0964,  5087.2393,\n",
       "        4811.87  ,  4801.254 ,  4723.47  ,  4679.4587,     0.    ,\n",
       "           0.    ,  4359.56  ,     0.    ,     0.    ,     0.    ,\n",
       "           0.    ,  4078.988 ,  4047.708 ,  3664.327 ,  3651.198 ,\n",
       "           0.    ,     0.    ,  3467.1923,  3404.6287,  3345.98  ,\n",
       "        3303.53  ,  3283.28  ])"
      ]
     },
     "execution_count": 39,
     "metadata": {},
     "output_type": "execute_result"
    }
   ],
   "source": [
    "# ID\n",
    "idwv = np.zeros_like(pixpk)\n",
    "for kk,twv in enumerate(twave_vac.value):\n",
    "    # diff\n",
    "    diff = np.abs(twv-alist['wave'])\n",
    "    if np.min(diff) < 0.6:  #  May change for different instruments\n",
    "        idwv[kk] = alist['wave'][np.argmin(diff)]\n",
    "#idwv"
   ]
  },
  {
   "cell_type": "markdown",
   "metadata": {},
   "source": [
    "### Output"
   ]
  },
  {
   "cell_type": "code",
   "execution_count": 119,
   "metadata": {
    "collapsed": false
   },
   "outputs": [],
   "source": [
    "# open\n",
    "outh5 = h5py.File(outfil, 'w')"
   ]
  },
  {
   "cell_type": "code",
   "execution_count": 120,
   "metadata": {
    "collapsed": false
   },
   "outputs": [],
   "source": [
    "# Meta data\n",
    "outh5.create_group('meta')\n",
    "for key in odict.keys():\n",
    "    outh5['meta'][key] = odict[key]"
   ]
  },
  {
   "cell_type": "code",
   "execution_count": 121,
   "metadata": {
    "collapsed": false
   },
   "outputs": [],
   "source": [
    "# Spectra\n",
    "outh5.create_group('arcs')\n",
    "for ii in range(1):\n",
    "    sii = str(ii)\n",
    "    outh5['arcs'].create_group(sii)\n",
    "    # Datasets\n",
    "    outh5['arcs'][sii]['spec'] = spec\n",
    "    outh5['arcs'][sii]['pixpk'] = pixpk\n",
    "    outh5['arcs'][sii]['ID'] = idwv\n",
    "    outh5['arcs'][sii]['ID'].attrs['airvac'] = 'vac'\n",
    "    # LR wavelengths\n",
    "    outh5['arcs'][sii]['LR_wave'] = wv_air\n",
    "    outh5['arcs'][sii]['LR_wave'].attrs['airvac'] = 'air'\n",
    "    # LR Fit\n",
    "    outh5['arcs'][sii].create_group('LR_fit')\n",
    "    for key in ctbl.keys():\n",
    "        outh5['arcs'][sii]['LR_fit'][key] = ctbl[ii][key]"
   ]
  },
  {
   "cell_type": "code",
   "execution_count": 122,
   "metadata": {
    "collapsed": false
   },
   "outputs": [
    {
     "data": {
      "text/plain": [
       "[u'DISP_CEN',\n",
       " u'FFIT',\n",
       " u'FLG_REJ',\n",
       " u'FUNC',\n",
       " u'HSIG',\n",
       " u'LSIG',\n",
       " u'MAXREJ',\n",
       " u'MINPT',\n",
       " u'NITER',\n",
       " u'NORD',\n",
       " u'NRM',\n",
       " u'RMS',\n",
       " u'WAVE_CEN']"
      ]
     },
     "execution_count": 122,
     "metadata": {},
     "output_type": "execute_result"
    }
   ],
   "source": [
    "outh5['arcs']['0']['LR_fit'].keys()"
   ]
  },
  {
   "cell_type": "code",
   "execution_count": 123,
   "metadata": {
    "collapsed": false
   },
   "outputs": [],
   "source": [
    "outh5.close()"
   ]
  },
  {
   "cell_type": "markdown",
   "metadata": {},
   "source": [
    "### Test reading"
   ]
  },
  {
   "cell_type": "code",
   "execution_count": 135,
   "metadata": {
    "collapsed": true
   },
   "outputs": [],
   "source": [
    "tmp = h5py.File(outfil,'r')"
   ]
  },
  {
   "cell_type": "code",
   "execution_count": 136,
   "metadata": {
    "collapsed": false
   },
   "outputs": [
    {
     "data": {
      "text/plain": [
       "[u'IDairvac', u'infil', u'lamps', u'npix', u'nspec']"
      ]
     },
     "execution_count": 136,
     "metadata": {},
     "output_type": "execute_result"
    }
   ],
   "source": [
    "tmp['meta'].keys()"
   ]
  },
  {
   "cell_type": "code",
   "execution_count": 137,
   "metadata": {
    "collapsed": true
   },
   "outputs": [],
   "source": [
    "mdict = {}\n",
    "for key in tmp['meta'].keys():\n",
    "    mdict[key] = tmp['meta'][key].value\n",
    "mdict['lamps'] = list(mdict['lamps'])"
   ]
  },
  {
   "cell_type": "code",
   "execution_count": 138,
   "metadata": {
    "collapsed": false
   },
   "outputs": [
    {
     "data": {
      "text/plain": [
       "{u'IDairvac': u'vac',\n",
       " u'infil': u'/u/xavier/idl/xidl/Spec/Longslit/calib/linelists/lris_blue_600.sav',\n",
       " u'lamps': ['ZnI', 'CdI', 'HgI'],\n",
       " u'npix': 2048,\n",
       " u'nspec': 25}"
      ]
     },
     "execution_count": 138,
     "metadata": {},
     "output_type": "execute_result"
    }
   ],
   "source": [
    "mdict"
   ]
  },
  {
   "cell_type": "code",
   "execution_count": 139,
   "metadata": {
    "collapsed": false
   },
   "outputs": [
    {
     "data": {
      "text/plain": [
       "[u'ID', u'LR_fit', u'LR_wave', u'pixpk', u'spec']"
      ]
     },
     "execution_count": 139,
     "metadata": {},
     "output_type": "execute_result"
    }
   ],
   "source": [
    "tmp['arcs']['0'].keys()"
   ]
  },
  {
   "cell_type": "code",
   "execution_count": 134,
   "metadata": {
    "collapsed": true
   },
   "outputs": [],
   "source": [
    "tmp.close()"
   ]
  },
  {
   "cell_type": "code",
   "execution_count": 143,
   "metadata": {
    "collapsed": false
   },
   "outputs": [
    {
     "data": {
      "text/plain": [
       "100"
      ]
     },
     "execution_count": 143,
     "metadata": {},
     "output_type": "execute_result"
    }
   ],
   "source": [
    "np.round(143,-2)"
   ]
  },
  {
   "cell_type": "code",
   "execution_count": 142,
   "metadata": {
    "collapsed": false
   },
   "outputs": [
    {
     "data": {
      "text/plain": [
       "array([4, 5, 5, 5, 3, 3, 5, 5, 5, 3])"
      ]
     },
     "execution_count": 142,
     "metadata": {},
     "output_type": "execute_result"
    }
   ],
   "source": [
    "rstate.randint(3,6,10)"
   ]
  },
  {
   "cell_type": "code",
   "execution_count": null,
   "metadata": {
    "collapsed": true
   },
   "outputs": [],
   "source": []
  }
 ],
 "metadata": {
  "kernelspec": {
   "display_name": "Python 2",
   "language": "python",
   "name": "python2"
  },
  "language_info": {
   "codemirror_mode": {
    "name": "ipython",
    "version": 2
   },
   "file_extension": ".py",
   "mimetype": "text/x-python",
   "name": "python",
   "nbconvert_exporter": "python",
   "pygments_lexer": "ipython2",
   "version": "2.7.11"
  }
 },
 "nbformat": 4,
 "nbformat_minor": 0
}
