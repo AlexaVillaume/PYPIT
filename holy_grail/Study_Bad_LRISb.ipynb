{
 "cells": [
  {
   "cell_type": "markdown",
   "metadata": {},
   "source": [
    "# Study Trials with $NBAD \\ge 1$ from LRISb 600"
   ]
  },
  {
   "cell_type": "code",
   "execution_count": 1,
   "metadata": {
    "collapsed": false
   },
   "outputs": [
    {
     "name": "stderr",
     "output_type": "stream",
     "text": [
      "/Users/xavier/local/Python/PYPIT/src/arutils.py:27: UserWarning: ds9 module not installed\n",
      "  warnings.warn(\"ds9 module not installed\")\n"
     ]
    }
   ],
   "source": [
    "# imports\n",
    "import test_holy as ptstholy\n",
    "import test_instrument as ptstinst"
   ]
  },
  {
   "cell_type": "markdown",
   "metadata": {},
   "source": [
    "## List of BAD trials"
   ]
  },
  {
   "cell_type": "code",
   "execution_count": 12,
   "metadata": {
    "collapsed": true
   },
   "outputs": [],
   "source": [
    "test_file = 'output/LRISb_600_tests.hdf5'\n",
    "arc_file = 'LRISb_600.hdf5'"
   ]
  },
  {
   "cell_type": "code",
   "execution_count": 10,
   "metadata": {
    "collapsed": false
   },
   "outputs": [
    {
     "name": "stdout",
     "output_type": "stream",
     "text": [
      "Trial=7, arc=15, Nline1=3, Nidpix=3, NID2=4, NBAD=2, icen=713.763, wvcen=4367.4\n",
      "Trial=15, arc=16, Nline1=5, Nidpix=5, NID2=12, NBAD=1, icen=1788.69, wvcen=5048.19\n",
      "Trial=19, arc=22, Nline1=3, Nidpix=3, NID2=3, NBAD=1, icen=1469.13, wvcen=5018.4\n",
      "Trial=22, arc=16, Nline1=5, Nidpix=5, NID2=12, NBAD=1, icen=1761.93, wvcen=5048.19\n",
      "Trial=23, arc=12, Nline1=3, Nidpix=3, NID2=13, NBAD=1, icen=1488.23, wvcen=5235.2\n",
      "Trial=30, arc=0, Nline1=4, Nidpix=4, NID2=8, NBAD=2, icen=303.518, wvcen=3546.84\n",
      "Trial=33, arc=16, Nline1=3, Nidpix=3, NID2=13, NBAD=1, icen=964.956, wvcen=4162.09\n",
      "Trial=42, arc=17, Nline1=3, Nidpix=3, NID2=8, NBAD=1, icen=508.256, wvcen=3787.74\n",
      "Trial=60, arc=16, Nline1=4, Nidpix=4, NID2=12, NBAD=1, icen=1238.76, wvcen=4644.09\n",
      "Trial=64, arc=12, Nline1=3, Nidpix=3, NID2=13, NBAD=1, icen=1559.69, wvcen=5235.2\n",
      "Trial=70, arc=15, Nline1=3, Nidpix=3, NID2=13, NBAD=1, icen=1318.41, wvcen=5018.4\n",
      "Trial=74, arc=14, Nline1=3, Nidpix=4, NID2=14, NBAD=2, icen=1639.24, wvcen=5805.87\n",
      "Trial=75, arc=2, Nline1=3, Nidpix=3, NID2=13, NBAD=1, icen=1517.95, wvcen=5805.87\n",
      "Trial=115, arc=0, Nline1=4, Nidpix=4, NID2=8, NBAD=2, icen=238.476, wvcen=3546.84\n",
      "Trial=121, arc=1, Nline1=3, Nidpix=3, NID2=7, NBAD=1, icen=874.3, wvcen=3787.74\n",
      "Trial=145, arc=11, Nline1=5, Nidpix=5, NID2=10, NBAD=1, icen=1263.72, wvcen=4528.55\n",
      "Trial=148, arc=15, Nline1=3, Nidpix=3, NID2=13, NBAD=1, icen=1260.6, wvcen=5018.4\n",
      "Trial=164, arc=5, Nline1=3, Nidpix=3, NID2=4, NBAD=2, icen=499.122, wvcen=3605.49\n",
      "Trial=173, arc=16, Nline1=5, Nidpix=5, NID2=12, NBAD=1, icen=900.302, wvcen=3960.36\n",
      "Trial=178, arc=17, Nline1=4, Nidpix=4, NID2=11, NBAD=1, icen=1006, wvcen=4302.43\n",
      "Trial=191, arc=7, Nline1=3, Nidpix=3, NID2=3, NBAD=2, icen=401.039, wvcen=4587.5\n",
      "Trial=220, arc=9, Nline1=3, Nidpix=3, NID2=6, NBAD=1, icen=1184.48, wvcen=4567.56\n",
      "Trial=239, arc=0, Nline1=4, Nidpix=4, NID2=8, NBAD=2, icen=355.584, wvcen=3546.84\n",
      "Trial=243, arc=16, Nline1=4, Nidpix=4, NID2=8, NBAD=1, icen=450.606, wvcen=3516.53\n",
      "Trial=247, arc=16, Nline1=4, Nidpix=4, NID2=8, NBAD=1, icen=389.496, wvcen=3516.53\n",
      "Trial=260, arc=14, Nline1=4, Nidpix=4, NID2=13, NBAD=1, icen=1743.21, wvcen=5915.33\n",
      "Trial=266, arc=8, Nline1=4, Nidpix=4, NID2=13, NBAD=1, icen=1552.47, wvcen=5825.28\n",
      "Trial=268, arc=14, Nline1=4, Nidpix=4, NID2=14, NBAD=2, icen=1643.15, wvcen=5825.28\n",
      "Trial=275, arc=5, Nline1=3, Nidpix=3, NID2=4, NBAD=2, icen=640.706, wvcen=3605.49\n"
     ]
    }
   ],
   "source": [
    "reload(ptstinst)\n",
    "ptstinst.list_bad_ids(test_file)"
   ]
  },
  {
   "cell_type": "markdown",
   "metadata": {},
   "source": [
    "## Debug"
   ]
  },
  {
   "cell_type": "code",
   "execution_count": 14,
   "metadata": {
    "collapsed": false
   },
   "outputs": [
    {
     "name": "stderr",
     "output_type": "stream",
     "text": [
      "\u001b[1;32m[INFO]    ::\u001b[0m Rejecting select ZnI lines\n",
      "\u001b[1;32m[INFO]    ::\u001b[0m Rejecting select CdI lines\n",
      "\u001b[1;32m[INFO]    ::\u001b[0m Rejecting select HgI lines\n",
      "\u001b[1;32m[INFO]    ::\u001b[0m Rejecting select NeI lines"
     ]
    },
    {
     "name": "stdout",
     "output_type": "stream",
     "text": [
      "RMS = 0.0918316\n",
      "('pparam', array([ -2.18930409e+03,   7.08754612e-01,   9.55329789e-06]))\n",
      "('tparam', array([ -1.24048573e+03,   1.49186255e-01,   1.19380763e-04,\n",
      "        -7.17396265e-09]))\n",
      "tRMS = 0.077443\n",
      "max = 13.3761"
     ]
    },
    {
     "name": "stderr",
     "output_type": "stream",
     "text": [
      "\n",
      "\u001b[1;32m[INFO]    ::\u001b[0m Rejecting select ArI lines\n"
     ]
    },
    {
     "name": "stdout",
     "output_type": "stream",
     "text": [
      "\n",
      "p2 = 487.031\n",
      "p3 = 1727.78\n",
      "2 close lines\n",
      "NID = 13\n",
      "> /Users/xavier/local/Python/PYPIT/src/arholy.py(200)run_holy2()\n",
      "-> debugger.ximshow(metric)\n",
      "(Pdb) debugger.ximshow(metric)\n",
      "(Pdb)             from matplotlib import pyplot as plt             plt.clf()             ax = plt.gca()             ax.scatter(tcent, [0.5]*len(tcent), label='tcent')             for mpix in match_pix:                 ax.plot([mpix]*2, (0,1), 'r')             plt.show()             plt.close()\n",
      "*** SyntaxError: invalid syntax (<stdin>, line 1)\n",
      "(Pdb) tids\n",
      "array([ 3072.95  ,     0.    ,  3261.9951,  3283.28  ,  3303.53  ,\n",
      "        3345.98  ,  3404.6287,     0.    ,     0.    ,  3651.198 ,\n",
      "        3664.327 ,     0.    ,     0.    ,     0.    ,     0.    ,\n",
      "           0.    ,     0.    ,     0.    ,     0.    ,     0.    ,\n",
      "           0.    ,     0.    ,     0.    ,     0.    ,     0.    ,\n",
      "        4723.47  ,  4801.254 ,  4811.87  ,     0.    ,  5087.2393,\n",
      "        5156.0964,     0.    ,     0.    ,     0.    ,     0.    ,\n",
      "           0.    ,     0.    ])\n",
      "(Pdb) c\n",
      "--Return--\n",
      "> /Users/xavier/local/Python/PYPIT/holy_grail/test_instrument.py(376)debug_holy2_trial()->None\n",
      "-> debugger.set_trace()\n",
      "(Pdb) badID\n",
      "array([ True, False, False, False, False, False, False, False, False,\n",
      "       False, False, False, False, False, False, False, False], dtype=bool)\n",
      "(Pdb) all_idwv\n",
      "array([ 3076.79  ,  3261.9951,  3283.28  ,  3303.53  ,  3345.98  ,\n",
      "        3404.6287,  3651.198 ,  3664.327 ,  4047.708 ,  4078.988 ,\n",
      "        4359.56  ,  4681.45  ,  4723.47  ,  4811.87  ,  5087.2393,\n",
      "        5156.0964,  5462.268 ])\n",
      "(Pdb) tcent[0]\n",
      "8.5865319560693933\n",
      "(Pdb) all_idpix\n",
      "array([    8.58653196,   174.46841926,   193.06483623,   210.89974539,\n",
      "         247.69755028,   298.40248246,   506.35428511,   516.79013568,\n",
      "         830.33967743,   855.7305336 ,  1080.93574998,  1337.73209811,\n",
      "        1371.71028926,  1442.19050796,  1663.65050272,  1719.0264591 ,\n",
      "        1967.13295587])\n",
      "(Pdb) idpix\n",
      "array([ 1371.71028926,  1442.19050796,  1663.65050272,  1719.0264591 ,\n",
      "        1967.13295587])\n",
      "(Pdb) idwave\n",
      "array([ 4723.47  ,  4811.87  ,  5087.2393,  5156.0964,  5462.268 ])\n",
      "(Pdb) exit\n"
     ]
    },
    {
     "ename": "BdbQuit",
     "evalue": "",
     "output_type": "error",
     "traceback": [
      "\u001b[0;31m---------------------------------------------------------------------------\u001b[0m",
      "\u001b[0;31mBdbQuit\u001b[0m                                   Traceback (most recent call last)",
      "\u001b[0;32m<ipython-input-14-02b0df83c31c>\u001b[0m in \u001b[0;36m<module>\u001b[0;34m()\u001b[0m\n\u001b[1;32m      1\u001b[0m \u001b[0mreload\u001b[0m\u001b[0;34m(\u001b[0m\u001b[0mptstinst\u001b[0m\u001b[0;34m)\u001b[0m\u001b[0;34m\u001b[0m\u001b[0m\n\u001b[0;32m----> 2\u001b[0;31m \u001b[0mptstinst\u001b[0m\u001b[0;34m.\u001b[0m\u001b[0mdebug_holy2_trial\u001b[0m\u001b[0;34m(\u001b[0m\u001b[0marc_file\u001b[0m\u001b[0;34m,\u001b[0m \u001b[0mtest_file\u001b[0m\u001b[0;34m,\u001b[0m \u001b[0;36m15\u001b[0m\u001b[0;34m,\u001b[0m \u001b[0mngrid\u001b[0m\u001b[0;34m=\u001b[0m\u001b[0;36m800\u001b[0m\u001b[0;34m)\u001b[0m\u001b[0;34m\u001b[0m\u001b[0m\n\u001b[0m",
      "\u001b[0;32m/Users/xavier/local/Python/PYPIT/holy_grail/test_instrument.py\u001b[0m in \u001b[0;36mdebug_holy2_trial\u001b[0;34m(arc_file, test_file, trial, ngrid)\u001b[0m\n\u001b[1;32m    374\u001b[0m     \u001b[0mtmsk\u001b[0m\u001b[0;34m,\u001b[0m \u001b[0mtwv\u001b[0m \u001b[0;34m=\u001b[0m \u001b[0mset_ids_holy2\u001b[0m\u001b[0;34m(\u001b[0m\u001b[0mtcent\u001b[0m\u001b[0;34m,\u001b[0m \u001b[0mall_idpix\u001b[0m\u001b[0;34m,\u001b[0m \u001b[0mall_idwv\u001b[0m\u001b[0;34m)\u001b[0m\u001b[0;34m\u001b[0m\u001b[0m\n\u001b[1;32m    375\u001b[0m     \u001b[0mID\u001b[0m\u001b[0;34m,\u001b[0m \u001b[0mgdID\u001b[0m\u001b[0;34m,\u001b[0m \u001b[0mbadID\u001b[0m \u001b[0;34m=\u001b[0m \u001b[0mtest_holy\u001b[0m\u001b[0;34m.\u001b[0m\u001b[0mevalaute_ids\u001b[0m\u001b[0;34m(\u001b[0m\u001b[0mtids\u001b[0m\u001b[0;34m,\u001b[0m \u001b[0mtmsk\u001b[0m\u001b[0;34m,\u001b[0m \u001b[0mtwv\u001b[0m\u001b[0;34m)\u001b[0m\u001b[0;34m\u001b[0m\u001b[0m\n\u001b[0;32m--> 376\u001b[0;31m     \u001b[0mdebugger\u001b[0m\u001b[0;34m.\u001b[0m\u001b[0mset_trace\u001b[0m\u001b[0;34m(\u001b[0m\u001b[0;34m)\u001b[0m\u001b[0;34m\u001b[0m\u001b[0m\n\u001b[0m\u001b[1;32m    377\u001b[0m \u001b[0;34m\u001b[0m\u001b[0m\n\u001b[1;32m    378\u001b[0m def main(arc_file, ntrials, outfil, seed=1234, use_holy1=False, verbose=False,\n",
      "\u001b[0;32m/Users/xavier/anaconda/lib/python2.7/bdb.pyc\u001b[0m in \u001b[0;36mtrace_dispatch\u001b[0;34m(self, frame, event, arg)\u001b[0m\n\u001b[1;32m     51\u001b[0m             \u001b[0;32mreturn\u001b[0m \u001b[0mself\u001b[0m\u001b[0;34m.\u001b[0m\u001b[0mdispatch_call\u001b[0m\u001b[0;34m(\u001b[0m\u001b[0mframe\u001b[0m\u001b[0;34m,\u001b[0m \u001b[0marg\u001b[0m\u001b[0;34m)\u001b[0m\u001b[0;34m\u001b[0m\u001b[0m\n\u001b[1;32m     52\u001b[0m         \u001b[0;32mif\u001b[0m \u001b[0mevent\u001b[0m \u001b[0;34m==\u001b[0m \u001b[0;34m'return'\u001b[0m\u001b[0;34m:\u001b[0m\u001b[0;34m\u001b[0m\u001b[0m\n\u001b[0;32m---> 53\u001b[0;31m             \u001b[0;32mreturn\u001b[0m \u001b[0mself\u001b[0m\u001b[0;34m.\u001b[0m\u001b[0mdispatch_return\u001b[0m\u001b[0;34m(\u001b[0m\u001b[0mframe\u001b[0m\u001b[0;34m,\u001b[0m \u001b[0marg\u001b[0m\u001b[0;34m)\u001b[0m\u001b[0;34m\u001b[0m\u001b[0m\n\u001b[0m\u001b[1;32m     54\u001b[0m         \u001b[0;32mif\u001b[0m \u001b[0mevent\u001b[0m \u001b[0;34m==\u001b[0m \u001b[0;34m'exception'\u001b[0m\u001b[0;34m:\u001b[0m\u001b[0;34m\u001b[0m\u001b[0m\n\u001b[1;32m     55\u001b[0m             \u001b[0;32mreturn\u001b[0m \u001b[0mself\u001b[0m\u001b[0;34m.\u001b[0m\u001b[0mdispatch_exception\u001b[0m\u001b[0;34m(\u001b[0m\u001b[0mframe\u001b[0m\u001b[0;34m,\u001b[0m \u001b[0marg\u001b[0m\u001b[0;34m)\u001b[0m\u001b[0;34m\u001b[0m\u001b[0m\n",
      "\u001b[0;32m/Users/xavier/anaconda/lib/python2.7/bdb.pyc\u001b[0m in \u001b[0;36mdispatch_return\u001b[0;34m(self, frame, arg)\u001b[0m\n\u001b[1;32m     89\u001b[0m             \u001b[0;32mfinally\u001b[0m\u001b[0;34m:\u001b[0m\u001b[0;34m\u001b[0m\u001b[0m\n\u001b[1;32m     90\u001b[0m                 \u001b[0mself\u001b[0m\u001b[0;34m.\u001b[0m\u001b[0mframe_returning\u001b[0m \u001b[0;34m=\u001b[0m \u001b[0mNone\u001b[0m\u001b[0;34m\u001b[0m\u001b[0m\n\u001b[0;32m---> 91\u001b[0;31m             \u001b[0;32mif\u001b[0m \u001b[0mself\u001b[0m\u001b[0;34m.\u001b[0m\u001b[0mquitting\u001b[0m\u001b[0;34m:\u001b[0m \u001b[0;32mraise\u001b[0m \u001b[0mBdbQuit\u001b[0m\u001b[0;34m\u001b[0m\u001b[0m\n\u001b[0m\u001b[1;32m     92\u001b[0m         \u001b[0;32mreturn\u001b[0m \u001b[0mself\u001b[0m\u001b[0;34m.\u001b[0m\u001b[0mtrace_dispatch\u001b[0m\u001b[0;34m\u001b[0m\u001b[0m\n\u001b[1;32m     93\u001b[0m \u001b[0;34m\u001b[0m\u001b[0m\n",
      "\u001b[0;31mBdbQuit\u001b[0m: "
     ]
    }
   ],
   "source": [
    "reload(ptstinst)\n",
    "ptstinst.debug_holy2_trial(arc_file, test_file, 15, ngrid=800)"
   ]
  },
  {
   "cell_type": "code",
   "execution_count": null,
   "metadata": {
    "collapsed": true
   },
   "outputs": [],
   "source": []
  }
 ],
 "metadata": {
  "kernelspec": {
   "display_name": "Python 2",
   "language": "python",
   "name": "python2"
  },
  "language_info": {
   "codemirror_mode": {
    "name": "ipython",
    "version": 2
   },
   "file_extension": ".py",
   "mimetype": "text/x-python",
   "name": "python",
   "nbconvert_exporter": "python",
   "pygments_lexer": "ipython2",
   "version": "2.7.11"
  }
 },
 "nbformat": 4,
 "nbformat_minor": 0
}
