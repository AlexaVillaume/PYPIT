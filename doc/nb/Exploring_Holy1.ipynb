{
 "cells": [
  {
   "cell_type": "markdown",
   "metadata": {},
   "source": [
    "# Exploring Holy1 Performance"
   ]
  },
  {
   "cell_type": "code",
   "execution_count": 9,
   "metadata": {
    "collapsed": true
   },
   "outputs": [],
   "source": [
    "# imports\n",
    "from linetools import utils as ltu\n",
    "\n",
    "from xastropy.xutils import xdebug as xdb"
   ]
  },
  {
   "cell_type": "markdown",
   "metadata": {},
   "source": [
    "## LRIS Red\n",
    "    TEST_SUITES/LRIS_red/long_600_7500_d560"
   ]
  },
  {
   "cell_type": "markdown",
   "metadata": {},
   "source": [
    "### Notes\n",
    "    1. pdf sharply peaked near 21,000\n",
    "      -- But the code reports 244 peaks\n",
    "      -- Then trims down to 10\n",
    "\n",
    "    2. i=0\n",
    "      (Pdb) wmin\n",
    "      5521.6502597435046\n",
    "      (Pdb) wmax\n",
    "      8833.4606508588913\n",
    "\n",
    "      These look very good\n",
    "\n",
    "      (Pdb) (wmax-wmin)/npixels\n",
    "      1.6170949175368099\n",
    "      Also excellent"
   ]
  },
  {
   "cell_type": "markdown",
   "metadata": {},
   "source": [
    "### Comparing to 'reality'\n",
    "    PYPIT-development-suite/REDUX_OUT/LRIS_red/long_600_7500_d560/"
   ]
  },
  {
   "cell_type": "code",
   "execution_count": 4,
   "metadata": {
    "collapsed": true
   },
   "outputs": [],
   "source": [
    "wvcalib_fil = '/Users/xavier/local/Python/PYPIT-development-suite/REDUX_OUT/LRIS_red/long_600_7500_d560/MasterFrames/MasterWaveCalib_01.json'"
   ]
  },
  {
   "cell_type": "code",
   "execution_count": 8,
   "metadata": {
    "collapsed": false
   },
   "outputs": [
    {
     "data": {
      "text/plain": [
       "[u'function',\n",
       " u'ions',\n",
       " u'yrej',\n",
       " u'xnorm',\n",
       " u'fitc',\n",
       " u'nrej',\n",
       " u'mask',\n",
       " u'xrej',\n",
       " u'fmax',\n",
       " u'fmin',\n",
       " u'shift',\n",
       " u'xfit',\n",
       " u'yfit',\n",
       " u'spec']"
      ]
     },
     "execution_count": 8,
     "metadata": {},
     "output_type": "execute_result"
    }
   ],
   "source": [
    "wvcalib = ltu.loadjson(wvcalib_fil)\n",
    "wvcalib.keys()"
   ]
  },
  {
   "cell_type": "code",
   "execution_count": 14,
   "metadata": {
    "collapsed": false
   },
   "outputs": [
    {
     "name": "stdout",
     "output_type": "stream",
     "text": [
      "140.936828136 5771.21  \n",
      "154.428331418 5792.276 \n",
      "194.079562886 5854.1101\n",
      "205.859912367 5872.5432\n",
      "212.863004918 5883.5252\n",
      "253.05247185  5946.481 \n",
      "272.564401643 5977.1895\n",
      "307.273520193 6031.6666\n",
      "335.394896934 6076.0193\n",
      "349.252745411 6097.8506\n",
      "378.942620176 6144.7629\n",
      "391.933738163 6165.2994\n",
      "425.841520032 6219.0013\n",
      "456.891154805 6268.2285\n",
      "481.015449146 6306.5329\n",
      "499.631915576 6336.1791\n",
      "530.18142187  6384.756 \n",
      "542.273341192 6404.018 \n",
      "607.607388444 6508.3255\n",
      "624.118260221 6534.6872\n",
      "665.388893998 6600.7754\n",
      "714.878583022 6680.1205\n",
      "739.044025186 6718.8974\n",
      "871.128803425 6931.3787\n",
      "893.427812334 6967.352 \n",
      "956.465537052 7069.167 \n",
      "1005.9090251  7149.012 \n",
      "1022.53204851 7175.9154\n",
      "1066.61999287 7247.1631\n",
      "1083.79123637 7274.94  \n",
      "1152.3911687  7386.014 \n",
      "1186.31664277 7440.9469\n",
      "1217.16257131 7490.9335\n",
      "1233.12512982 7516.721 \n",
      "1246.1680233  7537.8488\n",
      "1278.06335919 7589.5025\n",
      "1286.78171123 7603.6384\n",
      "1307.55935898 7637.208 \n",
      "1344.24236024 7696.6579\n",
      "1443.37673042 7856.9844\n",
      "1501.14845337 7950.362 \n",
      "1537.09418757 8008.359 \n",
      "1570.13224106 8061.7211\n",
      "1651.17202542 8192.3082\n",
      "1677.04706491 8233.8964\n",
      "1718.40288341 8300.3907\n",
      "1767.86755951 8379.9093\n",
      "1787.00951509 8410.521 \n",
      "1841.33630488 8497.6932\n",
      "1849.84639078 8511.2106\n",
      "1857.67872996 8523.783 \n",
      "1941.00897661 8656.7599\n",
      "2018.04462476 8779.1607\n"
     ]
    }
   ],
   "source": [
    "xdb.xpcol(np.array(wvcalib['xfit'])*2047., wvcalib['yfit'])"
   ]
  },
  {
   "cell_type": "code",
   "execution_count": null,
   "metadata": {
    "collapsed": true
   },
   "outputs": [],
   "source": []
  }
 ],
 "metadata": {
  "kernelspec": {
   "display_name": "Python 2",
   "language": "python",
   "name": "python2"
  },
  "language_info": {
   "codemirror_mode": {
    "name": "ipython",
    "version": 2
   },
   "file_extension": ".py",
   "mimetype": "text/x-python",
   "name": "python",
   "nbconvert_exporter": "python",
   "pygments_lexer": "ipython2",
   "version": "2.7.11"
  }
 },
 "nbformat": 4,
 "nbformat_minor": 0
}
