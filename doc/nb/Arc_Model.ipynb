{
 "cells": [
  {
   "cell_type": "markdown",
   "metadata": {},
   "source": [
    "# Items related to generating an Arc Model"
   ]
  },
  {
   "cell_type": "code",
   "execution_count": 43,
   "metadata": {
    "collapsed": true
   },
   "outputs": [],
   "source": [
    "# imports\n",
    "import json\n",
    "from astropy.table import Table\n",
    "import pypit\n",
    "\n",
    "from pypit import pyputils\n",
    "msgs = pyputils.get_dummy_logger()\n",
    "from pypit import ararcmodel as pamodel"
   ]
  },
  {
   "cell_type": "markdown",
   "metadata": {},
   "source": [
    "## Line tables"
   ]
  },
  {
   "cell_type": "markdown",
   "metadata": {},
   "source": [
    "### Begin with LRISr, R600"
   ]
  },
  {
   "cell_type": "code",
   "execution_count": 3,
   "metadata": {
    "collapsed": true
   },
   "outputs": [],
   "source": [
    "# Load\n",
    "lrisr_file = os.getenv('DROPBOX_DIR')+'PYPIT/Holy_Grail/holy_grail/inputs/lrisr_600_7500_holy.json'\n",
    "with open(lrisr_file,'r') as f:\n",
    "    lrisr = json.load(f)"
   ]
  },
  {
   "cell_type": "markdown",
   "metadata": {},
   "source": [
    "### Full Table"
   ]
  },
  {
   "cell_type": "code",
   "execution_count": 11,
   "metadata": {
    "collapsed": false
   },
   "outputs": [],
   "source": [
    "lrisr_tbl = Table()"
   ]
  },
  {
   "cell_type": "code",
   "execution_count": 13,
   "metadata": {
    "collapsed": true
   },
   "outputs": [],
   "source": [
    "lrisr_tbl['ion'] = lrisr['ions']\n",
    "lrisr_tbl['wave'] = lrisr['yfit']\n",
    "lrisr_tbl['NIST'] = 1\n",
    "lrisr_tbl['Origin'] = 'LRISr      '"
   ]
  },
  {
   "cell_type": "code",
   "execution_count": 34,
   "metadata": {
    "collapsed": false
   },
   "outputs": [
    {
     "data": {
      "text/html": [
       "&lt;Table length=5&gt;\n",
       "<table id=\"table4557355408\" class=\"table-striped table-bordered table-condensed\">\n",
       "<thead><tr><th>ion</th><th>wave</th><th>NIST</th><th>Origin</th><th>amp</th></tr></thead>\n",
       "<thead><tr><th>unicode3</th><th>float64</th><th>int64</th><th>str11</th><th>float64</th></tr></thead>\n",
       "<tr><td>HgI</td><td>5771.21</td><td>1</td><td>LRISr</td><td>5510.92124457</td></tr>\n",
       "<tr><td>HgI</td><td>5792.276</td><td>1</td><td>LRISr</td><td>6029.11531164</td></tr>\n",
       "<tr><td>NeI</td><td>5854.1101</td><td>1</td><td>LRISr</td><td>7489.10805015</td></tr>\n",
       "<tr><td>KrI</td><td>5872.5432</td><td>1</td><td>LRISr</td><td>741.06102546</td></tr>\n",
       "<tr><td>NeI</td><td>5883.5252</td><td>1</td><td>LRISr</td><td>5962.74288009</td></tr>\n",
       "</table>"
      ],
      "text/plain": [
       "<Table length=5>\n",
       "  ion       wave    NIST    Origin        amp     \n",
       "unicode3  float64  int64    str11       float64   \n",
       "-------- --------- ----- ----------- -------------\n",
       "     HgI   5771.21     1 LRISr       5510.92124457\n",
       "     HgI  5792.276     1 LRISr       6029.11531164\n",
       "     NeI 5854.1101     1 LRISr       7489.10805015\n",
       "     KrI 5872.5432     1 LRISr        741.06102546\n",
       "     NeI 5883.5252     1 LRISr       5962.74288009"
      ]
     },
     "execution_count": 34,
     "metadata": {},
     "output_type": "execute_result"
    }
   ],
   "source": [
    "lrisr_tbl[0:5]"
   ]
  },
  {
   "cell_type": "markdown",
   "metadata": {},
   "source": [
    "### Amplitude"
   ]
  },
  {
   "cell_type": "code",
   "execution_count": 31,
   "metadata": {
    "collapsed": false
   },
   "outputs": [],
   "source": [
    "spec = np.array(lrisr['spec'])\n",
    "npix = spec.size\n",
    "#\n",
    "amps = []\n",
    "for jj,xfit in enumerate(lrisr['xfit']):\n",
    "    pix = int(np.round(xfit*(npix-1)))\n",
    "    amps.append(spec[pix])"
   ]
  },
  {
   "cell_type": "code",
   "execution_count": 32,
   "metadata": {
    "collapsed": true
   },
   "outputs": [],
   "source": [
    "lrisr_tbl['amp'] = amps"
   ]
  },
  {
   "cell_type": "markdown",
   "metadata": {},
   "source": [
    "### Generate Individual"
   ]
  },
  {
   "cell_type": "code",
   "execution_count": 44,
   "metadata": {
    "collapsed": false
   },
   "outputs": [
    {
     "name": "stderr",
     "output_type": "stream",
     "text": [
      "\u001b[1;32m[INFO]    ::\u001b[0m Generate new arc model table: /Users/xavier/local/Python/PYPIT/pypit/data/arc_lines/Model/ArI_model.ascii\n",
      "\u001b[1;32m[INFO]    ::\u001b[0m Generate new arc model table: /Users/xavier/local/Python/PYPIT/pypit/data/arc_lines/Model/HgI_model.ascii\n",
      "\u001b[1;32m[INFO]    ::\u001b[0m Generate new arc model table: /Users/xavier/local/Python/PYPIT/pypit/data/arc_lines/Model/KrI_model.ascii\n",
      "\u001b[1;32m[INFO]    ::\u001b[0m Generate new arc model table: /Users/xavier/local/Python/PYPIT/pypit/data/arc_lines/Model/NeI_model.ascii\n",
      "\u001b[1;32m[INFO]    ::\u001b[0m Generate new arc model table: /Users/xavier/local/Python/PYPIT/pypit/data/arc_lines/Model/XeI_model.ascii\n"
     ]
    }
   ],
   "source": [
    "reload(pamodel)\n",
    "pamodel.add_to_lists(lrisr_tbl)"
   ]
  },
  {
   "cell_type": "code",
   "execution_count": null,
   "metadata": {
    "collapsed": true
   },
   "outputs": [],
   "source": [
    "##"
   ]
  }
 ],
 "metadata": {
  "kernelspec": {
   "display_name": "Python 2",
   "language": "python",
   "name": "python2"
  },
  "language_info": {
   "codemirror_mode": {
    "name": "ipython",
    "version": 2
   },
   "file_extension": ".py",
   "mimetype": "text/x-python",
   "name": "python",
   "nbconvert_exporter": "python",
   "pygments_lexer": "ipython2",
   "version": "2.7.11"
  }
 },
 "nbformat": 4,
 "nbformat_minor": 0
}
