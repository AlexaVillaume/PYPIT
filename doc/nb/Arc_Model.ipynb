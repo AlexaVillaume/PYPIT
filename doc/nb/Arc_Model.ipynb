{
 "cells": [
  {
   "cell_type": "markdown",
   "metadata": {},
   "source": [
    "# Items related to generating an Arc Model"
   ]
  },
  {
   "cell_type": "code",
   "execution_count": 124,
   "metadata": {
    "collapsed": true
   },
   "outputs": [],
   "source": [
    "# imports\n",
    "import json\n",
    "from astropy.table import Table, vstack\n",
    "import pypit\n",
    "\n",
    "from pypit import pyputils\n",
    "from pypit import arutils\n",
    "msgs = pyputils.get_dummy_logger()\n",
    "from pypit import ararcmodel as pamodel"
   ]
  },
  {
   "cell_type": "markdown",
   "metadata": {},
   "source": [
    "## Line tables"
   ]
  },
  {
   "cell_type": "markdown",
   "metadata": {},
   "source": [
    "### Begin with LRISr, R600"
   ]
  },
  {
   "cell_type": "code",
   "execution_count": 3,
   "metadata": {
    "collapsed": true
   },
   "outputs": [],
   "source": [
    "# Load\n",
    "lrisr_file = os.getenv('DROPBOX_DIR')+'PYPIT/Holy_Grail/holy_grail/inputs/lrisr_600_7500_holy.json'\n",
    "with open(lrisr_file,'r') as f:\n",
    "    lrisr = json.load(f)"
   ]
  },
  {
   "cell_type": "code",
   "execution_count": 106,
   "metadata": {
    "collapsed": true
   },
   "outputs": [],
   "source": [
    "npix = len(lrisr['spec'])"
   ]
  },
  {
   "cell_type": "markdown",
   "metadata": {},
   "source": [
    "### Full Table"
   ]
  },
  {
   "cell_type": "code",
   "execution_count": 118,
   "metadata": {
    "collapsed": false
   },
   "outputs": [],
   "source": [
    "lrisr_tbl = Table()"
   ]
  },
  {
   "cell_type": "code",
   "execution_count": 119,
   "metadata": {
    "collapsed": true
   },
   "outputs": [],
   "source": [
    "lrisr_tbl['ion'] = lrisr['ions']\n",
    "lrisr_tbl['wave'] = lrisr['yfit']\n",
    "lrisr_tbl['NIST'] = 1\n",
    "lrisr_tbl['Origin'] = 'LRISr             '"
   ]
  },
  {
   "cell_type": "code",
   "execution_count": 120,
   "metadata": {
    "collapsed": false
   },
   "outputs": [
    {
     "data": {
      "text/html": [
       "&lt;Table length=5&gt;\n",
       "<table id=\"table4581457744\" class=\"table-striped table-bordered table-condensed\">\n",
       "<thead><tr><th>ion</th><th>wave</th><th>NIST</th><th>Origin</th></tr></thead>\n",
       "<thead><tr><th>unicode3</th><th>float64</th><th>int64</th><th>str18</th></tr></thead>\n",
       "<tr><td>HgI</td><td>5771.21</td><td>1</td><td>LRISr</td></tr>\n",
       "<tr><td>HgI</td><td>5792.276</td><td>1</td><td>LRISr</td></tr>\n",
       "<tr><td>NeI</td><td>5854.1101</td><td>1</td><td>LRISr</td></tr>\n",
       "<tr><td>KrI</td><td>5872.5432</td><td>1</td><td>LRISr</td></tr>\n",
       "<tr><td>NeI</td><td>5883.5252</td><td>1</td><td>LRISr</td></tr>\n",
       "</table>"
      ],
      "text/plain": [
       "<Table length=5>\n",
       "  ion       wave    NIST       Origin      \n",
       "unicode3  float64  int64       str18       \n",
       "-------- --------- ----- ------------------\n",
       "     HgI   5771.21     1 LRISr             \n",
       "     HgI  5792.276     1 LRISr             \n",
       "     NeI 5854.1101     1 LRISr             \n",
       "     KrI 5872.5432     1 LRISr             \n",
       "     NeI 5883.5252     1 LRISr             "
      ]
     },
     "execution_count": 120,
     "metadata": {},
     "output_type": "execute_result"
    }
   ],
   "source": [
    "lrisr_tbl[0:5]"
   ]
  },
  {
   "cell_type": "markdown",
   "metadata": {},
   "source": [
    "### Extras"
   ]
  },
  {
   "cell_type": "code",
   "execution_count": 111,
   "metadata": {
    "collapsed": false
   },
   "outputs": [
    {
     "data": {
      "text/plain": [
       "array([ 5771.26248628,  5792.27178383,  5854.15103369,  5872.56940052,\n",
       "        5883.51000008])"
      ]
     },
     "execution_count": 111,
     "metadata": {},
     "output_type": "execute_result"
    }
   ],
   "source": [
    "wave = arutils.func_val(lrisr['fitc'], np.array(lrisr['tcent'])/(npix-1), lrisr['function'], minv=lrisr['fmin'], maxv=lrisr['fmax'])\n",
    "wave[0:5]"
   ]
  },
  {
   "cell_type": "code",
   "execution_count": 114,
   "metadata": {
    "collapsed": false
   },
   "outputs": [
    {
     "data": {
      "text/plain": [
       "[6129.8094923151184,\n",
       " 6329.5403134529697,\n",
       " 6364.155954942953,\n",
       " 6422.0313714678696,\n",
       " 6440.3180037727343]"
      ]
     },
     "execution_count": 114,
     "metadata": {},
     "output_type": "execute_result"
    }
   ],
   "source": [
    "extras = []\n",
    "for iwave in wave:\n",
    "    if np.min(np.abs(lrisr_tbl['wave'].data-iwave)) > 0.5:\n",
    "        extras.append(iwave)\n",
    "extras[0:5]"
   ]
  },
  {
   "cell_type": "code",
   "execution_count": 123,
   "metadata": {
    "collapsed": false
   },
   "outputs": [],
   "source": [
    "extra_tbl = Table()\n",
    "extra_tbl['wave'] = extras\n",
    "extra_tbl['ion'] = 'UNK'\n",
    "extra_tbl['NIST'] = 0\n",
    "extra_tbl['Origin'] = 'LRISr_ArHgKrNeXe'"
   ]
  },
  {
   "cell_type": "code",
   "execution_count": 129,
   "metadata": {
    "collapsed": true
   },
   "outputs": [],
   "source": [
    "tot_tbl = vstack([lrisr_tbl,extra_tbl])\n",
    "tot_tbl.sort('wave')"
   ]
  },
  {
   "cell_type": "markdown",
   "metadata": {},
   "source": [
    "### Amplitude"
   ]
  },
  {
   "cell_type": "code",
   "execution_count": 31,
   "metadata": {
    "collapsed": false
   },
   "outputs": [],
   "source": [
    "spec = np.array(lrisr['spec'])\n",
    "npix = spec.size\n",
    "#\n",
    "amps = []\n",
    "for jj,xfit in enumerate(lrisr['xfit']):\n",
    "    pix = int(np.round(xfit*(npix-1)))\n",
    "    amps.append(spec[pix])"
   ]
  },
  {
   "cell_type": "code",
   "execution_count": 32,
   "metadata": {
    "collapsed": true
   },
   "outputs": [],
   "source": [
    "lrisr_tbl['amp'] = amps"
   ]
  },
  {
   "cell_type": "markdown",
   "metadata": {},
   "source": [
    "### Generate Individual files"
   ]
  },
  {
   "cell_type": "code",
   "execution_count": 44,
   "metadata": {
    "collapsed": false
   },
   "outputs": [
    {
     "name": "stderr",
     "output_type": "stream",
     "text": [
      "\u001b[1;32m[INFO]    ::\u001b[0m Generate new arc model table: /Users/xavier/local/Python/PYPIT/pypit/data/arc_lines/Model/ArI_model.ascii\n",
      "\u001b[1;32m[INFO]    ::\u001b[0m Generate new arc model table: /Users/xavier/local/Python/PYPIT/pypit/data/arc_lines/Model/HgI_model.ascii\n",
      "\u001b[1;32m[INFO]    ::\u001b[0m Generate new arc model table: /Users/xavier/local/Python/PYPIT/pypit/data/arc_lines/Model/KrI_model.ascii\n",
      "\u001b[1;32m[INFO]    ::\u001b[0m Generate new arc model table: /Users/xavier/local/Python/PYPIT/pypit/data/arc_lines/Model/NeI_model.ascii\n",
      "\u001b[1;32m[INFO]    ::\u001b[0m Generate new arc model table: /Users/xavier/local/Python/PYPIT/pypit/data/arc_lines/Model/XeI_model.ascii\n"
     ]
    }
   ],
   "source": [
    "reload(pamodel)\n",
    "pamodel.add_to_lists(lrisr_tbl)"
   ]
  },
  {
   "cell_type": "markdown",
   "metadata": {},
   "source": [
    "## Match to list"
   ]
  },
  {
   "cell_type": "markdown",
   "metadata": {},
   "source": [
    "### Simple tests first"
   ]
  },
  {
   "cell_type": "code",
   "execution_count": 56,
   "metadata": {
    "collapsed": false
   },
   "outputs": [
    {
     "data": {
      "text/html": [
       "&lt;Row index=9&gt;\n",
       "<table id=\"table4549826192\">\n",
       "<thead><tr><th>ion</th><th>wave</th><th>NIST</th><th>Origin</th><th>amp</th></tr></thead>\n",
       "<thead><tr><th>unicode3</th><th>float64</th><th>int64</th><th>str11</th><th>float64</th></tr></thead>\n",
       "<tr><td>NeI</td><td>6097.8506</td><td>1</td><td>LRISr</td><td>14599.2635971</td></tr>\n",
       "</table>"
      ],
      "text/plain": [
       "<Row index=9>\n",
       "  ion       wave    NIST    Origin        amp     \n",
       "unicode3  float64  int64    str11       float64   \n",
       "-------- --------- ----- ----------- -------------\n",
       "     NeI 6097.8506     1 LRISr       14599.2635971"
      ]
     },
     "execution_count": 56,
     "metadata": {},
     "output_type": "execute_result"
    }
   ],
   "source": [
    "lrisr_tbl[9]"
   ]
  },
  {
   "cell_type": "code",
   "execution_count": 85,
   "metadata": {
    "collapsed": false
   },
   "outputs": [
    {
     "data": {
      "text/plain": [
       "(array([ 1186.30899551,  1217.14719081,  1226.39690322,  1233.1139731 ]),\n",
       " [7440.9469, 7490.9335, 7505.935, 7516.721])"
      ]
     },
     "execution_count": 85,
     "metadata": {},
     "output_type": "execute_result"
    }
   ],
   "source": [
    "## Simple test\n",
    "idx = 32\n",
    "spec_lines = np.array(lrisr['xfit'][idx:idx+4]) * (npix-1)\n",
    "true_wv = lrisr['yfit'][idx:idx+4]\n",
    "#\n",
    "wvmnx = [true_wv[0]-100., true_wv[0]+100]\n",
    "#\n",
    "spec_lines, true_wv"
   ]
  },
  {
   "cell_type": "code",
   "execution_count": 86,
   "metadata": {
    "collapsed": false
   },
   "outputs": [
    {
     "name": "stdout",
     "output_type": "stream",
     "text": [
      "Trying 7386.01\n",
      "Trying 7440.95\n",
      "Trying 7490.93\n",
      "Trying 7505.94\n",
      "Trying 7516.72\n",
      "Trying 7537.85\n"
     ]
    }
   ],
   "source": [
    "reload(pamodel)\n",
    "matches = pamodel.match_quad_to_list(spec_lines, lrisr_tbl['wave'].data, wvmnx, 1.6)"
   ]
  },
  {
   "cell_type": "code",
   "execution_count": 87,
   "metadata": {
    "collapsed": false
   },
   "outputs": [
    {
     "data": {
      "text/plain": [
       "[[32, 33, 34, 35]]"
      ]
     },
     "execution_count": 87,
     "metadata": {},
     "output_type": "execute_result"
    }
   ],
   "source": [
    "matches"
   ]
  },
  {
   "cell_type": "markdown",
   "metadata": {},
   "source": [
    "### Loop through all"
   ]
  },
  {
   "cell_type": "code",
   "execution_count": 88,
   "metadata": {
    "collapsed": true
   },
   "outputs": [],
   "source": [
    "nlin = len(lrisr['xfit'])"
   ]
  },
  {
   "cell_type": "code",
   "execution_count": 133,
   "metadata": {
    "collapsed": true
   },
   "outputs": [],
   "source": [
    "# Init\n",
    "reload(pamodel)\n",
    "swv_uncertainty = 200.\n",
    "#\n",
    "final_idx = {}\n",
    "for ii in range(nlin):\n",
    "    final_idx[ii] = []"
   ]
  },
  {
   "cell_type": "code",
   "execution_count": 134,
   "metadata": {
    "collapsed": false
   },
   "outputs": [],
   "source": [
    "# Loop me\n",
    "#wvdata = lrisr_tbl['wave'].data\n",
    "wvdata = tot_tbl['wave'].data\n",
    "for idx in range(nlin-4):\n",
    "    # Setup\n",
    "    spec_lines = np.array(lrisr['xfit'][idx:idx+4]) * (npix-1)\n",
    "    wvmnx = [lrisr['yfit'][idx]-swv_uncertainty, lrisr['yfit'][idx]+swv_uncertainty]\n",
    "    # Run\n",
    "    matches = pamodel.match_quad_to_list(spec_lines, wvdata, wvmnx, 1.6, tol=1)\n",
    "    # Save\n",
    "    for match in matches:\n",
    "        for ii in range(4):\n",
    "            final_idx[idx+ii].append(match[ii])"
   ]
  },
  {
   "cell_type": "code",
   "execution_count": 135,
   "metadata": {
    "collapsed": false
   },
   "outputs": [
    {
     "data": {
      "text/plain": [
       "{0: [0],\n",
       " 1: [1, 1],\n",
       " 2: [2, 2, 2],\n",
       " 3: [3, 3, 3, 3],\n",
       " 4: [4, 4, 4, 4],\n",
       " 5: [5, 5, 5, 5],\n",
       " 6: [6, 6, 6, 6],\n",
       " 7: [7, 7, 7, 7],\n",
       " 8: [8, 8, 8, 8],\n",
       " 9: [9, 9, 9, 9],\n",
       " 10: [11, 11, 11, 11],\n",
       " 11: [12, 12, 12, 12],\n",
       " 12: [13, 13, 13, 13],\n",
       " 13: [14, 14, 14, 14],\n",
       " 14: [15, 15, 15, 15],\n",
       " 15: [17, 17, 17, 15, 17, 18],\n",
       " 16: [19, 19, 18, 19, 20, 19],\n",
       " 17: [20, 19, 20, 21, 20, 13, 20],\n",
       " 18: [25, 25, 25, 25, 15, 25, 25],\n",
       " 19: [26, 16, 26, 26, 26],\n",
       " 20: [19, 27, 27, 27, 27],\n",
       " 21: [28, 28, 28, 28],\n",
       " 22: [29, 29, 29, 29],\n",
       " 23: [31, 31, 31, 31],\n",
       " 24: [32, 32, 32, 32],\n",
       " 25: [34, 34, 34, 34],\n",
       " 26: [36, 36, 36, 36],\n",
       " 27: [37, 37, 37, 37],\n",
       " 28: [38, 38, 38, 38],\n",
       " 29: [40, 40, 40, 40, 43],\n",
       " 30: [41, 41, 41, 44, 41, 44],\n",
       " 31: [42, 42, 50, 42, 50, 42],\n",
       " 32: [43, 52, 43, 52, 43, 43],\n",
       " 33: [45, 55, 45, 45, 45],\n",
       " 34: [46, 46, 46, 46],\n",
       " 35: [47, 47, 47, 47],\n",
       " 36: [48, 48, 48, 48],\n",
       " 37: [49, 49, 49, 49],\n",
       " 38: [50, 50, 50, 50],\n",
       " 39: [54, 54, 54, 54],\n",
       " 40: [56, 56, 56, 56],\n",
       " 41: [58, 58, 58, 58],\n",
       " 42: [60, 60, 60, 60],\n",
       " 43: [66, 66, 66, 66],\n",
       " 44: [68, 68, 68, 68],\n",
       " 45: [71, 71, 71, 71],\n",
       " 46: [72, 72, 72, 68, 72],\n",
       " 47: [74, 74, 69, 74, 68, 74, 79],\n",
       " 48: [75, 71, 75, 69, 75, 81, 75, 76],\n",
       " 49: [75, 79, 73, 79, 85, 79, 79],\n",
       " 50: [74, 80, 86, 80, 80],\n",
       " 51: [84, 83],\n",
       " 52: []}"
      ]
     },
     "execution_count": 135,
     "metadata": {},
     "output_type": "execute_result"
    }
   ],
   "source": [
    "final_idx"
   ]
  },
  {
   "cell_type": "markdown",
   "metadata": {},
   "source": [
    "### Now with other lines in linelist"
   ]
  },
  {
   "cell_type": "code",
   "execution_count": 102,
   "metadata": {
    "collapsed": false
   },
   "outputs": [
    {
     "data": {
      "text/plain": [
       "(92, 53)"
      ]
     },
     "execution_count": 102,
     "metadata": {},
     "output_type": "execute_result"
    }
   ],
   "source": [
    "len(lrisr['tcent']), len(lrisr['xfit'])"
   ]
  },
  {
   "cell_type": "code",
   "execution_count": null,
   "metadata": {
    "collapsed": true
   },
   "outputs": [],
   "source": []
  }
 ],
 "metadata": {
  "kernelspec": {
   "display_name": "Python 2",
   "language": "python",
   "name": "python2"
  },
  "language_info": {
   "codemirror_mode": {
    "name": "ipython",
    "version": 2
   },
   "file_extension": ".py",
   "mimetype": "text/x-python",
   "name": "python",
   "nbconvert_exporter": "python",
   "pygments_lexer": "ipython2",
   "version": "2.7.11"
  }
 },
 "nbformat": 4,
 "nbformat_minor": 0
}
